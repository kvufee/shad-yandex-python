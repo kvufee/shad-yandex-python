{
 "cells": [
  {
   "cell_type": "markdown",
   "metadata": {
    "editable": true,
    "pycharm": {
     "name": "#%% md\n"
    },
    "slideshow": {
     "slide_type": "skip"
    },
    "tags": []
   },
   "source": [
    "<center>\n",
    "    <img src=\"https://upload.wikimedia.org/wikipedia/commons/a/a8/%D0%9B%D0%9E%D0%93%D0%9E_%D0%A8%D0%90%D0%94.png\" width=500px/>\n",
    "    <br/>\n",
    "    <font>Python 2024</font><br/>\n",
    "    <br/>\n",
    "    <br/>\n",
    "    <b style=\"font-size: 1.5em\">дескрипторы и метаклассы</b><br/>\n",
    "    <br/>\n",
    "    <font>Денис Макаров</font><br/>\n",
    "</center>"
   ]
  },
  {
   "cell_type": "code",
   "execution_count": 32,
   "metadata": {
    "editable": true,
    "pycharm": {
     "name": "#%%\n"
    },
    "scrolled": true,
    "slideshow": {
     "slide_type": "slide"
    },
    "tags": []
   },
   "outputs": [
    {
     "name": "stdout",
     "output_type": "stream",
     "text": [
      "Expected type <str> for name, got <int>\n",
      "Name should be non-empty alphanumeric string\n",
      "Name should be non-empty alphanumeric string\n"
     ]
    }
   ],
   "source": [
    "class Cow:\n",
    "    def __init__(self, name: str) -> None:\n",
    "        self.set_name(name)\n",
    "\n",
    "    # Хотим валидировать, чтобы имя было непустой строкой из символов\n",
    "    def set_name(self, name: str) -> None:\n",
    "        if not isinstance(name, str):\n",
    "            raise ValueError(f\"Expected type <str> for name, got <{type(name).__name__}>\")\n",
    "        if not name or not name.isalnum():\n",
    "            raise ValueError(\"Name should be non-empty alphanumeric string\")\n",
    "        self._name = name\n",
    "        \n",
    "cow = Cow(\"Isabella\")\n",
    "for name in (1, \"\", \"Ja Ra\"):\n",
    "    try:\n",
    "        cow.set_name(name)\n",
    "    except ValueError as e:\n",
    "        print(e)"
   ]
  },
  {
   "cell_type": "code",
   "execution_count": 2,
   "metadata": {
    "editable": true,
    "pycharm": {
     "name": "#%%\n"
    },
    "scrolled": true,
    "slideshow": {
     "slide_type": "slide"
    },
    "tags": []
   },
   "outputs": [],
   "source": [
    "class Sheep:\n",
    "    def __init__(self, name: str):\n",
    "        self.set_name(name)\n",
    "        \n",
    "    def set_name(self, name: str) -> None:\n",
    "        if not isinstance(name, str):\n",
    "            raise ValueError(f\"Expected type <str> for name, got <{type(name).__name__}>\")\n",
    "        if not name or not name.isalnum():\n",
    "            raise ValueError(\"Name should be non-empty alphanumeric string\")\n",
    "        self._name = name"
   ]
  },
  {
   "cell_type": "markdown",
   "metadata": {
    "editable": true,
    "pycharm": {
     "name": "#%% md\n"
    },
    "slideshow": {
     "slide_type": "slide"
    },
    "tags": []
   },
   "source": [
    "## Решения"
   ]
  },
  {
   "cell_type": "markdown",
   "metadata": {
    "editable": true,
    "slideshow": {
     "slide_type": "fragment"
    },
    "tags": []
   },
   "source": [
    "### Наследование"
   ]
  },
  {
   "cell_type": "code",
   "execution_count": 3,
   "metadata": {
    "editable": true,
    "pycharm": {
     "name": "#%%\n"
    },
    "scrolled": true,
    "slideshow": {
     "slide_type": "fragment"
    },
    "tags": []
   },
   "outputs": [
    {
     "name": "stdout",
     "output_type": "stream",
     "text": [
      "Name should be non-empty alphanumeric string\n",
      "Name should be non-empty alphanumeric string\n"
     ]
    }
   ],
   "source": [
    "class Animal:\n",
    "    def __init__(self, name: str) -> None:\n",
    "        self.set_name(name)\n",
    "        \n",
    "    def set_name(self, name: str) -> None:\n",
    "        if not isinstance(name, str):\n",
    "            raise ValueError(f\"Expected type <str> for name, got <{type(name).__name__}>\")\n",
    "        if not name or not name.isalnum():\n",
    "            raise ValueError(\"Name should be non-empty alphanumeric string\")\n",
    "        self._name = name\n",
    "        \n",
    "class Cow(Animal):\n",
    "    pass\n",
    "\n",
    "class Sheep(Animal):\n",
    "    pass\n",
    "\n",
    "cow = Cow(\"Isabella\")\n",
    "sheep = Sheep(\"Boris\")\n",
    "for animal in (cow, sheep):\n",
    "    try:\n",
    "        cow.set_name(\"\")\n",
    "    except ValueError as e:\n",
    "        print(e)"
   ]
  },
  {
   "cell_type": "markdown",
   "metadata": {
    "editable": true,
    "pycharm": {
     "name": "#%% md\n"
    },
    "slideshow": {
     "slide_type": "slide"
    },
    "tags": []
   },
   "source": [
    "### Проблема"
   ]
  },
  {
   "cell_type": "code",
   "execution_count": 4,
   "metadata": {
    "cell_style": "center",
    "editable": true,
    "pycharm": {
     "name": "#%%\n"
    },
    "scrolled": true,
    "slideshow": {
     "slide_type": ""
    },
    "tags": []
   },
   "outputs": [],
   "source": [
    "class Farmer:\n",
    "    def __init__(self, name: str, surname: str) -> None:\n",
    "        self.set_name(name)\n",
    "        self.set_surname(surname)\n",
    "        \n",
    "    def set_name(self, name: str) -> None:\n",
    "        if not isinstance(name, str):\n",
    "            raise ValueError(f\"Expected type <str> for name, got <{type(name).__name__}>\")\n",
    "        if not name or name.isalnum():\n",
    "            raise ValueError(\"Name should be non-empty alphanumeric string\")\n",
    "        self._name = name\n",
    "        \n",
    "    def set_surname(self, surname: str) -> None:\n",
    "        if not isinstance(surname, str):\n",
    "            raise ValueError(f\"Expected type <str> for name, got <{type(name).__name__}>\")\n",
    "        if not surname or not surname.isalnum():\n",
    "            raise ValueError(\"Name should be non-empty alphanumeric string\")\n",
    "        self._surname = surname"
   ]
  },
  {
   "cell_type": "code",
   "execution_count": 5,
   "metadata": {
    "cell_style": "center",
    "editable": true,
    "pycharm": {
     "name": "#%%\n"
    },
    "scrolled": true,
    "slideshow": {
     "slide_type": "slide"
    },
    "tags": []
   },
   "outputs": [],
   "source": [
    "class Farmer(Animal):  # <- казус\n",
    "    def __init__(self, name: str, surname: str) -> None:\n",
    "        super().__init__(name)\n",
    "        self.set_surname(surname)\n",
    "        \n",
    "    def set_surname(self, surname: str) -> None:\n",
    "        if not isinstance(surname, str):\n",
    "            raise ValueError(f\"Expected type <str> for name, got <{type(name).__name__}>\")\n",
    "        if not surname or not surname.isalnum():\n",
    "            raise ValueError(\"Name should be non-empty alphanumeric string\")\n",
    "        self._surname = surname"
   ]
  },
  {
   "cell_type": "markdown",
   "metadata": {
    "editable": true,
    "pycharm": {
     "name": "#%% md\n"
    },
    "slideshow": {
     "slide_type": "slide"
    },
    "tags": []
   },
   "source": [
    "## Дескрипторы\n",
    "https://docs.python.org/3/howto/descriptor.html"
   ]
  },
  {
   "cell_type": "code",
   "execution_count": 6,
   "metadata": {
    "editable": true,
    "slideshow": {
     "slide_type": ""
    },
    "tags": []
   },
   "outputs": [
    {
     "name": "stdout",
     "output_type": "stream",
     "text": [
      "Descriptor.__set__(self=<__main__.Descriptor object at 0x105f1fce0>, obj=<__main__.Class object at 0x105f1ed80>, value=10)\n",
      "Descriptor.__get__(self=<__main__.Descriptor object at 0x105f1fce0>, obj=<__main__.Class object at 0x105f1ed80>, objtype=<class '__main__.Class'>)\n",
      "Descriptor.__delete__(self=<__main__.Descriptor object at 0x105f1fce0>, obj=<__main__.Class object at 0x105f1ed80>)\n"
     ]
    }
   ],
   "source": [
    "class Descriptor:\n",
    "    # Any of this methods -> it is descriptor\n",
    "    def __get__(self, obj, objtype):\n",
    "        print(f\"Descriptor.__get__(self={self}, obj={obj}, objtype={objtype})\")\n",
    "\n",
    "    def __set__(self, obj, value):\n",
    "        print(f\"Descriptor.__set__(self={self}, obj={obj}, value={value})\")\n",
    "\n",
    "    def __delete__(self, obj):\n",
    "        print(f\"Descriptor.__delete__(self={self}, obj={obj})\")\n",
    "\n",
    "class Class:\n",
    "    attr = Descriptor()\n",
    "\n",
    "class_object = Class()\n",
    "class_object.attr = 10  # __set__ is called\n",
    "class_object.attr       # __get__ is called\n",
    "del class_object.attr   # __delete__ is called"
   ]
  },
  {
   "cell_type": "markdown",
   "metadata": {
    "editable": true,
    "slideshow": {
     "slide_type": "slide"
    },
    "tags": []
   },
   "source": [
    "### Валидация с помощью дескриптора"
   ]
  },
  {
   "cell_type": "code",
   "execution_count": 8,
   "metadata": {
    "editable": true,
    "pycharm": {
     "name": "#%%\n"
    },
    "scrolled": true,
    "slideshow": {
     "slide_type": ""
    },
    "tags": []
   },
   "outputs": [],
   "source": [
    "import typing as t\n",
    "\n",
    "class NonEmptyString:\n",
    "    \n",
    "    def __init__(self, name: str):\n",
    "        self._name = name\n",
    "    \n",
    "    def __get__(self, obj: t.Any | None, objtype: type) -> t.Any:\n",
    "        return getattr(obj, self._name)\n",
    "    \n",
    "    def __set__(self, obj: t.Any, value: str) -> None:\n",
    "        if not isinstance(value, str):\n",
    "            raise ValueError(\"Expected type <str> for value, got <{}>\".format(type(value).__name__))\n",
    "        if not value or not value.isalnum():\n",
    "            raise ValueError(\"Value should be non-empty alphanumeric string\")\n",
    "        setattr(obj, self._name, value)\n",
    "        \n",
    "    def __delete__(self, obj: t.Any) -> None:\n",
    "        raise ValueError(\"Value cannot be deleted\")"
   ]
  },
  {
   "cell_type": "code",
   "execution_count": 9,
   "metadata": {
    "editable": true,
    "pycharm": {
     "name": "#%%\n"
    },
    "slideshow": {
     "slide_type": "slide"
    },
    "tags": []
   },
   "outputs": [
    {
     "name": "stdout",
     "output_type": "stream",
     "text": [
      "Leo\n",
      "Nick\n"
     ]
    }
   ],
   "source": [
    "class Farmer:\n",
    "    name = NonEmptyString(\"_name\")\n",
    "    surname = NonEmptyString(\"_surname\")\n",
    "    \n",
    "    def __init__(self, name: str, surname: str):\n",
    "        self.name = name\n",
    "        self.surname = surname\n",
    "    \n",
    "\n",
    "farmer = Farmer(\"Leo\", \"Pellegro\")\n",
    "print(farmer.name)\n",
    "farmer.name = \"Nick\"\n",
    "print(farmer.name)"
   ]
  },
  {
   "cell_type": "code",
   "execution_count": 10,
   "metadata": {
    "editable": true,
    "pycharm": {
     "name": "#%%\n"
    },
    "slideshow": {
     "slide_type": "slide"
    },
    "tags": []
   },
   "outputs": [
    {
     "name": "stdout",
     "output_type": "stream",
     "text": [
      "Value should be non-empty alphanumeric string\n"
     ]
    }
   ],
   "source": [
    "try:\n",
    "    farmer.name = \"\"\n",
    "except ValueError as e:\n",
    "    print(e)"
   ]
  },
  {
   "cell_type": "code",
   "execution_count": 11,
   "metadata": {
    "editable": true,
    "pycharm": {
     "name": "#%%\n"
    },
    "slideshow": {
     "slide_type": ""
    },
    "tags": []
   },
   "outputs": [
    {
     "name": "stdout",
     "output_type": "stream",
     "text": [
      "Value cannot be deleted\n"
     ]
    }
   ],
   "source": [
    "try:\n",
    "    del farmer.name\n",
    "except ValueError as e:\n",
    "    print(e)"
   ]
  },
  {
   "cell_type": "markdown",
   "metadata": {
    "editable": true,
    "slideshow": {
     "slide_type": "slide"
    },
    "tags": []
   },
   "source": [
    "### `__set_name__`"
   ]
  },
  {
   "cell_type": "code",
   "execution_count": 12,
   "metadata": {
    "editable": true,
    "pycharm": {
     "name": "#%%\n"
    },
    "slideshow": {
     "slide_type": ""
    },
    "tags": []
   },
   "outputs": [],
   "source": [
    "# Python 3.6\n",
    "\n",
    "class NonEmptyString2:\n",
    "    \n",
    "    def __set_name__(self, owner: t.Any, name: str):\n",
    "        self._name = f\"_{name}\"\n",
    "\n",
    "    def __get__(self, obj: t.Any | None, objtype: type) -> t.Any:\n",
    "        return getattr(obj, self._name)\n",
    "\n",
    "    def __set__(self, obj: t.Any, value: str) -> None:\n",
    "        if not isinstance(value, str):\n",
    "            raise ValueError(\"Expected type <str> for value, got <{}>\".format(type(value).__name__))\n",
    "        if not value or not value.isalnum():\n",
    "            raise ValueError(\"Value should be non-empty alphanumeric string\")\n",
    "        setattr(obj, self._name, value)\n",
    "\n",
    "    def __delete__(self, obj: t.Any) -> None:\n",
    "        raise ValueError(\"Value cannot be deleted\")"
   ]
  },
  {
   "cell_type": "code",
   "execution_count": 13,
   "metadata": {
    "editable": true,
    "pycharm": {
     "name": "#%%\n"
    },
    "slideshow": {
     "slide_type": "subslide"
    },
    "tags": []
   },
   "outputs": [
    {
     "name": "stdout",
     "output_type": "stream",
     "text": [
      "Nikolai Jos\n",
      "{'_name': 'Nikolai', '_surname': 'Jos'}\n"
     ]
    }
   ],
   "source": [
    "class Farmer:\n",
    "    name = NonEmptyString2()\n",
    "    surname = NonEmptyString2()\n",
    "    \n",
    "    def __init__(self, name: str, surname: str) -> None:\n",
    "        self.name = name\n",
    "        self.surname = surname\n",
    "\n",
    "farmer = Farmer(\"Nikolai\", \"Jos\")\n",
    "print(farmer.name, farmer.surname)\n",
    "print(farmer.__dict__)"
   ]
  },
  {
   "cell_type": "markdown",
   "metadata": {
    "editable": true,
    "slideshow": {
     "slide_type": "slide"
    },
    "tags": []
   },
   "source": [
    "### Non-data descriptors vs data descriptors"
   ]
  },
  {
   "cell_type": "code",
   "execution_count": 14,
   "metadata": {
    "editable": true,
    "slideshow": {
     "slide_type": ""
    },
    "tags": []
   },
   "outputs": [],
   "source": [
    "# only get\n",
    "class NonDataDescriptor:\n",
    "    def __get__(self, obj, objtype):\n",
    "        pass\n",
    "\n",
    "# set or delete\n",
    "\n",
    "class DataDescriptor:\n",
    "    def __set__(self, obj, value):\n",
    "        pass\n",
    "\n",
    "class AlsoDataDescriptor:\n",
    "    def __delete__(self, obj):\n",
    "        pass"
   ]
  },
  {
   "cell_type": "markdown",
   "metadata": {
    "editable": true,
    "slideshow": {
     "slide_type": "slide"
    },
    "tags": []
   },
   "source": [
    "### Порядок доступа к аттрибуту"
   ]
  },
  {
   "cell_type": "markdown",
   "metadata": {
    "editable": true,
    "slideshow": {
     "slide_type": ""
    },
    "tags": []
   },
   "source": [
    "`object.__getattribute__`"
   ]
  },
  {
   "cell_type": "code",
   "execution_count": 15,
   "metadata": {
    "editable": true,
    "slideshow": {
     "slide_type": ""
    },
    "tags": []
   },
   "outputs": [],
   "source": [
    "def find_name_in_mro(cls, name, default):\n",
    "    \"Emulate _PyType_Lookup() in Objects/typeobject.c\"\n",
    "    for base in cls.__mro__:\n",
    "        if name in vars(base):\n",
    "            return vars(base)[name]\n",
    "    return default\n",
    "\n",
    "def object_getattribute(obj, name):\n",
    "    \"Emulate PyObject_GenericGetAttr() in Objects/object.c\"\n",
    "    null = object()\n",
    "    objtype = type(obj)\n",
    "    cls_var = find_name_in_mro(objtype, name, null)\n",
    "    descr_get = getattr(type(cls_var), '__get__', null)\n",
    "    if descr_get is not null:\n",
    "        if (hasattr(type(cls_var), '__set__')\n",
    "            or hasattr(type(cls_var), '__delete__')):\n",
    "            return descr_get(cls_var, obj, objtype)     # data descriptor\n",
    "    if hasattr(obj, '__dict__') and name in vars(obj):\n",
    "        return vars(obj)[name]                          # instance variable\n",
    "    if descr_get is not null:\n",
    "        return descr_get(cls_var, obj, objtype)         # non-data descriptor\n",
    "    if cls_var is not null:\n",
    "        return cls_var                                  # class variable\n",
    "    raise AttributeError(name)"
   ]
  },
  {
   "cell_type": "markdown",
   "metadata": {
    "editable": true,
    "pycharm": {
     "name": "#%% md\n"
    },
    "slideshow": {
     "slide_type": "slide"
    },
    "tags": []
   },
   "source": [
    "### `__getattribute__` vs `__getattr__`"
   ]
  },
  {
   "cell_type": "code",
   "execution_count": 16,
   "metadata": {
    "editable": true,
    "pycharm": {
     "name": "#%%\n"
    },
    "slideshow": {
     "slide_type": ""
    },
    "tags": []
   },
   "outputs": [],
   "source": [
    "def getattr_hook(obj, name):\n",
    "    \"Emulate slot_tp_getattr_hook() in Objects/typeobject.c\"\n",
    "    try:\n",
    "        return obj.__getattribute__(name)\n",
    "    except AttributeError:\n",
    "        if not hasattr(type(obj), '__getattr__'):\n",
    "            raise\n",
    "    return type(obj).__getattr__(obj, name)"
   ]
  },
  {
   "cell_type": "markdown",
   "metadata": {
    "editable": true,
    "pycharm": {
     "name": "#%% md\n"
    },
    "slideshow": {
     "slide_type": "slide"
    },
    "tags": []
   },
   "source": [
    "### Property"
   ]
  },
  {
   "cell_type": "code",
   "execution_count": 17,
   "metadata": {
    "editable": true,
    "pycharm": {
     "name": "#%%\n"
    },
    "scrolled": true,
    "slideshow": {
     "slide_type": ""
    },
    "tags": []
   },
   "outputs": [],
   "source": [
    "# https://docs.python.org/3/howto/descriptor.html#properties\n",
    "\n",
    "class Animal:\n",
    "    def __init__(self, usd_price: float) -> None:\n",
    "        self._usd_price = usd_price\n",
    "        \n",
    "    def get_price(self) -> float:\n",
    "        usd_to_rub = 67  # сходить за актуальным курсом usd\n",
    "        return self._usd_price * usd_to_rub\n",
    "    \n",
    "    def set_price(self, price: float) -> None:\n",
    "        if price <= 0:\n",
    "            raise ValueError(\"Price must be positive, got {}\".format(price))\n",
    "        self._usd_price = price"
   ]
  },
  {
   "cell_type": "code",
   "execution_count": 18,
   "metadata": {
    "editable": true,
    "pycharm": {
     "name": "#%%\n"
    },
    "scrolled": true,
    "slideshow": {
     "slide_type": "fragment"
    },
    "tags": []
   },
   "outputs": [
    {
     "name": "stdout",
     "output_type": "stream",
     "text": [
      "6700\n",
      "670\n",
      "Price must be positive, got -10\n"
     ]
    }
   ],
   "source": [
    "animal = Animal(100)\n",
    "print(animal.get_price())\n",
    "animal.set_price(10)\n",
    "print(animal.get_price())\n",
    "try:\n",
    "    animal.set_price(-10)\n",
    "except ValueError as e:\n",
    "    print(e)"
   ]
  },
  {
   "cell_type": "code",
   "execution_count": 19,
   "metadata": {
    "editable": true,
    "pycharm": {
     "name": "#%%\n"
    },
    "scrolled": true,
    "slideshow": {
     "slide_type": "slide"
    },
    "tags": []
   },
   "outputs": [],
   "source": [
    "class Animal:\n",
    "    def __init__(self, usd_price):\n",
    "        self._usd_price = usd_price\n",
    "        \n",
    "    @property\n",
    "    def price(self):\n",
    "        usd_to_rub = 67  # сходить за актуальным курсом usd\n",
    "        return self._usd_price * usd_to_rub"
   ]
  },
  {
   "cell_type": "code",
   "execution_count": 27,
   "metadata": {
    "editable": true,
    "pycharm": {
     "name": "#%%\n"
    },
    "scrolled": true,
    "slideshow": {
     "slide_type": "fragment"
    },
    "tags": []
   },
   "outputs": [
    {
     "name": "stdout",
     "output_type": "stream",
     "text": [
      "6700\n",
      "property 'price' of 'Animal' object has no setter\n"
     ]
    }
   ],
   "source": [
    "animal = Animal(100)\n",
    "print(animal.price)\n",
    "\n",
    "try:\n",
    "    animal.price = 10\n",
    "except AttributeError as e:\n",
    "    print(e)"
   ]
  },
  {
   "cell_type": "code",
   "execution_count": 28,
   "metadata": {
    "editable": true,
    "pycharm": {
     "name": "#%%\n"
    },
    "scrolled": true,
    "slideshow": {
     "slide_type": "slide"
    },
    "tags": []
   },
   "outputs": [],
   "source": [
    "class Animal:\n",
    "    def __init__(self, usd_price):\n",
    "        self._usd_price = usd_price\n",
    "        \n",
    "    @property\n",
    "    def price(self):\n",
    "        usd_to_rub = 67  # сходить за актуальным курсом usd\n",
    "        return self._usd_price * usd_to_rub\n",
    "    \n",
    "    @price.setter\n",
    "    def price(self, price):\n",
    "        if price <= 0:\n",
    "            raise ValueError(\"Price must be positive, got {}\".format(price))\n",
    "        self._usd_price = price"
   ]
  },
  {
   "cell_type": "code",
   "execution_count": 29,
   "metadata": {
    "editable": true,
    "pycharm": {
     "name": "#%%\n"
    },
    "scrolled": true,
    "slideshow": {
     "slide_type": "fragment"
    },
    "tags": []
   },
   "outputs": [
    {
     "name": "stdout",
     "output_type": "stream",
     "text": [
      "6700\n",
      "670\n",
      "Price must be positive, got -10\n"
     ]
    }
   ],
   "source": [
    "animal = Animal(100)\n",
    "print(animal.price)\n",
    "animal.price = 10\n",
    "print(animal.price)\n",
    "try:\n",
    "    animal.price = -10\n",
    "except ValueError as e:\n",
    "    print(e)"
   ]
  },
  {
   "cell_type": "code",
   "execution_count": 30,
   "metadata": {
    "editable": true,
    "pycharm": {
     "name": "#%%\n"
    },
    "slideshow": {
     "slide_type": "slide"
    },
    "tags": []
   },
   "outputs": [],
   "source": [
    "class Animal:\n",
    "    def __init__(self, usd_price: float) -> None:\n",
    "        self._usd_price = usd_price\n",
    "        \n",
    "    def get_price(self) -> float:\n",
    "        usd_to_rub = 67  # сходить за актуальным курсом usd\n",
    "        return self._usd_price * usd_to_rub\n",
    "    \n",
    "    def set_price(self, price: float) -> None:\n",
    "        if price <= 0:\n",
    "            raise ValueError(\"Price must be positive, got {}\".format(price))\n",
    "        self._usd_price = price\n",
    "        \n",
    "    price = property(get_price, set_price)"
   ]
  },
  {
   "cell_type": "code",
   "execution_count": 31,
   "metadata": {
    "editable": true,
    "slideshow": {
     "slide_type": "slide"
    },
    "tags": []
   },
   "outputs": [],
   "source": [
    "class Property:\n",
    "    \"Emulate PyProperty_Type() in Objects/descrobject.c\"\n",
    "\n",
    "    def __init__(self, fget=None, fset=None, fdel=None, doc=None):\n",
    "        self.fget = fget\n",
    "        self.fset = fset\n",
    "        self.fdel = fdel\n",
    "        if doc is None and fget is not None:\n",
    "            doc = fget.__doc__\n",
    "        self.__doc__ = doc\n",
    "\n",
    "    def __set_name__(self, owner, name):\n",
    "        self.__name__ = name\n",
    "\n",
    "    def __get__(self, obj, objtype=None):\n",
    "        if obj is None:\n",
    "            return self\n",
    "        if self.fget is None:\n",
    "            raise AttributeError\n",
    "        return self.fget(obj)\n",
    "\n",
    "    def __set__(self, obj, value):\n",
    "        if self.fset is None:\n",
    "            raise AttributeError\n",
    "        self.fset(obj, value)\n",
    "\n",
    "    def __delete__(self, obj):\n",
    "        if self.fdel is None:\n",
    "            raise AttributeError\n",
    "        self.fdel(obj)\n",
    "\n",
    "    def getter(self, fget):\n",
    "        return type(self)(fget, self.fset, self.fdel, self.__doc__)\n",
    "\n",
    "    def setter(self, fset):\n",
    "        return type(self)(self.fget, fset, self.fdel, self.__doc__)\n",
    "\n",
    "    def deleter(self, fdel):\n",
    "        return type(self)(self.fget, self.fset, fdel, self.__doc__)"
   ]
  },
  {
   "cell_type": "markdown",
   "metadata": {
    "editable": true,
    "slideshow": {
     "slide_type": "slide"
    },
    "tags": []
   },
   "source": [
    "Тоже дескрипторы или ведут себя как дескрипторы:\n",
    "1) methods, `staticmethod`, `classmethod`\n",
    "2) `django.db.models.Field`, `sqlalchemy.Column`\n",
    "3) `dataclasses.field`  "
   ]
  },
  {
   "cell_type": "markdown",
   "metadata": {
    "editable": true,
    "slideshow": {
     "slide_type": "slide"
    },
    "tags": []
   },
   "source": [
    "## Вопросы?"
   ]
  },
  {
   "cell_type": "markdown",
   "metadata": {
    "editable": true,
    "pycharm": {
     "name": "#%% md\n"
    },
    "slideshow": {
     "slide_type": "slide"
    },
    "tags": []
   },
   "source": [
    "## Создание объектов"
   ]
  },
  {
   "cell_type": "markdown",
   "metadata": {
    "editable": true,
    "pycharm": {
     "name": "#%% md\n"
    },
    "slideshow": {
     "slide_type": "slide"
    },
    "tags": []
   },
   "source": [
    "### Инициализация"
   ]
  },
  {
   "cell_type": "code",
   "execution_count": null,
   "metadata": {
    "editable": true,
    "pycharm": {
     "name": "#%%\n"
    },
    "slideshow": {
     "slide_type": "fragment"
    },
    "tags": []
   },
   "outputs": [],
   "source": [
    "class Class1:      \n",
    "    def __init__(self, x: int) -> None:\n",
    "        print(f\"Class1.__init__({x})\")\n",
    "        self.x = x\n",
    "        \n",
    "a = Class1(1)\n",
    "print(type(a))\n",
    "print(a.x)"
   ]
  },
  {
   "cell_type": "code",
   "execution_count": 34,
   "metadata": {
    "editable": true,
    "slideshow": {
     "slide_type": "slide"
    },
    "tags": []
   },
   "outputs": [
    {
     "name": "stdout",
     "output_type": "stream",
     "text": [
      "Class1.__init__(1)\n",
      "<class '__main__.Class1'>\n",
      "1\n"
     ]
    }
   ],
   "source": [
    "class Class1:      \n",
    "    def __init__(self, x: int) -> None:\n",
    "        print(f\"Class1.__init__({x})\")\n",
    "        self.x = x\n",
    "        \n",
    "a = Class1(1)\n",
    "print(type(a))\n",
    "print(a.x)"
   ]
  },
  {
   "cell_type": "markdown",
   "metadata": {
    "editable": true,
    "pycharm": {
     "name": "#%% md\n"
    },
    "slideshow": {
     "slide_type": "slide"
    },
    "tags": []
   },
   "source": [
    "![__init__](meta/img/img.001.jpeg \"__init__\")"
   ]
  },
  {
   "cell_type": "markdown",
   "metadata": {
    "editable": true,
    "pycharm": {
     "name": "#%% md\n"
    },
    "slideshow": {
     "slide_type": "slide"
    },
    "tags": []
   },
   "source": [
    "### Выделение памяти под объект"
   ]
  },
  {
   "cell_type": "code",
   "execution_count": null,
   "metadata": {
    "editable": true,
    "pycharm": {
     "name": "#%%\n"
    },
    "slideshow": {
     "slide_type": "slide"
    },
    "tags": []
   },
   "outputs": [],
   "source": [
    "class Class:\n",
    "    pass"
   ]
  },
  {
   "cell_type": "code",
   "execution_count": null,
   "metadata": {
    "editable": true,
    "pycharm": {
     "name": "#%%\n"
    },
    "slideshow": {
     "slide_type": "fragment"
    },
    "tags": []
   },
   "outputs": [],
   "source": [
    "c = Class()"
   ]
  },
  {
   "cell_type": "code",
   "execution_count": null,
   "metadata": {
    "editable": true,
    "pycharm": {
     "name": "#%%\n"
    },
    "slideshow": {
     "slide_type": "fragment"
    },
    "tags": []
   },
   "outputs": [],
   "source": [
    "import dis\n",
    "\n",
    "def f():\n",
    "    return Class()\n",
    "    \n",
    "dis.dis(f)"
   ]
  },
  {
   "cell_type": "code",
   "execution_count": null,
   "metadata": {
    "editable": true,
    "pycharm": {
     "name": "#%%\n"
    },
    "slideshow": {
     "slide_type": "slide"
    },
    "tags": []
   },
   "outputs": [],
   "source": [
    "# kindof\n",
    "def Class(*args, **kwargs) -> Class:\n",
    "    ???"
   ]
  },
  {
   "cell_type": "code",
   "execution_count": null,
   "metadata": {
    "editable": true,
    "pycharm": {
     "name": "#%%\n"
    },
    "slideshow": {
     "slide_type": "fragment"
    },
    "tags": []
   },
   "outputs": [],
   "source": [
    "# kindof\n",
    "def Class(*args, **kwargs) -> Class:\n",
    "    # выделить место под объект\n",
    "    # инициализировать объект\n",
    "    # вернуть готовый объект"
   ]
  },
  {
   "cell_type": "code",
   "execution_count": null,
   "metadata": {
    "editable": true,
    "pycharm": {
     "name": "#%%\n"
    },
    "slideshow": {
     "slide_type": "slide"
    },
    "tags": []
   },
   "outputs": [],
   "source": [
    "# kindof\n",
    "def Class(*args, **kwargs) -> Class:\n",
    "    # выделить место под объект\n",
    "    obj = ???\n",
    "    # инициализировать объект\n",
    "    Class.__init__(obj, *args, **kwargs)\n",
    "    # вернуть готовый объект\n",
    "    return obj"
   ]
  },
  {
   "cell_type": "code",
   "execution_count": null,
   "metadata": {
    "editable": true,
    "pycharm": {
     "name": "#%%\n"
    },
    "slideshow": {
     "slide_type": "fragment"
    },
    "tags": []
   },
   "outputs": [],
   "source": [
    "# kindof\n",
    "def Class(*args, **kwargs) -> Class:\n",
    "    # выделить место под объект\n",
    "    obj = Class.__new__(*args, **kwargs)\n",
    "    # инициализировать объект\n",
    "    Class.__init__(obj, *args, **kwargs)\n",
    "    # вернуть готовый объект\n",
    "    return obj"
   ]
  },
  {
   "cell_type": "code",
   "execution_count": null,
   "metadata": {
    "editable": true,
    "pycharm": {
     "name": "#%%\n"
    },
    "slideshow": {
     "slide_type": "slide"
    },
    "tags": []
   },
   "outputs": [],
   "source": [
    "class Class2:\n",
    "    def __new__(cls, *args) -> \"Class2\":\n",
    "        print(f\"Class2.__new__(cls={cls}, args={args})\")\n",
    "        return object.__new__(cls)\n",
    "    \n",
    "    def __init__(self, *args) -> None:\n",
    "        print(f\"Class2.__init__({args})\")\n",
    "        \n",
    "c = Class2(2)\n",
    "print(type(c))"
   ]
  },
  {
   "cell_type": "code",
   "execution_count": 35,
   "metadata": {
    "editable": true,
    "pycharm": {
     "name": "#%%\n"
    },
    "slideshow": {
     "slide_type": "slide"
    },
    "tags": []
   },
   "outputs": [
    {
     "name": "stdout",
     "output_type": "stream",
     "text": [
      "Class2.__new__(cls=<class '__main__.Class2'>, args=(2,))\n",
      "Class2.__init__((2,))\n",
      "<class '__main__.Class2'>\n"
     ]
    }
   ],
   "source": [
    "class Class2:\n",
    "    def __new__(cls, *args) -> \"Class2\":\n",
    "        print(f\"Class2.__new__(cls={cls}, args={args})\")\n",
    "        return object.__new__(cls)\n",
    "    \n",
    "    def __init__(self, *args) -> None:\n",
    "        print(f\"Class2.__init__({args})\")\n",
    "        \n",
    "c = Class2(2)\n",
    "print(type(c))"
   ]
  },
  {
   "cell_type": "code",
   "execution_count": 36,
   "metadata": {
    "editable": true,
    "pycharm": {
     "name": "#%%\n"
    },
    "slideshow": {
     "slide_type": "slide"
    },
    "tags": []
   },
   "outputs": [
    {
     "name": "stdout",
     "output_type": "stream",
     "text": [
      "Class2.__new__(cls=<class '__main__.Class2'>, args=(1,))\n",
      "Class2.__init__((1,))\n",
      "-\n",
      "Class2.__new__(cls=<class '__main__.Class2'>, args=(1,))\n",
      "Class2.__init__((1,))\n"
     ]
    }
   ],
   "source": [
    "c = Class2(1)\n",
    "print(\"-\")\n",
    "c = Class2.__new__(Class2, 1)\n",
    "c.__init__(1)"
   ]
  },
  {
   "cell_type": "code",
   "execution_count": null,
   "metadata": {
    "editable": true,
    "pycharm": {
     "name": "#%%\n"
    },
    "slideshow": {
     "slide_type": "slide"
    },
    "tags": []
   },
   "outputs": [],
   "source": [
    "# Забавная штука\n",
    "class Class2:\n",
    "    def __new__(cls, *args) -> int:\n",
    "        return 1\n",
    "    \n",
    "    def __init__(self, *args) -> None:\n",
    "        self.x = args[0]\n",
    "        \n",
    "x = Class2()\n",
    "print(type(x))\n",
    "print(x.x)"
   ]
  },
  {
   "cell_type": "code",
   "execution_count": 37,
   "metadata": {
    "editable": true,
    "pycharm": {
     "name": "#%%\n"
    },
    "slideshow": {
     "slide_type": "slide"
    },
    "tags": []
   },
   "outputs": [
    {
     "name": "stdout",
     "output_type": "stream",
     "text": [
      "<class 'int'>\n"
     ]
    },
    {
     "ename": "AttributeError",
     "evalue": "'int' object has no attribute 'x'",
     "output_type": "error",
     "traceback": [
      "\u001b[0;31m---------------------------------------------------------------------------\u001b[0m",
      "\u001b[0;31mAttributeError\u001b[0m                            Traceback (most recent call last)",
      "Cell \u001b[0;32mIn[37], line 11\u001b[0m\n\u001b[1;32m      9\u001b[0m x \u001b[38;5;241m=\u001b[39m Class2()\n\u001b[1;32m     10\u001b[0m \u001b[38;5;28mprint\u001b[39m(\u001b[38;5;28mtype\u001b[39m(x))\n\u001b[0;32m---> 11\u001b[0m \u001b[38;5;28mprint\u001b[39m(\u001b[43mx\u001b[49m\u001b[38;5;241;43m.\u001b[39;49m\u001b[43mx\u001b[49m)\n",
      "\u001b[0;31mAttributeError\u001b[0m: 'int' object has no attribute 'x'"
     ]
    }
   ],
   "source": [
    "# Забавная штука\n",
    "class Class2:\n",
    "    def __new__(cls, *args) -> int:\n",
    "        return 1\n",
    "    \n",
    "    def __init__(self, *args) -> None:\n",
    "        self.x = args[0]\n",
    "        \n",
    "x = Class2()\n",
    "print(type(x))\n",
    "print(x.x)"
   ]
  },
  {
   "cell_type": "code",
   "execution_count": null,
   "metadata": {
    "editable": true,
    "pycharm": {
     "name": "#%%\n"
    },
    "slideshow": {
     "slide_type": "slide"
    },
    "tags": []
   },
   "outputs": [],
   "source": [
    "c = Class2(1)\n",
    "print(\"-\")\n",
    "c = Class2.__new__(Class2, 1)\n",
    "if isinstance(c, Class2):\n",
    "    c.__init__(1)"
   ]
  },
  {
   "cell_type": "markdown",
   "metadata": {
    "editable": true,
    "pycharm": {
     "name": "#%% md\n"
    },
    "slideshow": {
     "slide_type": "slide"
    },
    "tags": []
   },
   "source": [
    "![__new__](meta/img/img.002.jpeg \"__new__\")"
   ]
  },
  {
   "cell_type": "markdown",
   "metadata": {
    "editable": true,
    "pycharm": {
     "name": "#%% md\n"
    },
    "slideshow": {
     "slide_type": "slide"
    },
    "tags": []
   },
   "source": [
    "### Загадка"
   ]
  },
  {
   "cell_type": "code",
   "execution_count": 40,
   "metadata": {
    "editable": true,
    "pycharm": {
     "name": "#%%\n"
    },
    "slideshow": {
     "slide_type": "fragment"
    },
    "tags": []
   },
   "outputs": [
    {
     "name": "stdout",
     "output_type": "stream",
     "text": [
      "{'__module__': '__main__', '__dict__': <attribute '__dict__' of 'Class' objects>, '__weakref__': <attribute '__weakref__' of 'Class' objects>, '__doc__': None}\n",
      "{}\n"
     ]
    }
   ],
   "source": [
    "class Class:\n",
    "    pass\n",
    "\n",
    "def func():\n",
    "    pass\n",
    "\n",
    "print(Class.__dict__)\n",
    "print(func.__dict__)"
   ]
  },
  {
   "cell_type": "code",
   "execution_count": 41,
   "metadata": {
    "editable": true,
    "pycharm": {
     "name": "#%%\n"
    },
    "slideshow": {
     "slide_type": "slide"
    },
    "tags": []
   },
   "outputs": [
    {
     "data": {
      "text/plain": [
       "<__main__.Class at 0x106063aa0>"
      ]
     },
     "execution_count": 41,
     "metadata": {},
     "output_type": "execute_result"
    }
   ],
   "source": [
    "class Class:\n",
    "    @classmethod\n",
    "    def __call__(cls):\n",
    "        raise RuntimeError()\n",
    "\n",
    "x = Class()\n",
    "x"
   ]
  },
  {
   "cell_type": "code",
   "execution_count": 42,
   "metadata": {
    "editable": true,
    "pycharm": {
     "name": "#%%\n"
    },
    "slideshow": {
     "slide_type": "fragment"
    },
    "tags": []
   },
   "outputs": [
    {
     "ename": "RuntimeError",
     "evalue": "",
     "output_type": "error",
     "traceback": [
      "\u001b[0;31m---------------------------------------------------------------------------\u001b[0m",
      "\u001b[0;31mRuntimeError\u001b[0m                              Traceback (most recent call last)",
      "Cell \u001b[0;32mIn[42], line 1\u001b[0m\n\u001b[0;32m----> 1\u001b[0m \u001b[43mx\u001b[49m\u001b[43m(\u001b[49m\u001b[43m)\u001b[49m\n",
      "Cell \u001b[0;32mIn[41], line 4\u001b[0m, in \u001b[0;36mClass.__call__\u001b[0;34m(cls)\u001b[0m\n\u001b[1;32m      2\u001b[0m \u001b[38;5;129m@classmethod\u001b[39m\n\u001b[1;32m      3\u001b[0m \u001b[38;5;28;01mdef\u001b[39;00m \u001b[38;5;21m__call__\u001b[39m(\u001b[38;5;28mcls\u001b[39m):\n\u001b[0;32m----> 4\u001b[0m     \u001b[38;5;28;01mraise\u001b[39;00m \u001b[38;5;167;01mRuntimeError\u001b[39;00m()\n",
      "\u001b[0;31mRuntimeError\u001b[0m: "
     ]
    }
   ],
   "source": [
    "x()"
   ]
  },
  {
   "cell_type": "code",
   "execution_count": 43,
   "metadata": {
    "editable": true,
    "pycharm": {
     "name": "#%%\n"
    },
    "slideshow": {
     "slide_type": "slide"
    },
    "tags": []
   },
   "outputs": [],
   "source": [
    "# https://docs.python.org/3/library/functions.html#type\n",
    "\n",
    "class X:\n",
    "    a = 1\n",
    "\n",
    "X = type(\"X\", (object, ), dict(a=1))"
   ]
  },
  {
   "cell_type": "code",
   "execution_count": 44,
   "metadata": {
    "editable": true,
    "pycharm": {
     "name": "#%%\n"
    },
    "slideshow": {
     "slide_type": "fragment"
    },
    "tags": []
   },
   "outputs": [
    {
     "name": "stdout",
     "output_type": "stream",
     "text": [
      "<method-wrapper '__call__' of type object at 0x109e1b260>\n",
      "<__main__.Class object at 0x10603e270>\n"
     ]
    }
   ],
   "source": [
    "Class = type(\"Class\", (object, ), dict())\n",
    "print(Class.__call__)\n",
    "print(Class.__call__())"
   ]
  },
  {
   "cell_type": "code",
   "execution_count": 33,
   "metadata": {
    "editable": true,
    "pycharm": {
     "name": "#%%\n"
    },
    "slideshow": {
     "slide_type": "fragment"
    },
    "tags": []
   },
   "outputs": [
    {
     "ename": "RuntimeError",
     "evalue": "",
     "output_type": "error",
     "traceback": [
      "\u001b[0;31m---------------------------------------------------------------------------\u001b[0m",
      "\u001b[0;31mRuntimeError\u001b[0m                              Traceback (most recent call last)",
      "Cell \u001b[0;32mIn[33], line 6\u001b[0m\n\u001b[1;32m      4\u001b[0m Class \u001b[38;5;241m=\u001b[39m \u001b[38;5;28mtype\u001b[39m(\u001b[38;5;124m\"\u001b[39m\u001b[38;5;124mClass\u001b[39m\u001b[38;5;124m\"\u001b[39m, (\u001b[38;5;28mobject\u001b[39m, ), {\u001b[38;5;124m\"\u001b[39m\u001b[38;5;124m__call__\u001b[39m\u001b[38;5;124m\"\u001b[39m: class_call})\n\u001b[1;32m      5\u001b[0m x \u001b[38;5;241m=\u001b[39m Class()\n\u001b[0;32m----> 6\u001b[0m \u001b[43mx\u001b[49m\u001b[43m(\u001b[49m\u001b[43m)\u001b[49m\n",
      "Cell \u001b[0;32mIn[33], line 2\u001b[0m, in \u001b[0;36mclass_call\u001b[0;34m(self)\u001b[0m\n\u001b[1;32m      1\u001b[0m \u001b[38;5;28;01mdef\u001b[39;00m \u001b[38;5;21mclass_call\u001b[39m(\u001b[38;5;28mself\u001b[39m):\n\u001b[0;32m----> 2\u001b[0m     \u001b[38;5;28;01mraise\u001b[39;00m \u001b[38;5;167;01mRuntimeError\u001b[39;00m()\n",
      "\u001b[0;31mRuntimeError\u001b[0m: "
     ]
    }
   ],
   "source": [
    "def class_call(self):\n",
    "    raise RuntimeError()\n",
    "\n",
    "Class = type(\"Class\", (object, ), {\"__call__\": class_call})\n",
    "x = Class()\n",
    "x()"
   ]
  },
  {
   "cell_type": "markdown",
   "metadata": {
    "editable": true,
    "pycharm": {
     "name": "#%% md\n"
    },
    "slideshow": {
     "slide_type": "slide"
    },
    "tags": []
   },
   "source": [
    "### PyTypeObject"
   ]
  },
  {
   "cell_type": "markdown",
   "metadata": {
    "editable": true,
    "pycharm": {
     "name": "#%% md\n"
    },
    "slideshow": {
     "slide_type": "fragment"
    },
    "tags": []
   },
   "source": [
    "```c++\n",
    "struct PyTypeObject {\n",
    "    PyObject* tp_name;\n",
    "    PyObject* tp_new;\n",
    "    PyObject* tp_init;\n",
    "    PyObject* tp_call;\n",
    "    PyObject* tp_dict;\n",
    "};\n",
    "```"
   ]
  },
  {
   "cell_type": "code",
   "execution_count": null,
   "metadata": {
    "editable": true,
    "pycharm": {
     "name": "#%%\n"
    },
    "slideshow": {
     "slide_type": "slide"
    },
    "tags": []
   },
   "outputs": [],
   "source": [
    "class X:\n",
    "    def __new__(...):\n",
    "        pass\n",
    "    \n",
    "    def __init__(...):\n",
    "        pass\n",
    "    \n",
    "    def __call__(...):\n",
    "        pass"
   ]
  },
  {
   "cell_type": "markdown",
   "metadata": {
    "editable": true,
    "pycharm": {
     "name": "#%% md\n"
    },
    "slideshow": {
     "slide_type": "fragment"
    },
    "tags": []
   },
   "source": [
    "```c++\n",
    "PyTypeObject PyType_X;\n",
    "PyType_X.tp_name = \"X\";\n",
    "PyType_X.tp_new = __new__\n",
    "PyType_X.tp_init = __init__\n",
    "PyType_X.tp_call = type_call\n",
    "PyType_X.tp_dict = {\"__call__\": __call__}\n",
    "```"
   ]
  },
  {
   "cell_type": "markdown",
   "metadata": {
    "pycharm": {
     "name": "#%% md\n"
    },
    "slideshow": {
     "slide_type": "slide"
    }
   },
   "source": [
    "```c++\n",
    "// Objects/typeobject.c\n",
    "// very distilled\n",
    "static PyObject *\n",
    "type_call(PyTypeObject *type, PyObject *args, PyObject *kwds)\n",
    "{\n",
    "    PyObject *obj;\n",
    "\n",
    "    if (type->tp_new == NULL) {\n",
    "        // assert\n",
    "    }\n",
    "\n",
    "    obj = type->tp_new(type, args, kwds);\n",
    "    if (obj == NULL)\n",
    "        return NULL;\n",
    "    \n",
    "    if (!PyType_IsSubtype(Py_TYPE(obj), type))\n",
    "        return obj;\n",
    "\n",
    "    if (type->tp_init != NULL) {\n",
    "        int res = type->tp_init(obj, args, kwds);\n",
    "        // assert if res < 0\n",
    "    }\n",
    "    return obj;\n",
    "}\n",
    "```"
   ]
  },
  {
   "cell_type": "markdown",
   "metadata": {
    "pycharm": {
     "name": "#%% md\n"
    },
    "slideshow": {
     "slide_type": "slide"
    }
   },
   "source": [
    "### Почему X() всегда работает?"
   ]
  },
  {
   "cell_type": "code",
   "execution_count": null,
   "metadata": {
    "pycharm": {
     "name": "#%%\n"
    },
    "slideshow": {
     "slide_type": "fragment"
    }
   },
   "outputs": [],
   "source": [
    "X()"
   ]
  },
  {
   "cell_type": "markdown",
   "metadata": {
    "pycharm": {
     "name": "#%% md\n"
    },
    "slideshow": {
     "slide_type": "fragment"
    }
   },
   "source": [
    "```c++\n",
    "X.tp_call()\n",
    "// X.tp_call == type_call\n",
    "```"
   ]
  },
  {
   "cell_type": "markdown",
   "metadata": {
    "pycharm": {
     "name": "#%% md\n"
    },
    "slideshow": {
     "slide_type": "slide"
    }
   },
   "source": [
    "### Итого\n",
    "\n",
    "__Python__\n",
    "```python\n",
    "class X:\n",
    "    a = 1\n",
    "    \n",
    "    def __new__(...):\n",
    "        pass\n",
    "    \n",
    "    def __init__(...):\n",
    "        pass\n",
    "```\n",
    "\n",
    "__C__\n",
    "```c++\n",
    "PyTypeObject PyType_X;\n",
    "PyType_X.tp_name = \"X\";\n",
    "PyType_X.tp_new = __new__\n",
    "PyType_X.tp_init = __init__\n",
    "PyType_X.tp_call = type_call\n",
    "PyType_X.tp_dict = {\"a\": 1}\n",
    "\n",
    "\n",
    "PyObject* type_call() {\n",
    "    PyObject* x = PyType_X.tp_new();\n",
    "    PyType_X.tp_init(x);\n",
    "    return x\n",
    "}\n",
    "```"
   ]
  },
  {
   "cell_type": "markdown",
   "metadata": {
    "pycharm": {
     "name": "#%% md\n"
    },
    "slideshow": {
     "slide_type": "slide"
    }
   },
   "source": [
    "### metaclass.\\_\\_call__"
   ]
  },
  {
   "cell_type": "code",
   "execution_count": 35,
   "metadata": {
    "pycharm": {
     "name": "#%%\n"
    },
    "slideshow": {
     "slide_type": "slide"
    }
   },
   "outputs": [],
   "source": [
    "class Class3:\n",
    "    def __new__(cls, *args, **kwargs) -> t.Self:\n",
    "        print(f\"Class3.__new__({cls}, {args}, {kwargs})\")\n",
    "        return object.__new__(cls)\n",
    "    \n",
    "    def __init__(\n",
    "        self, \n",
    "        *args, \n",
    "        **kwargs\n",
    "    ) -> None:\n",
    "        print(f\"Class3.__init__({self}, {args}, {kwargs})\")"
   ]
  },
  {
   "cell_type": "code",
   "execution_count": 36,
   "metadata": {
    "pycharm": {
     "name": "#%%\n"
    },
    "slideshow": {
     "slide_type": "slide"
    }
   },
   "outputs": [
    {
     "name": "stdout",
     "output_type": "stream",
     "text": [
      "MetaclassA.__call__(<class '__main__.Class3'>, (1,), {})\n",
      "Class3.__new__(<class '__main__.Class3'>, (1,), {})\n",
      "Class3.__init__(<__main__.Class3 object at 0x1039dc650>, (1,), {})\n",
      "<__main__.Class3 object at 0x1039dc650>\n"
     ]
    }
   ],
   "source": [
    "class MetaclassA(type):\n",
    "    def __call__(cls, *args, **kwargs) -> \"Class3\":\n",
    "        print(f\"MetaclassA.__call__({cls}, {args}, {kwargs})\")\n",
    "        obj = cls.__new__(cls, *args, **kwargs)\n",
    "        obj.__init__(*args, **kwargs)\n",
    "        return obj\n",
    "        \n",
    "class Class3(metaclass=MetaclassA):\n",
    "    def __new__(cls, *args, **kwargs) -> t.Self:\n",
    "        print(f\"Class3.__new__({cls}, {args}, {kwargs})\")\n",
    "        return object.__new__(cls)\n",
    "    \n",
    "    def __init__(self, *args, **kwargs) -> None:\n",
    "        print(f\"Class3.__init__({self}, {args}, {kwargs})\") \n",
    "        \n",
    "x = Class3(1)\n",
    "print(x)"
   ]
  },
  {
   "cell_type": "code",
   "execution_count": 37,
   "metadata": {
    "pycharm": {
     "name": "#%%\n"
    },
    "slideshow": {
     "slide_type": "slide"
    }
   },
   "outputs": [],
   "source": [
    "# Class3 = type(\"Class3\", (object, ), dict())\n",
    "Class3 = MetaclassA(\"Class3\", (object, ), dict())"
   ]
  },
  {
   "cell_type": "code",
   "execution_count": 38,
   "metadata": {
    "pycharm": {
     "name": "#%%\n"
    },
    "slideshow": {
     "slide_type": "fragment"
    }
   },
   "outputs": [
    {
     "name": "stdout",
     "output_type": "stream",
     "text": [
      "MetaclassA.__call__(<class '__main__.Class3'>, (), {})\n"
     ]
    },
    {
     "data": {
      "text/plain": [
       "<__main__.Class3 at 0x1039def00>"
      ]
     },
     "execution_count": 38,
     "metadata": {},
     "output_type": "execute_result"
    }
   ],
   "source": [
    "Class3()"
   ]
  },
  {
   "cell_type": "markdown",
   "metadata": {
    "pycharm": {
     "name": "#%% md\n"
    },
    "slideshow": {
     "slide_type": "fragment"
    }
   },
   "source": [
    "```c++\n",
    "PyType_Class3.tp_call != type_call\n",
    "PyType_Class3.tp_call == MetaclassA.__call__\n",
    "type_call == type.tp_call\n",
    "```"
   ]
  },
  {
   "cell_type": "markdown",
   "metadata": {
    "pycharm": {
     "name": "#%% md\n"
    },
    "slideshow": {
     "slide_type": "slide"
    }
   },
   "source": [
    "![__call__](meta/img/img.003.jpeg \"__call__\")"
   ]
  },
  {
   "cell_type": "markdown",
   "metadata": {
    "editable": true,
    "pycharm": {
     "name": "#%% md\n"
    },
    "slideshow": {
     "slide_type": "skip"
    },
    "tags": []
   },
   "source": [
    "```c++\n",
    "PyObject *\n",
    "_PyObject_New(PyTypeObject *tp)\n",
    "{\n",
    "    PyObject *op = (PyObject *) PyObject_MALLOC(_PyObject_SIZE(tp));\n",
    "    if (op == NULL) {\n",
    "        return PyErr_NoMemory();\n",
    "    }\n",
    "    _PyObject_Init(op, tp);\n",
    "    return op;\n",
    "}\n",
    "\n",
    "static inline void\n",
    "_PyObject_Init(PyObject *op, PyTypeObject *typeobj)\n",
    "{\n",
    "    assert(op != NULL);\n",
    "    Py_SET_TYPE(op, typeobj);\n",
    "    if (_PyType_HasFeature(typeobj, Py_TPFLAGS_HEAPTYPE)) {\n",
    "        Py_INCREF(typeobj);\n",
    "    }\n",
    "    _Py_NewReference(op);\n",
    "}\n",
    "```"
   ]
  },
  {
   "cell_type": "markdown",
   "metadata": {
    "pycharm": {
     "name": "#%% md\n"
    },
    "slideshow": {
     "slide_type": "slide"
    }
   },
   "source": [
    "### Flyweight\n",
    "\n",
    "https://sourcemaking.com/design_patterns/flyweight"
   ]
  },
  {
   "cell_type": "code",
   "execution_count": null,
   "metadata": {
    "pycharm": {
     "name": "#%%\n"
    },
    "slideshow": {
     "slide_type": "skip"
    }
   },
   "outputs": [],
   "source": [
    "class Image:\n",
    "    def __init__(self, path: str):\n",
    "        self._path = path\n",
    "    \n",
    "    def __repr__(self):\n",
    "        return \"Image(path={})\".format(self._path)"
   ]
  },
  {
   "cell_type": "code",
   "execution_count": null,
   "metadata": {
    "pycharm": {
     "name": "#%%\n"
    },
    "slideshow": {
     "slide_type": "slide"
    }
   },
   "outputs": [],
   "source": [
    "class Image:\n",
    "    def __init__(self, path: str):\n",
    "        # load image to ram\n",
    "        # slow and ram consuming\n",
    "\n",
    "        \n",
    "class Tree:\n",
    "    def __init__(self, x: int, y: int, path: str):\n",
    "        self._x = x\n",
    "        self._y = y\n",
    "        self._image = Image(path)"
   ]
  },
  {
   "cell_type": "code",
   "execution_count": null,
   "metadata": {
    "pycharm": {
     "name": "#%%\n"
    },
    "slideshow": {
     "slide_type": "fragment"
    }
   },
   "outputs": [],
   "source": [
    "def create_forest() -> list[Tree]:\n",
    "    trees = []\n",
    "    for i in range(100):\n",
    "        path = \"imgs/tree{}.png\".format(i % 3)\n",
    "        trees.append(Tree(x, 10, path))"
   ]
  },
  {
   "cell_type": "code",
   "execution_count": null,
   "metadata": {
    "pycharm": {
     "name": "#%%\n"
    },
    "slideshow": {
     "slide_type": "slide"
    }
   },
   "outputs": [],
   "source": [
    "class Tree:\n",
    "    def __init__(self, x: int, y: int, path: str | None = None, image: Image | None = None):\n",
    "        if image is not None:\n",
    "            self._image = image\n",
    "        elif path is not None:\n",
    "            self._image = Image(path)\n",
    "        else:\n",
    "            raise RuntimeError(\"Either path or image must be specified\")\n",
    "        self._x = x\n",
    "        self._y = y\n",
    "        \n",
    "image_lib = ImageLibrary()\n",
    "tree = Tree(x, y, image=ImageLibrary.get(\"imgs/tree.png\"))"
   ]
  },
  {
   "cell_type": "code",
   "execution_count": null,
   "metadata": {
    "pycharm": {
     "name": "#%%\n"
    },
    "slideshow": {
     "slide_type": "slide"
    }
   },
   "outputs": [],
   "source": [
    "class Flyweight(type):\n",
    "    IMAGES = {}\n",
    "    \n",
    "    def __call__(cls, x: int, y: int, path: str | None = None, image: Image | None = None) -> \"Tree\":\n",
    "        obj = cls.__new__(cls)\n",
    "        if path is not None:\n",
    "            if path in Flyweight.IMAGES:\n",
    "                image = Flyweight.IMAGES[path]\n",
    "            else:\n",
    "                image = Image(path)\n",
    "                Flyweight.IMAGES[path] = image\n",
    "        cls.__init__(obj, x, y, path=path, image=image)\n",
    "        return obj\n",
    "    \n",
    "class Tree(metaclass=Flyweight):\n",
    "    def __init__(self, x: int, y: int, path: str | None = None, image: Image | None = None):\n",
    "        if image is not None:\n",
    "            self._image = image\n",
    "        elif path is not None:\n",
    "            self._image = Image(path)\n",
    "        else:\n",
    "            raise RuntimeError(\"Either path or image must be specified\")\n",
    "        self._x = x\n",
    "        self._y = y"
   ]
  },
  {
   "cell_type": "code",
   "execution_count": null,
   "metadata": {
    "pycharm": {
     "name": "#%%\n"
    },
    "slideshow": {
     "slide_type": "slide"
    }
   },
   "outputs": [],
   "source": [
    "tree1 = Tree(1, 2, \"tree.png\")\n",
    "tree2 = Tree(2, 3, \"tree.png\")\n",
    "assert tree1._image is tree2._image"
   ]
  },
  {
   "cell_type": "markdown",
   "metadata": {
    "pycharm": {
     "name": "#%% md\n"
    },
    "slideshow": {
     "slide_type": "slide"
    }
   },
   "source": [
    "### type()"
   ]
  },
  {
   "cell_type": "code",
   "execution_count": 39,
   "metadata": {
    "pycharm": {
     "name": "#%%\n"
    },
    "slideshow": {
     "slide_type": "fragment"
    }
   },
   "outputs": [],
   "source": [
    "class X:\n",
    "    a = 1\n",
    "    \n",
    "X = type(\"X\", (object, ), dict(a=1))"
   ]
  },
  {
   "cell_type": "code",
   "execution_count": null,
   "metadata": {
    "pycharm": {
     "name": "#%%\n"
    },
    "slideshow": {
     "slide_type": "slide"
    }
   },
   "outputs": [],
   "source": [
    "class type:\n",
    "    @classmethod\n",
    "    def __call__(...):\n",
    "        # smth\n",
    "\n",
    "X = type.__call__(\"X\", (object, ), dict(a=1))"
   ]
  },
  {
   "cell_type": "code",
   "execution_count": null,
   "metadata": {
    "pycharm": {
     "name": "#%%\n"
    },
    "slideshow": {
     "slide_type": "fragment"
    }
   },
   "outputs": [],
   "source": [
    "class type:\n",
    "    @classmethod\n",
    "    def __call__(...):\n",
    "        # smth\n",
    "        \n",
    "type = type(\"type\", (object, ), {\"__call__\": ...})"
   ]
  },
  {
   "cell_type": "markdown",
   "metadata": {
    "pycharm": {
     "name": "#%% md\n"
    },
    "slideshow": {
     "slide_type": "slide"
    }
   },
   "source": [
    "```c++\n",
    "PyTypeObject PyType_Type;\n",
    "PyType_Type.tp_name = \"type\";\n",
    "PyType_Type.tp_new = type_new\n",
    "PyType_Type.tp_init = type_init\n",
    "PyType_Type.tp_call = type_call\n",
    "```"
   ]
  },
  {
   "cell_type": "code",
   "execution_count": 41,
   "metadata": {
    "pycharm": {
     "name": "#%%\n"
    },
    "slideshow": {
     "slide_type": "slide"
    }
   },
   "outputs": [],
   "source": [
    "class Class:\n",
    "    def __init__(self, x):\n",
    "        self.x = x\n",
    "\n",
    "obj = Class(1)"
   ]
  },
  {
   "cell_type": "code",
   "execution_count": 42,
   "metadata": {
    "pycharm": {
     "name": "#%%\n"
    },
    "slideshow": {
     "slide_type": "fragment"
    }
   },
   "outputs": [],
   "source": [
    "obj = Class.__new__(Class, 1)\n",
    "Class.__init__(obj, 1)"
   ]
  },
  {
   "cell_type": "code",
   "execution_count": 43,
   "metadata": {
    "pycharm": {
     "name": "#%%\n"
    },
    "slideshow": {
     "slide_type": "fragment"
    }
   },
   "outputs": [],
   "source": [
    "X = type(\"X\", (object, ), dict(a=1))\n",
    "\n",
    "X = type.__new__(type, \"X\", (object, ), dict(a=1))\n",
    "type.__init__(X, \"X\", (object, ), dict(a=1))"
   ]
  },
  {
   "cell_type": "markdown",
   "metadata": {
    "pycharm": {
     "name": "#%% md\n"
    },
    "slideshow": {
     "slide_type": "fragment"
    }
   },
   "source": [
    "type.\\_\\_new__ возвращает не объект type, а наследник объекта type"
   ]
  },
  {
   "cell_type": "code",
   "execution_count": 44,
   "metadata": {
    "pycharm": {
     "name": "#%%\n"
    },
    "slideshow": {
     "slide_type": "slide"
    }
   },
   "outputs": [
    {
     "name": "stdout",
     "output_type": "stream",
     "text": [
      "MetaclassB.__new__(cls=<class '__main__.MetaclassB'>, name=Class4, bases=(), members={'__module__': '__main__', '__qualname__': 'Class4'})\n",
      "MetaclassB.__init__(cls=<class '__main__.Class4'>, name=Class4, bases=(), members={'__module__': '__main__', '__qualname__': 'Class4'})\n"
     ]
    }
   ],
   "source": [
    "class MetaclassB(type):\n",
    "    def __new__(\n",
    "        cls: type,\n",
    "        name: str,\n",
    "        bases: tuple[type],\n",
    "        members: dict[str, t.Any]\n",
    "    ):\n",
    "        print(f\"MetaclassB.__new__(cls={cls}, name={name}, bases={bases}, members={members})\")\n",
    "        return type.__new__(cls, name, bases, members)\n",
    "        \n",
    "    def __init__(\n",
    "        cls: type,\n",
    "        name: str, \n",
    "        bases: tuple[type], \n",
    "        members: dict[str, t.Any]\n",
    "    ):\n",
    "        print(f\"MetaclassB.__init__(cls={cls}, name={name}, bases={bases}, members={members})\")\n",
    "        \n",
    "class Class4(metaclass=MetaclassB):\n",
    "    pass"
   ]
  },
  {
   "cell_type": "code",
   "execution_count": 45,
   "metadata": {
    "pycharm": {
     "name": "#%%\n"
    },
    "slideshow": {
     "slide_type": "slide"
    }
   },
   "outputs": [
    {
     "name": "stdout",
     "output_type": "stream",
     "text": [
      "MetaclassB.__new__(cls=<class '__main__.MetaclassB'>, name=Class4, bases=(), members={'__module__': '__main__', '__qualname__': 'Class4'})\n",
      "MetaclassB.__init__(cls=<class '__main__.Class4'>, name=Class4, bases=(), members={'__module__': '__main__', '__qualname__': 'Class4'})\n"
     ]
    }
   ],
   "source": [
    "class MetaclassB(type):\n",
    "    def __new__(\n",
    "        cls: type,\n",
    "        name: str,\n",
    "        bases: t.Tuple[type],\n",
    "        members: dict[str, t.Any]\n",
    "    ):\n",
    "        print(f\"MetaclassB.__new__(cls={cls}, name={name}, bases={bases}, members={members})\")\n",
    "        return type.__new__(cls, name, bases, members)\n",
    "        \n",
    "    def __init__(\n",
    "        cls: type,\n",
    "        name: str, \n",
    "        bases: tuple[type], \n",
    "        members: dict[str, t.Any]\n",
    "    ):\n",
    "        print(f\"MetaclassB.__init__(cls={cls}, name={name}, bases={bases}, members={members})\")\n",
    "        \n",
    "class Class4(metaclass=MetaclassB):\n",
    "    pass"
   ]
  },
  {
   "cell_type": "markdown",
   "metadata": {
    "pycharm": {
     "name": "#%% md\n"
    },
    "slideshow": {
     "slide_type": "slide"
    }
   },
   "source": [
    "### финалочка"
   ]
  },
  {
   "cell_type": "code",
   "execution_count": 46,
   "metadata": {
    "pycharm": {
     "name": "#%%\n"
    },
    "slideshow": {
     "slide_type": "fragment"
    }
   },
   "outputs": [],
   "source": [
    "class Metaclass(type):\n",
    "    pass\n",
    "\n",
    "class Class(metaclass=Metaclass):\n",
    "    pass\n",
    "\n",
    "c = Class()"
   ]
  },
  {
   "cell_type": "code",
   "execution_count": 48,
   "metadata": {
    "pycharm": {
     "name": "#%%\n"
    },
    "slideshow": {
     "slide_type": "fragment"
    }
   },
   "outputs": [],
   "source": [
    "Class = Metaclass.__new__(Metaclass, \"Class\", (object, ), dict())\n",
    "Metaclass.__init__(Class, \"Class\", (object, ), dict())\n",
    "\n",
    "c = Class.__new__(Class)\n",
    "Class.__init__(c)"
   ]
  },
  {
   "cell_type": "markdown",
   "metadata": {
    "pycharm": {
     "name": "#%% md\n"
    },
    "slideshow": {
     "slide_type": "slide"
    }
   },
   "source": [
    "![all](meta/img/img.004.jpeg \"all\")"
   ]
  },
  {
   "cell_type": "markdown",
   "metadata": {
    "pycharm": {
     "name": "#%% md\n"
    },
    "slideshow": {
     "slide_type": "slide"
    }
   },
   "source": [
    "## ABC + abstractmethod"
   ]
  },
  {
   "cell_type": "markdown",
   "metadata": {
    "pycharm": {
     "name": "#%% md\n"
    },
    "slideshow": {
     "slide_type": "fragment"
    }
   },
   "source": [
    "## Настоящий ABC скорее всего сложнее, и нижеследующий наверное не работает в каких-то случаях"
   ]
  },
  {
   "cell_type": "markdown",
   "metadata": {
    "pycharm": {
     "name": "#%% md\n"
    },
    "slideshow": {
     "slide_type": "slide"
    }
   },
   "source": [
    "__План__\n",
    "1. Заменить декоратором `@abstractmethod` функции на объекты AbstractMethod\n",
    "2. В момент создания класса собрать все объекты AbstractMethod в свойство `__abstractmethods__`\n",
    "3. В момент создания объекта класса проверять пустоту `__abstractmethods__`"
   ]
  },
  {
   "cell_type": "code",
   "execution_count": 32,
   "metadata": {
    "pycharm": {
     "name": "#%%\n"
    },
    "scrolled": true,
    "slideshow": {
     "slide_type": "slide"
    }
   },
   "outputs": [
    {
     "name": "stdout",
     "output_type": "stream",
     "text": [
      "Method not implemented\n"
     ]
    }
   ],
   "source": [
    "class AbstractMethod:\n",
    "    def __call__(self) -> None:\n",
    "        raise NotImplementedError(\"Method not implemented\")\n",
    "\n",
    "def abstractmethod(method: t.Callable[..., t.Any]) -> AbstractMethod:\n",
    "    return AbstractMethod()\n",
    "\n",
    "class Animal():\n",
    "    @abstractmethod\n",
    "    def hello(self) -> None:\n",
    "        pass\n",
    "    \n",
    "l = Animal()\n",
    "try:\n",
    "    l.hello()\n",
    "except NotImplementedError as e:\n",
    "    print(e)"
   ]
  },
  {
   "cell_type": "code",
   "execution_count": 29,
   "metadata": {
    "pycharm": {
     "name": "#%%\n"
    },
    "slideshow": {
     "slide_type": "slide"
    }
   },
   "outputs": [],
   "source": [
    "from copy import deepcopy\n",
    "\n",
    "import inspect\n",
    "\n",
    "\n",
    "class MyABCMeta(type):\n",
    "    def __init__(\n",
    "        cls: type, \n",
    "        name: str, \n",
    "        bases: tuple[type], \n",
    "        dct: dict[str, t.Any]\n",
    "    ) -> None:\n",
    "        # Собираем все AbstractMethod из класса, который создаём\n",
    "        abstract_methods = {name for name, value in dct.items() if isinstance(value, AbstractMethod)}\n",
    "        # Собираем все AbstractMethod из родителей класса, который создаём\n",
    "        for base in bases:\n",
    "            new_methods = inspect.getmembers(base, predicate=lambda x: isinstance(x, AbstractMethod))\n",
    "            abstract_methods.update({k for k, v in new_methods})\n",
    "        # Теперь в abstract_methods собрали все методы, которые нужно переписать\n",
    "        # Собираем все функции, которые есть в классе, который создаём\n",
    "        concrete_methods = {name for name, value in dct.items() if inspect.isfunction(value)}\n",
    "        # Записываем все непереопределённые методы в __abstract_methods__\n",
    "        cls.__abstract_methods__ = abstract_methods - concrete_methods\n",
    "        \n",
    "    def __call__(\n",
    "        cls: type, \n",
    "        *args: t.Any,\n",
    "        **kwargs: t.Any\n",
    "    ) -> t.Any:\n",
    "        # Если на момент создания объекта в классе остаются абстрактные методы кидаем ошибку\n",
    "        if cls.__abstract_methods__:\n",
    "            methods = \", \".join(cls.__abstract_methods__)\n",
    "            raise NotImplementedError(\"Methods not implemented: {}\".format(methods))\n",
    "        return type.__call__(cls, *args, **kwargs)\n",
    "\n",
    "class MyABC(metaclass=MyABCMeta):\n",
    "   pass"
   ]
  },
  {
   "cell_type": "code",
   "execution_count": 30,
   "metadata": {
    "pycharm": {
     "name": "#%%\n"
    },
    "scrolled": true,
    "slideshow": {
     "slide_type": "slide"
    }
   },
   "outputs": [],
   "source": [
    "class Animal(MyABC):\n",
    "    @abstractmethod\n",
    "    def hello(self) -> None:\n",
    "        pass\n",
    "\n",
    "    \n",
    "class Cow(Animal):\n",
    "    def hello(self) -> None:\n",
    "        print(\"Moo\")\n",
    "        \n",
    "class Sheep(Animal):\n",
    "    pass"
   ]
  },
  {
   "cell_type": "code",
   "execution_count": 31,
   "metadata": {
    "pycharm": {
     "name": "#%%\n"
    },
    "scrolled": true,
    "slideshow": {
     "slide_type": "fragment"
    }
   },
   "outputs": [
    {
     "name": "stdout",
     "output_type": "stream",
     "text": [
      "Methods not implemented: hello\n",
      "Methods not implemented: hello\n",
      "Moo\n"
     ]
    }
   ],
   "source": [
    "try:\n",
    "    l = Animal()\n",
    "except NotImplementedError as e:\n",
    "    print(e)\n",
    "try:\n",
    "    s = Sheep()\n",
    "except NotImplementedError as e:\n",
    "    print(e)\n",
    "\n",
    "c = Cow()\n",
    "c.hello()"
   ]
  },
  {
   "cell_type": "markdown",
   "metadata": {
    "pycharm": {
     "name": "#%% md\n"
    },
    "slideshow": {
     "slide_type": "slide"
    }
   },
   "source": [
    "## Спасибо за внимание\n",
    "## Вопросы?"
   ]
  }
 ],
 "metadata": {
  "celltoolbar": "Slideshow",
  "kernelspec": {
   "display_name": "Python 3 (ipykernel)",
   "language": "python",
   "name": "python3"
  },
  "language_info": {
   "codemirror_mode": {
    "name": "ipython",
    "version": 3
   },
   "file_extension": ".py",
   "mimetype": "text/x-python",
   "name": "python",
   "nbconvert_exporter": "python",
   "pygments_lexer": "ipython3",
   "version": "3.12.5"
  },
  "rise": {
   "enable_chalkboard": true,
   "footer": "<p style=\"margin: 5px; color: #a0a0a0\">YSDA Python Course</p>",
   "scroll": true,
   "start_slideshow_at": "selected",
   "theme": "serif",
   "transition": "none"
  }
 },
 "nbformat": 4,
 "nbformat_minor": 4
}
