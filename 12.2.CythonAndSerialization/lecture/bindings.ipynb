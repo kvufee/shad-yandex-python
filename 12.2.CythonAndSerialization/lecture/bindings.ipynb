{
 "cells": [
  {
   "cell_type": "markdown",
   "metadata": {},
   "source": [
    "<center>\n",
    "    <img src=\"https://upload.wikimedia.org/wikipedia/commons/a/a8/%D0%9B%D0%9E%D0%93%D0%9E_%D0%A8%D0%90%D0%94.png\" width=500px/>\n",
    "    <font>Python 2024</font><br/>\n",
    "    <br/>\n",
    "    <br/>\n",
    "    <b style=\"font-size: 2em\">Cython</b><br/>\n",
    "    <br/>\n",
    "    <font>Ислам Абасов</font><br/>\n",
    "</center>"
   ]
  },
  {
   "cell_type": "markdown",
   "metadata": {},
   "source": [
    "# [CYTHON](https://habr.com/ru/companies/ruvds/articles/462487/)"
   ]
  },
  {
   "cell_type": "markdown",
   "metadata": {},
   "source": [
    "Cython — это язык программирования, который является надстройкой над Python и C. Он предназначен для упрощения написания C-расширений для Python и оптимизации Python-кода для повышения производительности. Cython позволяет вам добавлять статическую типизацию и напрямую вызывать функции C, что делает его идеальным инструментом для повышения скорости выполнения кода, написанного на Python.\n",
    "\n",
    "### Основные характеристики Cython:\n",
    "\n",
    "1. **Улучшение производительности**:\n",
    "   - Cython позволяет компилировать Python-код в C, что может значительно ускорить его выполнение. Вы можете добавлять статические типы переменных, что упрощает оптимизацию и делает код более производительным.\n",
    "\n",
    "2. **Простота интеграции с C/C++**:\n",
    "   - Cython упрощает взаимодействие с C/C++ библиотеками. Вы можете легко вызывать функции C и использовать структуры данных, что позволяет интегрировать сторонние библиотеки в ваши Python-приложения.\n",
    "\n",
    "3. **Простота написания и отладки**:\n",
    "   - Cython синтаксически подобен Python, что делает его простым для понимания. Вы можете использовать привычный синтаксис Python, добавляя при этом элементы, которые позволяют улучшить производительность.\n",
    "\n",
    "4. **Поддержка Cython-библиотек**:\n",
    "   - Существует множество библиотек, написанных на Cython, которые могут быть использованы для ускорения различных задач. Это включает в себя научные библиотеки, такие как NumPy и SciPy."
   ]
  },
  {
   "cell_type": "markdown",
   "metadata": {},
   "source": [
    "## Типы в Cython\n",
    "\n",
    "При использовании Cython можно выделить два набора типов. Один — для переменных, второй — для функций.\n",
    "\n",
    "Если речь идёт о переменных, то тут нам доступны следующие типы:\n",
    "\n",
    "* cdef int a, b, c\n",
    "* cdef char *s\n",
    "* cdef float x = 0.5 (число одинарной точности)\n",
    "* cdef double x = 63.4 (число двойной точности)\n",
    "* cdef list names\n",
    "* cdef dict goals_for_each_play\n",
    "* cdef object card_deck\n",
    "\n",
    "\n",
    "При работе с функциями нам доступны следующие типы:\n",
    "\n",
    "* def — обычная Python-функция, вызывается только из Python.\n",
    "* cdef — Cython-функция, которую нельзя вызвать из обычного Python-кода. Такие функции можно вызывать только в пределах Cython-кода.\n",
    "* cpdef — Функция, доступ к которой можно получить и из C, и из Python."
   ]
  },
  {
   "cell_type": "code",
   "execution_count": 1,
   "metadata": {},
   "outputs": [
    {
     "name": "stdout",
     "output_type": "stream",
     "text": [
      "Requirement already satisfied: cython in /Users/i.g.abasov/prog/.venv/lib/python3.12/site-packages (3.0.11)\n",
      "\n",
      "\u001b[1m[\u001b[0m\u001b[34;49mnotice\u001b[0m\u001b[1;39;49m]\u001b[0m\u001b[39;49m A new release of pip is available: \u001b[0m\u001b[31;49m24.2\u001b[0m\u001b[39;49m -> \u001b[0m\u001b[32;49m24.3.1\u001b[0m\n",
      "\u001b[1m[\u001b[0m\u001b[34;49mnotice\u001b[0m\u001b[1;39;49m]\u001b[0m\u001b[39;49m To update, run: \u001b[0m\u001b[32;49mpip install --upgrade pip\u001b[0m\n"
     ]
    }
   ],
   "source": [
    "!pip3 install cython"
   ]
  },
  {
   "cell_type": "code",
   "execution_count": null,
   "metadata": {},
   "outputs": [
    {
     "name": "stdout",
     "output_type": "stream",
     "text": [
      "Overwriting cython_range.pyx\n"
     ]
    }
   ],
   "source": [
    "%%writefile cython_range.pyx\n",
    "\n",
    "cdef int GLOBAL = 42\n",
    "\n",
    "cpdef int get_global():\n",
    "    return GLOBAL\n",
    "\n",
    "cpdef int test(int x):\n",
    "    cdef int y = 1\n",
    "    cdef int i\n",
    "    for i in range(1, x+1):\n",
    "        y *= i\n",
    "    return y"
   ]
  },
  {
   "cell_type": "code",
   "execution_count": 2,
   "metadata": {},
   "outputs": [
    {
     "name": "stdout",
     "output_type": "stream",
     "text": [
      "Overwriting python_range.py\n"
     ]
    }
   ],
   "source": [
    "%%writefile python_range.py\n",
    "\n",
    "def test(x):\n",
    "    y = 1\n",
    "    for i in range(1, x+1):\n",
    "        y *= i\n",
    "    return y"
   ]
  },
  {
   "cell_type": "code",
   "execution_count": 3,
   "metadata": {},
   "outputs": [
    {
     "name": "stdout",
     "output_type": "stream",
     "text": [
      "Overwriting setup.py\n"
     ]
    }
   ],
   "source": [
    "%%writefile setup.py\n",
    "\n",
    "from distutils.core import setup\n",
    "from Cython.Build import cythonize\n",
    "\n",
    "setup(ext_modules = cythonize('cython_range.pyx'))"
   ]
  },
  {
   "cell_type": "code",
   "execution_count": 4,
   "metadata": {},
   "outputs": [
    {
     "name": "stdout",
     "output_type": "stream",
     "text": [
      "Compiling cython_range.pyx because it changed.\n",
      "[1/1] Cythonizing cython_range.pyx\n",
      "/Users/i.g.abasov/prog/.venv/lib/python3.12/site-packages/Cython/Compiler/Main.py:381: FutureWarning: Cython directive 'language_level' not set, using '3str' for now (Py3). This has changed from earlier releases! File: /Users/i.g.abasov/prog/ШАД/private/12.2.ExtensionsAndSerialization/lecture/cython_range.pyx\n",
      "  tree = Parsing.p_module(s, pxd, full_module_name)\n",
      "\n",
      "Error compiling Cython file:\n",
      "------------------------------------------------------------\n",
      "...\n",
      "\n",
      "cpdef int GLOBAL = 42\n",
      "      ^\n",
      "------------------------------------------------------------\n",
      "\n",
      "cython_range.pyx:2:6: Variables cannot be declared with 'cpdef'. Use 'cdef' instead.\n",
      "Traceback (most recent call last):\n",
      "  File \"/Users/i.g.abasov/prog/ШАД/private/12.2.ExtensionsAndSerialization/lecture/setup.py\", line 5, in <module>\n",
      "    setup(ext_modules = cythonize('cython_range.pyx'))\n",
      "                        ^^^^^^^^^^^^^^^^^^^^^^^^^^^^^\n",
      "  File \"/Users/i.g.abasov/prog/.venv/lib/python3.12/site-packages/Cython/Build/Dependencies.py\", line 1154, in cythonize\n",
      "    cythonize_one(*args)\n",
      "  File \"/Users/i.g.abasov/prog/.venv/lib/python3.12/site-packages/Cython/Build/Dependencies.py\", line 1321, in cythonize_one\n",
      "    raise CompileError(None, pyx_file)\n",
      "Cython.Compiler.Errors.CompileError: cython_range.pyx\n"
     ]
    }
   ],
   "source": [
    "!python3 setup.py build_ext --inplace"
   ]
  },
  {
   "cell_type": "code",
   "execution_count": 11,
   "metadata": {},
   "outputs": [
    {
     "name": "stdout",
     "output_type": "stream",
     "text": [
      "Cython time = 1.9311904907226562e-05\n",
      "Python time = 3.1055963039398193\n",
      "Speedup = 160812.53086419753\n"
     ]
    }
   ],
   "source": [
    "import cython_range\n",
    "import python_range\n",
    "import time\n",
    "\n",
    "number = 10000\n",
    "\n",
    "start = time.time()\n",
    "cython_range.test(number)\n",
    "end =  time.time()\n",
    "\n",
    "py_time = end - start\n",
    "print(\"Cython time = {}\".format(py_time))\n",
    "\n",
    "start = time.time()\n",
    "python_range.test(number)\n",
    "end =  time.time()\n",
    "\n",
    "cy_time = end - start\n",
    "print(\"Python time = {}\".format(cy_time))\n",
    "\n",
    "print(\"Speedup = {}\".format(cy_time / py_time))"
   ]
  },
  {
   "cell_type": "code",
   "execution_count": 6,
   "metadata": {},
   "outputs": [
    {
     "data": {
      "text/plain": [
       "42"
      ]
     },
     "execution_count": 6,
     "metadata": {},
     "output_type": "execute_result"
    }
   ],
   "source": [
    "cython_range.get_global()"
   ]
  },
  {
   "cell_type": "markdown",
   "metadata": {},
   "source": [
    "### Основные преимущества Cython:\n",
    "\n",
    "- **Быстродействие**: С помощью Cython код может работать намного быстрее, чем чистый Python, когда он правильно оптимизирован. Статическая типизация и компиляция в C позволяют значительно уменьшить накладные расходы.\n",
    "  \n",
    "- **Совместимость**: Cython полностью совместим с Python и его библиотеками. Это позволяет плавно интегрировать существующий Python-код в Cython без необходимости переписывать его.\n",
    "\n",
    "- **Улучшенная отладка**: Cython поддерживает отладку, что позволяет разработчикам находить и устранять проблемы, даже если код компилируется в C.\n",
    "\n",
    "### Ограничения Cython:\n",
    "\n",
    "- **Сложность при написании**: Хотя Cython имеет синтаксис, похожий на Python, прежде всего, необходимо обеспечить правильную типизацию и управление памятью, что может добавить сложности разработке.\n",
    "  \n",
    "- **Необходимость компиляции**: Cython-код нужно компилировать, что требует дополнительно настроенной среды для сборки и может привести к усложнению процессов разработки и деплоя."
   ]
  }
 ],
 "metadata": {
  "kernelspec": {
   "display_name": "Python 3 (ipykernel)",
   "language": "python",
   "name": "python3"
  },
  "language_info": {
   "codemirror_mode": {
    "name": "ipython",
    "version": 3
   },
   "file_extension": ".py",
   "mimetype": "text/x-python",
   "name": "python",
   "nbconvert_exporter": "python",
   "pygments_lexer": "ipython3",
   "version": "3.12.7"
  }
 },
 "nbformat": 4,
 "nbformat_minor": 4
}
