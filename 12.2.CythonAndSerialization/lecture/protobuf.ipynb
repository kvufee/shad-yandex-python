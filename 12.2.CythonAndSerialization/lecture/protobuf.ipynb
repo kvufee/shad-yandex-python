{
 "cells": [
  {
   "cell_type": "markdown",
   "metadata": {},
   "source": [
    "<center>\n",
    "    <img src=\"https://upload.wikimedia.org/wikipedia/commons/a/a8/%D0%9B%D0%9E%D0%93%D0%9E_%D0%A8%D0%90%D0%94.png\" width=500px/>\n",
    "    <font>Python 2024</font><br/>\n",
    "    <br/>\n",
    "    <br/>\n",
    "    <b style=\"font-size: 2em\">Protobuf & Flatbuf</b><br/>\n",
    "    <br/>\n",
    "    <font>Ислам Абасов</font><br/>\n",
    "</center>"
   ]
  },
  {
   "cell_type": "markdown",
   "metadata": {},
   "source": [
    "#### Введение\n",
    "* Краткое объяснение, зачем нужны сериализация и десериализация данных.\n",
    "* Обзор популярных форматов сериализации (JSON, XML, Protobuf и др.)\n",
    "#### Protocol Buffers (Protobuf)\n",
    "* Что такое Protocol Buffers:\n",
    "* Структура и синтаксис Protobuf:\n",
    "* Работа с Protobuf в Python:\n",
    "* Сценарии использования и ограничения:\n",
    "#### Fletbuf \n",
    "* Что такое Fletbuf:\n",
    "* Работа с Fletbuf в Python:\n",
    "* Особенности и отличия от Protobuf:"
   ]
  },
  {
   "cell_type": "markdown",
   "metadata": {},
   "source": [
    "## Введение\n",
    "\n",
    "_Сериализация_ — это процесс преобразования объекта в последовательность байтов для сохранения его состояния или передачи по сети. Это позволяет сохранить объекты в файлы или передавать их между различными компонентами систем.\n",
    "\n",
    "_Десериализация_ — это обратный процесс, заключающийся в преобразовании последовательности байтов обратно в объект, восстанавливая его состояние. Таким образом, десериализация позволяет восстановить объект из сохраненного или переданного представления.\n",
    "\n",
    "В целом, сериализация и десериализация используются для обмена данными между системами, хранения объектов и работы с удаленными вызовами процедур (RPC)."
   ]
  },
  {
   "cell_type": "markdown",
   "metadata": {},
   "source": [
    "Сериализация и десериализация необходимы по нескольким причинам:\n",
    "\n",
    "1. **Сохранение состояния**: Сериализация позволяет сохранять состояние объектов в файлы или базы данных. Это полезно, когда необходимо восстановить данные после перезапуска приложения или серверов.\n",
    "\n",
    "2. **Передача данных**: При обмене данными между различными модулями, компонентами или системами (например, клиент-серверные приложения) сериализация позволяет формировать поток данных для передачи по сети.\n",
    "\n",
    "3. **Кросс-платформенность**: С использованием сериализации можно передавать объекты между различными платформами или языками программирования, обеспечивая взаимодействие между разными системами.\n",
    "\n",
    "4. **Кэширование**: Сохранение сериализованных объектов в кэш позволяет быстро восстанавливать их состояние без необходимости повторного вычисления или загрузки из источников данных.\n",
    "\n",
    "5. **Удаленные вызовы процедур (RPC)**: В распределенных системах, где функции одного сервера могут быть использованы другим сервером или клиентом, сериализация помогает формировать вызовы процедур с передачей необходимых данных."
   ]
  },
  {
   "cell_type": "markdown",
   "metadata": {},
   "source": [
    "[Сравнение форматов серриализации на GO](https://habr.com/ru/companies/avito/articles/786756/)"
   ]
  },
  {
   "cell_type": "markdown",
   "metadata": {},
   "source": [
    "#### Основные текстовые форматы сериализации\n",
    "- **JSON (JavaScript Object Notation):**\n",
    "  - Популярность: простой и читаемый человеком формат, который широко используется в разработке веб-приложений.\n",
    "  - Прочтение и написание: идеально подходит для взаимодействия между клиентом и сервером.\n",
    "\n",
    "- **XML (Extensible Markup Language):**\n",
    "  - Гибкость и мощность, подходит для сложных структур данных и метаданных.\n",
    "  - Недостатки: объемный и может быть сложным в обработке из-за громоздкой структуры.\n",
    "\n",
    "#### Альтернативные бинарные форматы сериализации\n",
    "- **pickle**\n",
    "  - опасно для передачи данных по сети\n",
    "- **numpy**\n",
    "- **parquet**\n",
    "- **MessagePack:**\n",
    "- **Apache Avro:**\n",
    "- **CBOR (Concise Binary Object Representation):**"
   ]
  },
  {
   "cell_type": "markdown",
   "metadata": {},
   "source": [
    "### Protocol Buffers (Protobuf)\n",
    "\n",
    "#### Что такое Protocol Buffers:\n",
    "- **Определение:** Protocol Buffers (Protobuf) — это гибкий и эффективный механизм сериализации структурированных данных, разработанный Google.\n",
    "- **Преимущества:**\n",
    "  - Компактность и эффективность в сравнении с текстовыми форматами, такими как JSON и XML.\n",
    "  - Независимость от языка программирования и платформы.\n",
    "  - Поддержка версионности схем."
   ]
  },
  {
   "cell_type": "markdown",
   "metadata": {},
   "source": [
    "## [Использование protobuf в python](https://protobuf.dev/getting-started/pythontutorial/)"
   ]
  },
  {
   "cell_type": "code",
   "execution_count": 6,
   "metadata": {},
   "outputs": [
    {
     "name": "stdout",
     "output_type": "stream",
     "text": [
      "Overwriting proto/proto_exmple.proto\n"
     ]
    }
   ],
   "source": [
    "%%writefile proto/proto_exmple.proto\n",
    "\n",
    "syntax = \"proto3\";\n",
    "\n",
    "package tutorial;\n",
    "\n",
    "message Phone{\n",
    "    enum PhoneType {\n",
    "        MOBILE = 0;\n",
    "        HOME = 1;\n",
    "        WORK = 2;\n",
    "    }\n",
    "\n",
    "    PhoneType type = 1;\n",
    "    string phone_number = 2;\n",
    "}\n",
    "\n",
    "message Person {\n",
    "    string name = 1;\n",
    "    int32 age = 2;\n",
    "    repeated string email = 4;\n",
    "    reserved 3;\n",
    "\n",
    "    Phone phone = 5;\n",
    "}"
   ]
  },
  {
   "cell_type": "code",
   "execution_count": 7,
   "metadata": {},
   "outputs": [],
   "source": [
    "!protoc --python_out=. proto/proto_exmple.proto --cpp_out=."
   ]
  },
  {
   "cell_type": "code",
   "execution_count": 13,
   "metadata": {},
   "outputs": [
    {
     "name": "stdout",
     "output_type": "stream",
     "text": [
      "name: \"<NAME>\"\n",
      "age: 20\n",
      "email: \"<EMAIL>\"\n",
      "phone {\n",
      "  phone_number: \"1234567890\"\n",
      "}\n",
      "\n",
      "b'\\n\\x06<NAME>\\x10\\x14\"\\x07<EMAIL>*\\x0c\\x12\\n1234567890'\n"
     ]
    }
   ],
   "source": [
    "from proto.proto_exmple_pb2 import Person, Phone\n",
    "\n",
    "phone_number = Phone(type=Phone.MOBILE, phone_number=\"1234567890\")\n",
    "\n",
    "person = Person(name=\"<NAME>\", age=20)\n",
    "person.email.append(\"<EMAIL>\")\n",
    "person.phone.CopyFrom(phone_number)\n",
    "\n",
    "print(person)\n",
    "person_serialized = person.SerializeToString()\n",
    "print(person_serialized)\n"
   ]
  },
  {
   "cell_type": "code",
   "execution_count": 18,
   "metadata": {},
   "outputs": [
    {
     "name": "stdout",
     "output_type": "stream",
     "text": [
      "name: \"<NAME>\"\n",
      "age: 20\n",
      "email: \"<EMAIL>\"\n",
      "phone {\n",
      "  phone_number: \"1234567890\"\n",
      "}\n",
      "\n"
     ]
    }
   ],
   "source": [
    "person = Person()\n",
    "person.ParseFromString(person_serialized)\n",
    "print(person)"
   ]
  },
  {
   "cell_type": "markdown",
   "metadata": {},
   "source": [
    "\n",
    "\n",
    "#### Сценарии использования и ограничения:\n",
    "\n",
    "- **Сценарии использования:**\n",
    "  - **Сетевые коммуникации:** Protobuf широко используется для обмена данными между сервисами в распределенных системах благодаря эффективности и компактности.\n",
    "  - **Хранение данных:** Подходит для сериализации структурированных данных в файлы или базы данных.\n",
    "  - **Мобильные приложения:** Используется для передачи данных между клиентами и серверами, обеспечивая минимум трафика из-за своей компактности.\n",
    "\n",
    "- **Ограничения:**\n",
    "  - **Человеконечитаемость:** В отличие от JSON или XML, данные в Protobuf не предназначены для чтения человеком, что может усложнить отладку без специальных инструментов.\n",
    "  - **Отсутствие самодокументированности:** В отличие от XML, структура данных не содержит явных метаданных, поэтому необходимо всегда иметь под рукой `.proto` файл для понимания структуры сообщения.\n",
    "  - **Порог входа:** Использование Protobuf подразумевает изучение его синтаксиса и настройку инфраструктуры для компиляции `.proto` файлов, что может быть сложнее для новичков по сравнению с использованием JSON."
   ]
  },
  {
   "cell_type": "markdown",
   "metadata": {},
   "source": [
    "## [Flatbuf](https://flatbuffers.dev/)\n",
    "\n",
    "#### Что такое Fletbuf:\n",
    "- **Определение:** Fletbuf (часто называемый FlatBuffers) — это библиотека для сериализации данных, разработанная в Google. Она позволяет быстро производить сериализацию и десериализацию данных без генерации дополнительных промежуточных копий.\n",
    "- **Преимущества:**\n",
    "  - Высокая производительность при чтении данных, так как не требует их разбора до использования.\n",
    "  - Поддержка множественных языков программирования, что облегчает интеграцию в кросс-языковых проектах.\n",
    "  - Поддержка версионности для обращения к более старым и более новым версиям схем данных"
   ]
  },
  {
   "cell_type": "code",
   "execution_count": 1,
   "metadata": {},
   "outputs": [
    {
     "name": "stdout",
     "output_type": "stream",
     "text": [
      "Overwriting proto/flat_example.fbs\n"
     ]
    }
   ],
   "source": [
    "%%writefile proto/flat_example.fbs\n",
    "namespace tutorial;\n",
    "\n",
    "enum PhoneType:byte { MOBILE, HOMWE, WORK }\n",
    "\n",
    "table Phone{\n",
    "    type:PhoneType;\n",
    "    phone_number: string;\n",
    "}\n",
    "\n",
    "table Person {\n",
    "    name: string;\n",
    "    age: int;\n",
    "    old_field: int(deprecated);\n",
    "    email:[string];\n",
    "    phone: Phone;\n",
    "}"
   ]
  },
  {
   "cell_type": "code",
   "execution_count": 2,
   "metadata": {},
   "outputs": [],
   "source": [
    "!flatc --python proto/flat_example.fbs"
   ]
  },
  {
   "cell_type": "code",
   "execution_count": 3,
   "metadata": {},
   "outputs": [
    {
     "name": "stdout",
     "output_type": "stream",
     "text": [
      "bytearray(b'\\x14\\x00\\x00\\x00\\x00\\x00\\x0e\\x00\\x14\\x00\\x10\\x00\\x0c\\x00\\x00\\x00\\x08\\x00\\x04\\x00\\x0e\\x00\\x00\\x00D\\x00\\x00\\x00\\x0c\\x00\\x00\\x00\\x19\\x00\\x00\\x00@\\x00\\x00\\x00\\x02\\x00\\x00\\x00\\x08\\x00\\x00\\x00\\x14\\x00\\x00\\x00\\t\\x00\\x00\\x00<EMAIL_2>\\x00\\x00\\x00\\t\\x00\\x00\\x00<EMAIL_1>\\x00\\x00\\x00\\x08\\x00\\x08\\x00\\x00\\x00\\x04\\x00\\x08\\x00\\x00\\x00\\x10\\x00\\x00\\x00\\x06\\x00\\x00\\x00<NAME>\\x00\\x00\\x06\\x00\\x00\\x00111111\\x00\\x00')\n"
     ]
    }
   ],
   "source": [
    "import flatbuffers\n",
    "from tutorial import Person, Phone, PhoneType\n",
    "\n",
    "builder = flatbuffers.Builder(0)\n",
    "\n",
    "phone_number = builder.CreateString('111111')\n",
    "name = builder.CreateString(\"<NAME>\")\n",
    "\n",
    "Phone.Start(builder)\n",
    "Phone.AddPhoneNumber(builder, phone_number)\n",
    "Phone.AddType(builder, PhoneType.PhoneType.MOBILE)\n",
    "phone = Phone.End(builder)\n",
    "\n",
    "emails = [builder.CreateString('<EMAIL_1>'), builder.CreateString('<EMAIL_2>')]\n",
    "\n",
    "Person.StartEmailVector(builder, len(emails))\n",
    "for email in emails:\n",
    "    builder.PrependUOffsetTRelative(email)\n",
    "emails_vector = builder.EndVector()\n",
    "\n",
    "Person.Start(builder)\n",
    "Person.AddName(builder, name)\n",
    "Person.AddAge(builder, 25)\n",
    "Person.AddEmail(builder, emails_vector)\n",
    "Person.AddPhone(builder, phone)\n",
    "person = Person.End(builder)\n",
    "\n",
    "builder.Finish(person)\n",
    "\n",
    "ser = builder.Output()\n",
    "print(ser)\n"
   ]
  },
  {
   "cell_type": "code",
   "execution_count": 4,
   "metadata": {},
   "outputs": [
    {
     "name": "stdout",
     "output_type": "stream",
     "text": [
      "25\n",
      "b'<NAME>'\n"
     ]
    }
   ],
   "source": [
    "p = Person.Person.GetRootAs(ser)\n",
    "\n",
    "print(p.Age())\n",
    "print(p.Name())"
   ]
  },
  {
   "cell_type": "markdown",
   "metadata": {},
   "source": [
    "Разница между protobuf и flatbuf\n",
    "https://capnproto.org/news/2014-06-17-capnproto-flatbuffers-sbe.html"
   ]
  }
 ],
 "metadata": {
  "kernelspec": {
   "display_name": "Python 3 (ipykernel)",
   "language": "python",
   "name": "python3"
  },
  "language_info": {
   "codemirror_mode": {
    "name": "ipython",
    "version": 3
   },
   "file_extension": ".py",
   "mimetype": "text/x-python",
   "name": "python",
   "nbconvert_exporter": "python",
   "pygments_lexer": "ipython3",
   "version": "3.12.7"
  }
 },
 "nbformat": 4,
 "nbformat_minor": 4
}
