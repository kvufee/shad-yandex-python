{
 "cells": [
  {
   "cell_type": "markdown",
   "metadata": {
    "pycharm": {
     "name": "#%% md\n"
    },
    "slideshow": {
     "slide_type": "slide"
    }
   },
   "source": [
    "<center>\n",
    "    <img src=\"https://upload.wikimedia.org/wikipedia/commons/a/a8/%D0%9B%D0%9E%D0%93%D0%9E_%D0%A8%D0%90%D0%94.png\" width=500px/>\n",
    "    <font>Python 2024</font><br/>\n",
    "    <br/>\n",
    "    <br/>\n",
    "    <b style=\"font-size: 2em\">Простые паттерны проектирования</b><br/>\n",
    "    <br/>\n",
    "    <font>Абасов Ислам</font><br/>\n",
    "</center>"
   ]
  },
  {
   "cell_type": "markdown",
   "metadata": {},
   "source": [
    "## План лекции\n",
    "\n",
    "### 1. Введение в паттерны проектирования\n",
    "- **Определение и необходимость паттернов проектирования**\n",
    "  - Что такое паттерны проектирования\n",
    "  - Зачем использовать паттерны\n",
    "- **История и возникновение**\n",
    "  - Введение концепции паттернов (Книга: \"Design Patterns\" Э.Гамм, Р.Хелм, Р.Джонсон, Дж.Влиссидес)\n",
    "- **Классификация паттернов**\n",
    "  - Порождающие\n",
    "  - Структурные\n",
    "  - Поведенческие\n",
    "\n",
    "### 2. Порождающие паттерны\n",
    "- **Singleton**\n",
    "- **Factory Method**\n",
    "- **Abstract Factory**\n",
    "- **Builder**\n",
    "- **Prototype**\n",
    "\n",
    "### 3. Структурные паттерны\n",
    "- **Adapter**\n",
    "- **Bridge**\n",
    "- **Composite**\n",
    "- **Decorator**\n",
    "- **Facade**\n",
    "- **Flyweight**\n",
    "- **Proxy**\n",
    "\n",
    "### 4. Поведенческие паттерны\n",
    "- **Iterator**\n",
    "- **Observer**\n",
    "- **Strategy**\n",
    "- **Command**\n",
    "- **Chain of Responsibility**\n",
    "- **Mediator**\n",
    "- **Memento**\n",
    "\n",
    "### 5. Практическое применение\n",
    "- **Преимущества применения паттернов**\n",
    "- **Антипаттерны**\n",
    "- **Случаи из реальной жизни**\n"
   ]
  },
  {
   "cell_type": "markdown",
   "metadata": {},
   "source": [
    "## Введение"
   ]
  },
  {
   "cell_type": "markdown",
   "metadata": {},
   "source": [
    "Шаблон проектирования (паттерн, от англ. design pattern) — повторяемая архитектурная конструкция в сфере проектирования программного обеспечения, предлагающая решение проблемы проектирования в рамках некоторого часто возникающего контекста. @Wikipedia"
   ]
  },
  {
   "cell_type": "markdown",
   "metadata": {},
   "source": [
    "**Зачем использовать паттерны?**\n",
    "  - **Унифицированность:** Паттерны обеспечивают общий язык, который понимают разработчики во всем мире, что облегчает коммуникацию и обсуждение архитектурных решений.\n",
    "  - **Повторное использование решений:** Паттерны позволяют использовать проверенные временем стратегии и решения, что может существенно ускорить процесс разработки.\n",
    "  - **Гибкость и адаптируемость:** Корректно примененные паттерны улучшают расширяемость и поддержку кода, позволяя более гибко менять компоненты системы."
   ]
  },
  {
   "cell_type": "markdown",
   "metadata": {},
   "source": [
    "Банда собрала и описала паттерны, что используются в ООП. Идея была позаимствована из архитектуры зданий."
   ]
  },
  {
   "cell_type": "markdown",
   "metadata": {},
   "source": [
    "<img src=\"imgs/band_foud_book.webp\" alt=\"Description of Image\" width=\"300\"/>"
   ]
  },
  {
   "cell_type": "markdown",
   "metadata": {
    "vscode": {
     "languageId": "plaintext"
    }
   },
   "source": [
    "#### Классификация паттернов\n",
    "\n",
    "- **Порождающие паттерны:**\n",
    "  Эти паттерны связаны с созданием объектов, обеспечивая гибкость и повторное использование кода при создании новых объектов. Примеры включают Singleton, FactoryMethod и другие.\n",
    "\n",
    "- **Структурные паттерны:**\n",
    "  Структурные паттерны касаются композиции классов и объектов для формирования новых функциональностей. Они помогают в упрощении структуры посредством эффективного создания отношений между объектами. Примеры включают Adapter, Composite и другие.\n",
    "\n",
    "- **Поведенческие паттерны:**\n",
    "  Эти паттерны подчеркивают взаимодействие между объектами и распределение обязанностей между ними. Они способствуют определению того, каким образом объекты взаимодействуют и общаются друг с другом. Примеры включают Observer, Strategy и другие.\n"
   ]
  },
  {
   "cell_type": "markdown",
   "metadata": {},
   "source": [
    "## 2. Порождающие паттерны"
   ]
  },
  {
   "cell_type": "markdown",
   "metadata": {},
   "source": [
    "### 2.1. Singleton"
   ]
  },
  {
   "cell_type": "markdown",
   "metadata": {},
   "source": [
    "Паттерн Singleton (одиночка) — это порождающий паттерн проектирования, который гарантирует, что у класса будет только один экземпляр, и предоставляет к нему глобальную точку доступа. Этот паттерн часто используется, когда необходимо контролировать доступ к какому-то общему ресурсу, например, база данных или конфигурационный файл."
   ]
  },
  {
   "cell_type": "code",
   "execution_count": 1,
   "metadata": {},
   "outputs": [
    {
     "name": "stdout",
     "output_type": "stream",
     "text": [
      "Первый экземпляр\n",
      "Первый экземпляр\n",
      "True\n"
     ]
    }
   ],
   "source": [
    "class SingletonMeta(type):\n",
    "    \"\"\"Это метакласс для создания Singleton классов.\"\"\"\n",
    "    _instances = {}\n",
    "\n",
    "    def __call__(cls, *args, **kwargs):\n",
    "        if cls not in cls._instances:\n",
    "            instance = super().__call__(*args, **kwargs)\n",
    "            cls._instances[cls] = instance\n",
    "        return cls._instances[cls]\n",
    "\n",
    "class Singleton(metaclass=SingletonMeta):\n",
    "    \"\"\"Пример класса, реализующего паттерн Singleton.\"\"\"\n",
    "\n",
    "    def __init__(self, value=None):\n",
    "        self.value = value\n",
    "\n",
    "# Пример использования\n",
    "singleton1 = Singleton(\"Первый экземпляр\")\n",
    "print(singleton1.value)\n",
    "\n",
    "singleton2 = Singleton(\"Второй экземпляр\")\n",
    "print(singleton2.value)\n",
    "\n",
    "# Проверка, что оба ссылки ссылаются на один и тот же объект\n",
    "print(singleton1 is singleton2)  # Вывод: True"
   ]
  },
  {
   "cell_type": "markdown",
   "metadata": {},
   "source": [
    "### 2.2.Factory Method \n",
    "\n",
    "Частный случай Абстрактной фабрики."
   ]
  },
  {
   "cell_type": "markdown",
   "metadata": {},
   "source": [
    "### 2.3 Abstract Factory\n",
    "\n",
    "Паттерн Abstract Factory (абстрактная фабрика) является порождающим паттерном проектирования, который предоставляет интерфейс для создания семейств связанных или зависимых объектов без указания их конкретных классов. Это позволяет клиентскому коду работать с этими объектами, используя их общие интерфейсы, а конкретные детали реализации остаются скрытыми."
   ]
  },
  {
   "cell_type": "code",
   "execution_count": 6,
   "metadata": {},
   "outputs": [
    {
     "name": "stdout",
     "output_type": "stream",
     "text": [
      "Клиент: Тестируем клиентский код с Windows фабрикой:\n",
      "Кнопка в стиле Windows\n",
      "Чекбокс в стиле Windows\n",
      "\n",
      "Клиент: Тестируем клиентский код с Mac фабрикой:\n",
      "Кнопка в стиле macOS\n",
      "Чекбокс в стиле macOS\n"
     ]
    }
   ],
   "source": [
    "from abc import ABC, abstractmethod\n",
    "\n",
    "# Абстрактные продукты\n",
    "class Button(ABC):\n",
    "    @abstractmethod\n",
    "    def paint(self):\n",
    "        pass\n",
    "\n",
    "class Checkbox(ABC):\n",
    "    @abstractmethod\n",
    "    def paint(self):\n",
    "        pass\n",
    "\n",
    "# Конкретные продукты для Windows\n",
    "class WinButton(Button):\n",
    "    def paint(self):\n",
    "        return \"Кнопка в стиле Windows\"\n",
    "\n",
    "class WinCheckbox(Checkbox):\n",
    "    def paint(self):\n",
    "        return \"Чекбокс в стиле Windows\"\n",
    "\n",
    "# Конкретные продукты для macOS\n",
    "class MacButton(Button):\n",
    "    def paint(self):\n",
    "        return \"Кнопка в стиле macOS\"\n",
    "\n",
    "class MacCheckbox(Checkbox):\n",
    "    def paint(self):\n",
    "        return \"Чекбокс в стиле macOS\"\n",
    "\n",
    "# Абстрактная фабрика\n",
    "class GUIFactory(ABC):\n",
    "    @abstractmethod\n",
    "    def create_button(self) -> Button:\n",
    "        pass\n",
    "\n",
    "    @abstractmethod\n",
    "    def create_checkbox(self) -> Checkbox:\n",
    "        pass\n",
    "\n",
    "# Конкретные фабрики для Windows\n",
    "class WinFactory(GUIFactory):\n",
    "    def create_button(self) -> Button:\n",
    "        return WinButton()\n",
    "\n",
    "    def create_checkbox(self) -> Checkbox:\n",
    "        return WinCheckbox()\n",
    "\n",
    "# Конкретные фабрики для macOS\n",
    "class MacFactory(GUIFactory):\n",
    "    def create_button(self) -> Button:\n",
    "        return MacButton()\n",
    "\n",
    "    def create_checkbox(self) -> Checkbox:\n",
    "        return MacCheckbox()\n",
    "\n",
    "# Клиентский код\n",
    "def client_code(factory: GUIFactory):\n",
    "    button = factory.create_button()\n",
    "    checkbox = factory.create_checkbox()\n",
    "    print(button.paint())\n",
    "    print(checkbox.paint())\n",
    "\n",
    "# Пример использования\n",
    "print(\"Клиент: Тестируем клиентский код с Windows фабрикой:\")\n",
    "client_code(WinFactory())\n",
    "\n",
    "print(\"\\nКлиент: Тестируем клиентский код с Mac фабрикой:\")\n",
    "client_code(MacFactory())"
   ]
  },
  {
   "cell_type": "markdown",
   "metadata": {},
   "source": [
    "### 2.4. Builder\n",
    "\n",
    "Паттерн Builder (строитель) — это порождающий паттерн проектирования, который используется для пошагового создания сложных объектов. Он отделяет конструирование объекта от его представления, позволяя создавать различные представления одного и того же объекта. Builder полезен, когда процесс создания объекта должен быть независим от частей, из которых объект состоит, и от порядка их сборки."
   ]
  },
  {
   "cell_type": "code",
   "execution_count": 8,
   "metadata": {},
   "outputs": [
    {
     "name": "stdout",
     "output_type": "stream",
     "text": [
      "Pizza with thick dough, pesto sauce, and cheddar topping.\n",
      "Pizza with thin dough, tomato sauce, and mozzarella topping.\n"
     ]
    }
   ],
   "source": [
    "# Продукт\n",
    "class Pizza:\n",
    "    def __init__(self):\n",
    "        self.dough = None\n",
    "        self.sauce = None\n",
    "        self.topping = None\n",
    "\n",
    "    def __str__(self):\n",
    "        return f\"Pizza with {self.dough} dough, {self.sauce} sauce, and {self.topping} topping.\"\n",
    "\n",
    "\n",
    "# Интерфейс строителя\n",
    "class IPizzaBuilder:\n",
    "    def set_dough(self, dough_type):\n",
    "        raise NotImplementedError\n",
    "\n",
    "    def set_sauce(self, sauce_type):\n",
    "        raise NotImplementedError\n",
    "\n",
    "    def set_topping(self, topping_type):\n",
    "        raise NotImplementedError\n",
    "\n",
    "    def build(self):\n",
    "        raise NotImplementedError\n",
    "\n",
    "# Конкретный строитель\n",
    "class MargheritaPizzaBuilder(PizzaBuilder):\n",
    "    def __init__(self):\n",
    "        self.pizza = Pizza()\n",
    "\n",
    "    def set_dough(self, dough_type):\n",
    "        self.pizza.dough = dough_type\n",
    "        return self\n",
    "\n",
    "    def set_sauce(self, sauce_type):\n",
    "        self.pizza.sauce = sauce_type\n",
    "        return self\n",
    "\n",
    "    def set_topping(self, topping_type):\n",
    "        self.pizza.topping = topping_type\n",
    "        return self\n",
    "\n",
    "    def build(self):\n",
    "        return self.pizza\n",
    "\n",
    "\n",
    "# Директор (опционально)\n",
    "class PizzaDirector:\n",
    "    def __init__(self, builder: PizzaBuilder):\n",
    "        self._builder = builder\n",
    "\n",
    "    def make(self):\n",
    "        return self._builder.set_dough(\"thin\").set_sauce(\"tomato\").set_topping(\"mozzarella\").build()\n",
    "\n",
    "# Клиент напрямую использует билдера\n",
    "builder = MargheritaPizzaBuilder()\n",
    "pizza = builder.set_dough(\"thick\").set_sauce(\"pesto\").set_topping(\"cheddar\").build()\n",
    "print(pizza)\n",
    "\n",
    "# Использование через Директора\n",
    "director = PizzaDirector(MargheritaPizzaBuilder())\n",
    "pizza_from_director = director.make()\n",
    "print(pizza_from_director)"
   ]
  },
  {
   "cell_type": "markdown",
   "metadata": {},
   "source": [
    "### 2.5 Prototype\n",
    "\n",
    "Паттерн Prototype (прототип) — это порождающий паттерн проектирования, который позволяет создавать новые объекты путем клонирования существующих. Он используется, когда создать объект сложно или ресурсозатратно, и его выгоднее скопировать, чем создать заново. Этот паттерн также подходит, когда объект должен быть независимым от его класса, и создание новых экземпляров требует значительных изменений в коде."
   ]
  },
  {
   "cell_type": "code",
   "execution_count": 9,
   "metadata": {},
   "outputs": [
    {
     "name": "stdout",
     "output_type": "stream",
     "text": [
      "Circle with radius 5 and color red\n",
      "Circle with radius 5 and color red\n"
     ]
    }
   ],
   "source": [
    "from abc import ABC, abstractmethod\n",
    "import copy\n",
    "\n",
    "# Прототип\n",
    "class Prototype(ABC):\n",
    "    @abstractmethod\n",
    "    def clone(self):\n",
    "        pass\n",
    "\n",
    "# Конкретный Прототип: Класс Круга\n",
    "class Circle(Prototype):\n",
    "    def __init__(self, radius, color):\n",
    "        self.radius = radius\n",
    "        self.color = color\n",
    "\n",
    "    def clone(self):\n",
    "        # Используем глубокое копирование для клонирования объекта\n",
    "        return copy.deepcopy(self)\n",
    "\n",
    "    def __str__(self):\n",
    "        return f\"Circle with radius {self.radius} and color {self.color}\"\n",
    "\n",
    "original_circle = Circle(5, \"red\")\n",
    "cloned_circle = original_circle.clone()\n",
    "print(original_circle)  # Output: Circle with radius 5 and color red\n",
    "print(cloned_circle)    # Output: Circle with radius 5 and color red"
   ]
  },
  {
   "cell_type": "markdown",
   "metadata": {},
   "source": [
    "## 3. Структурные паттерны\n",
    "### 3.1. Adapter\n",
    "\n",
    "Паттерн Adapter (адаптер) — это структурный паттерн проектирования, который позволяет объектам с несовместимыми интерфейсами работать вместе. Это достигается путем обертывания одного интерфейса другим, который ожидает клиентский код. Адаптер служит в роли посредника, транслирующего запросы клиентского кода в понятные целевому объекту вызовы."
   ]
  },
  {
   "cell_type": "code",
   "execution_count": 2,
   "metadata": {},
   "outputs": [
    {
     "name": "stdout",
     "output_type": "stream",
     "text": [
      "Playing mp3 file: song.mp3\n",
      "Audio type wav is not supported.\n"
     ]
    }
   ],
   "source": [
    "# Целевой интерфейс\n",
    "class AudioPlayer:\n",
    "    def play(self, audio_type: str, file_name: str):\n",
    "        raise NotImplementedError\n",
    "\n",
    "# Адаптируемый интерфейс (старый аудио проигрыватель)\n",
    "class OldAudioPlayer:\n",
    "    def play_mp3(self, file_name: str):\n",
    "        print(f\"Playing mp3 file: {file_name}\")\n",
    "\n",
    "# Адаптер\n",
    "class AudioPlayerAdapter(AudioPlayer):\n",
    "    def __init__(self):\n",
    "        self.old_audio_player = OldAudioPlayer()\n",
    "\n",
    "    def play(self, audio_type: str, file_name: str):\n",
    "        if audio_type == \"mp3\":\n",
    "            self.old_audio_player.play_mp3(file_name)\n",
    "        else:\n",
    "            print(f\"Audio type {audio_type} is not supported.\")\n",
    "\n",
    "player = AudioPlayerAdapter()\n",
    "player.play(\"mp3\", \"song.mp3\")  # Output: Playing mp3 file: song.mp3\n",
    "player.play(\"wav\", \"song.wav\")  # Output: Audio type wav is not supported."
   ]
  },
  {
   "cell_type": "markdown",
   "metadata": {},
   "source": [
    "### 3.2. Bridge\n",
    "\n",
    "Паттерн Bridge (мост) — это структурный паттерн проектирования, который разделяет абстракцию и её реализацию таким образом, чтобы они могли изменяться независимо. Это достигается путем использования двух отдельной иерархии классов: одной для абстракции и другой для реализации. Bridge полезен, когда класс нуждается в изменении одного из аспектов (например, реализация или интерфейс) без влияния на другие аспекты."
   ]
  },
  {
   "cell_type": "code",
   "execution_count": null,
   "metadata": {},
   "outputs": [
    {
     "name": "stdout",
     "output_type": "stream",
     "text": [
      "DrawingCircle v1 at (1, 2) with radius 3\n",
      "DrawingCircle v2 at (5, 7) with radius 11\n",
      "DrawingCircle v1 at (1, 2) with radius 7.5\n"
     ]
    }
   ],
   "source": [
    "# Реализация\n",
    "class DrawingAPI:\n",
    "    def draw_circle(self, x, y, radius):\n",
    "        raise NotImplementedError\n",
    "\n",
    "# Конкретная реализация #1\n",
    "class DrawingAPIv1(DrawingAPI):\n",
    "    def draw_circle(self, x, y, radius):\n",
    "        print(f'DrawingCircle v1 at ({x}, {y}) with radius {radius}')\n",
    "\n",
    "# Конкретная реализация #2\n",
    "class DrawingAPIv2(DrawingAPI):\n",
    "    def draw_circle(self, x, y, radius):\n",
    "        print(f'DrawingCircle v2 at ({x}, {y}) with radius {radius}')\n",
    "\n",
    "# Абстракция\n",
    "class Shape:\n",
    "    def draw(self):\n",
    "        raise NotImplementedError\n",
    "    \n",
    "    def resize_by_percentage(self, pct):\n",
    "        raise NotImplementedError\n",
    "\n",
    "# Расширенная Абстракция\n",
    "class CircleShape(Shape):\n",
    "    def __init__(self, x, y, radius, drawing_api: DrawingAPI):\n",
    "        self._x = x\n",
    "        self._y = y\n",
    "        self._radius = radius\n",
    "        self._drawing_api = drawing_api\n",
    "\n",
    "    def draw(self):\n",
    "        self._drawing_api.draw_circle(self._x, self._y, self._radius)\n",
    "\n",
    "    def resize_by_percentage(self, pct):\n",
    "        self._radius *= pct\n",
    "\n",
    "\n",
    "circle1 = CircleShape(1, 2, 3, DrawingAPIv1())\n",
    "circle2 = CircleShape(5, 7, 11, DrawingAPIv2())\n",
    "\n",
    "circle1.draw()  # Output: DrawingCircle v1 at (1, 2) with radius 3\n",
    "circle2.draw()  # Output: DrawingCircle v2 at (5, 7) with radius 11\n",
    "\n",
    "circle1.resize_by_percentage(2.5)\n",
    "circle1.draw()  # Output: DrawingCircle v1 at (1, 2) with radius 7.5"
   ]
  },
  {
   "cell_type": "markdown",
   "metadata": {},
   "source": [
    "### 3.3. Composite\n",
    "\n",
    "Паттерн Composite (компоновщик) — это структурный паттерн проектирования, который позволяет создавать древовидные структуры объектов, где каждый элемент может быть как простым объектом, так и композицией из других объектов. Этот паттерн позволяет клиентскому коду работать с отдельными объектами и их группами единообразно."
   ]
  },
  {
   "cell_type": "code",
   "execution_count": 14,
   "metadata": {},
   "outputs": [
    {
     "name": "stdout",
     "output_type": "stream",
     "text": [
      "Team: Software Team\n",
      "|-- Developer: Alice, Position: Senior Developer\n",
      "|-- Developer: Bob, Position: Junior Developer\n",
      "|-- Designer: Charlie, Position: Lead Designer\n"
     ]
    }
   ],
   "source": [
    "from abc import ABC, abstractmethod\n",
    "\n",
    "# Компонент\n",
    "class Employee(ABC):\n",
    "    @abstractmethod\n",
    "    def get_details(self):\n",
    "        pass\n",
    "\n",
    "# Лист\n",
    "class Developer(Employee):\n",
    "    def __init__(self, name, position):\n",
    "        self.name = name\n",
    "        self.position = position\n",
    "\n",
    "    def get_details(self):\n",
    "        return f\"Developer: {self.name}, Position: {self.position}\"\n",
    "\n",
    "# Лист\n",
    "class Designer(Employee):\n",
    "    def __init__(self, name, position):\n",
    "        self.name = name\n",
    "        self.position = position\n",
    "\n",
    "    def get_details(self):\n",
    "        return f\"Designer: {self.name}, Position: {self.position}\"\n",
    "\n",
    "# Контейнер\n",
    "class Team(Employee):\n",
    "    def __init__(self, name):\n",
    "        self.name = name\n",
    "        self.employees = []\n",
    "\n",
    "    def add(self, employee: Employee):\n",
    "        self.employees.append(employee)\n",
    "\n",
    "    def remove(self, employee: Employee):\n",
    "        self.employees.remove(employee)\n",
    "\n",
    "    def get_details(self):\n",
    "        details = [f\"Team: {self.name}\"]\n",
    "        for employee in self.employees:\n",
    "            details.append(\"|-- \" + employee.get_details())\n",
    "        return \"\\n\".join(details)\n",
    "\n",
    "\n",
    "dev1 = Developer(\"Alice\", \"Senior Developer\")\n",
    "dev2 = Developer(\"Bob\", \"Junior Developer\")\n",
    "designer = Designer(\"Charlie\", \"Lead Designer\")\n",
    "\n",
    "team = Team(\"Software Team\")\n",
    "team.add(dev1)\n",
    "team.add(dev2)\n",
    "team.add(designer)\n",
    "\n",
    "print(team.get_details())"
   ]
  },
  {
   "cell_type": "markdown",
   "metadata": {},
   "source": [
    "### 3.4. Decorator\n",
    "\n",
    "Паттерн Decorator (декоратор) — это структурный паттерн проектирования, который позволяет динамически добавлять объектам новую функциональность, оборачивая их в полезные \"обертки\". Декораторы предоставляют гибкую альтернативу наследованию для расширения функциональности."
   ]
  },
  {
   "cell_type": "code",
   "execution_count": 17,
   "metadata": {},
   "outputs": [
    {
     "name": "stdout",
     "output_type": "stream",
     "text": [
      "Email Notification:\n",
      "Logging: Hello, World!\n",
      "Sending Email: Hello, World!\n",
      "\n",
      "SMS Notification:\n",
      "Logging: Hello, World!\n",
      "Sending SMS: Hello, World!\n"
     ]
    }
   ],
   "source": [
    "from abc import ABC, abstractmethod\n",
    "\n",
    "# Компонент\n",
    "class Notifier(ABC):\n",
    "    @abstractmethod\n",
    "    def send(self, message: str):\n",
    "        pass\n",
    "\n",
    "# Конкретный компонент\n",
    "class EmailNotifier(Notifier):\n",
    "    def send(self, message: str):\n",
    "        print(f\"Sending Email: {message}\")\n",
    "\n",
    "# Конкретный компонент\n",
    "class SMSNotifier(Notifier):\n",
    "    def send(self, message: str):\n",
    "        print(f\"Sending SMS: {message}\")\n",
    "\n",
    "# Декоратор\n",
    "class NotifierDecorator(Notifier):\n",
    "    def __init__(self, notifier: Notifier):\n",
    "        self._notifier = notifier\n",
    "\n",
    "    def send(self, message: str):\n",
    "        self._notifier.send(message)\n",
    "\n",
    "# Конкретный декоратор\n",
    "class LoggingNotifier(NotifierDecorator):\n",
    "    def send(self, message: str):\n",
    "        print(f\"Logging: {message}\")\n",
    "        super().send(message)\n",
    "\n",
    "\n",
    "message = \"Hello, World!\"\n",
    "\n",
    "email_notifier = EmailNotifier()\n",
    "sms_notifier = SMSNotifier()\n",
    "\n",
    "logging_email_notifier = LoggingNotifier(email_notifier)\n",
    "logging_sms_notifier = LoggingNotifier(sms_notifier)\n",
    "\n",
    "# Отправляем уведомления\n",
    "print(\"Email Notification:\")\n",
    "logging_email_notifier.send(message)\n",
    "\n",
    "print(\"\\nSMS Notification:\")\n",
    "logging_sms_notifier.send(message)\n"
   ]
  },
  {
   "cell_type": "markdown",
   "metadata": {},
   "source": [
    "### 3.5. Facade\n",
    "Паттерн Facade (фасад) — это структурный паттерн проектирования, который предоставляет унифицированный интерфейс для работы с комплексной подсистемой, облегчая клиентам взаимодействие с ней. Фасад скрывает сложность подсистемы, предоставляя простой интерфейс, и часто используется для упрощения интеграции между различными системами или уменьшения зависимости клиентского кода от множества классов."
   ]
  },
  {
   "cell_type": "code",
   "execution_count": 19,
   "metadata": {},
   "outputs": [
    {
     "name": "stdout",
     "output_type": "stream",
     "text": [
      "Getting ready to watch a movie...\n",
      "Amplifier on\n",
      "DVD Player on\n",
      "Playing movie Inception\n",
      "Setting volume to 10\n",
      "Movie is now playing!\n",
      "\n",
      "Getting ready to listen to a CD...\n",
      "Amplifier on\n",
      "CD Player on\n",
      "Playing Beatles - Abbey Road\n",
      "Setting volume to 5\n",
      "CD is now playing!\n",
      "\n",
      "Getting ready to listen to the radio...\n",
      "Amplifier on\n",
      "Tuner on\n",
      "Setting frequency to 101.2\n",
      "Setting volume to 7\n",
      "Radio is now playing!\n",
      "\n"
     ]
    }
   ],
   "source": [
    "# Сложные подсистемы\n",
    "class Amplifier:\n",
    "    def on(self):\n",
    "        print(\"Amplifier on\")\n",
    "\n",
    "    def set_volume(self, level: int):\n",
    "        print(f\"Setting volume to {level}\")\n",
    "\n",
    "class Tuner:\n",
    "    def on(self):\n",
    "        print(\"Tuner on\")\n",
    "\n",
    "    def set_frequency(self, frequency: float):\n",
    "        print(f\"Setting frequency to {frequency}\")\n",
    "\n",
    "class CDPlayer:\n",
    "    def on(self):\n",
    "        print(\"CD Player on\")\n",
    "\n",
    "    def play(self, cd_name: str):\n",
    "        print(f\"Playing {cd_name}\")\n",
    "\n",
    "class DVDPlayer:\n",
    "    def on(self):\n",
    "        print(\"DVD Player on\")\n",
    "\n",
    "    def play_movie(self, movie_name: str):\n",
    "        print(f\"Playing movie {movie_name}\")\n",
    "\n",
    "# Фасад\n",
    "class HomeTheaterFacade:\n",
    "    def __init__(self, amplifier: Amplifier, tuner: Tuner, cd_player: CDPlayer, dvd_player: DVDPlayer):\n",
    "        self.amplifier = amplifier\n",
    "        self.tuner = tuner\n",
    "        self.cd_player = cd_player\n",
    "        self.dvd_player = dvd_player\n",
    "\n",
    "    def watch_movie(self, movie_name: str):\n",
    "        print(\"Getting ready to watch a movie...\")\n",
    "        self.amplifier.on()\n",
    "        self.dvd_player.on()\n",
    "        self.dvd_player.play_movie(movie_name)\n",
    "        self.amplifier.set_volume(10)\n",
    "        print(\"Movie is now playing!\\n\")\n",
    "\n",
    "    def listen_to_cd(self, cd_name: str):\n",
    "        print(\"Getting ready to listen to a CD...\")\n",
    "        self.amplifier.on()\n",
    "        self.cd_player.on()\n",
    "        self.cd_player.play(cd_name)\n",
    "        self.amplifier.set_volume(5)\n",
    "        print(\"CD is now playing!\\n\")\n",
    "\n",
    "    def listen_to_radio(self, frequency: float):\n",
    "        print(\"Getting ready to listen to the radio...\")\n",
    "        self.amplifier.on()\n",
    "        self.tuner.on()\n",
    "        self.tuner.set_frequency(frequency)\n",
    "        self.amplifier.set_volume(7)\n",
    "        print(\"Radio is now playing!\\n\")\n",
    "\n",
    "\n",
    "amplifier = Amplifier()\n",
    "tuner = Tuner()\n",
    "cd_player = CDPlayer()\n",
    "dvd_player = DVDPlayer()\n",
    "\n",
    "home_theater = HomeTheaterFacade(amplifier, tuner, cd_player, dvd_player)\n",
    "\n",
    "home_theater.watch_movie(\"Inception\")\n",
    "home_theater.listen_to_cd(\"Beatles - Abbey Road\")\n",
    "home_theater.listen_to_radio(101.2)"
   ]
  },
  {
   "cell_type": "markdown",
   "metadata": {},
   "source": [
    "### 3.6. Flyweight\n",
    "Паттерн Flyweight (приспособленец) — это структурный паттерн проектирования, который позволяет существенно снизить затраты памяти за счёт кеширования и повторного использования больших объёмов мелких объектов. Паттерн особенно полезен, когда в системе требуется большое количество объектов, которые имеют значительное количество общих данных."
   ]
  },
  {
   "cell_type": "code",
   "execution_count": 3,
   "metadata": {},
   "outputs": [
    {
     "name": "stdout",
     "output_type": "stream",
     "text": [
      "Creating new tree type: Oak, color: Green, texture: Rough\n",
      "Creating new tree type: Pine, color: Dark Green, texture: Smooth\n",
      "Creating new tree type: Birch, color: White, texture: Striped\n",
      "Drawing a Oak tree with color Green and texture Rough at (1, 1)\n",
      "Drawing a Pine tree with color Dark Green and texture Smooth at (2, 3)\n",
      "Drawing a Birch tree with color White and texture Striped at (6, 8)\n",
      "Drawing a Pine tree with color Dark Green and texture Smooth at (1, 5)\n",
      "Drawing a Oak tree with color Green and texture Rough at (15, 3)\n"
     ]
    }
   ],
   "source": [
    "# Flyweight — объект, который хранит внутреннее состояние (разделяемое)\n",
    "class TreeType:\n",
    "    def __init__(self, name: str, color: str, texture: str):\n",
    "        self.name = name\n",
    "        self.color = color\n",
    "        self.texture = texture\n",
    "\n",
    "    def draw(self, x: int, y: int):\n",
    "        print(f\"Drawing a {self.name} tree with color {self.color} and texture {self.texture} at ({x}, {y})\")\n",
    "\n",
    "# Фабрика Flyweight для создания и управления объектами TreeType\n",
    "class TreeFactory:\n",
    "    _tree_types: dict[str, TreeType] = {}\n",
    "\n",
    "    @classmethod\n",
    "    def get_tree_type(cls, name: str, color: str, texture: str) -> TreeType:\n",
    "        key = (name, color, texture)\n",
    "        if key not in cls._tree_types:\n",
    "            print(f\"Creating new tree type: {name}, color: {color}, texture: {texture}\")\n",
    "            cls._tree_types[key] = TreeType(name, color, texture)\n",
    "        return cls._tree_types[key]\n",
    "\n",
    "# Внешний объект, который содержит уникальное состояние (координаты) для каждого дерева\n",
    "class Tree:\n",
    "    def __init__(self, x: int, y: int, tree_type: TreeType):\n",
    "        self.x = x\n",
    "        self.y = y\n",
    "        self.tree_type = tree_type\n",
    "\n",
    "    def draw(self):\n",
    "        self.tree_type.draw(self.x, self.y)\n",
    "\n",
    "# Класс, управляющий коллекцией объектов Tree\n",
    "class Forest:\n",
    "    def __init__(self):\n",
    "        self.trees = []\n",
    "\n",
    "    def plant_tree(self, x: int, y: int, name: str, color: str, texture: str):\n",
    "        tree_type = TreeFactory.get_tree_type(name, color, texture)\n",
    "        tree = Tree(x, y, tree_type)\n",
    "        self.trees.append(tree)\n",
    "\n",
    "    def draw(self):\n",
    "        for tree in self.trees:\n",
    "            tree.draw()\n",
    "\n",
    "\n",
    "forest = Forest()\n",
    "\n",
    "# Рассадим различные деревья\n",
    "forest.plant_tree(1, 1, \"Oak\", \"Green\", \"Rough\")\n",
    "forest.plant_tree(2, 3, \"Pine\", \"Dark Green\", \"Smooth\")\n",
    "forest.plant_tree(6, 8, \"Birch\", \"White\", \"Striped\")\n",
    "forest.plant_tree(1, 5, \"Pine\", \"Dark Green\", \"Smooth\")\n",
    "forest.plant_tree(15, 3, \"Oak\", \"Green\", \"Rough\")\n",
    "\n",
    "forest.draw()"
   ]
  },
  {
   "cell_type": "markdown",
   "metadata": {},
   "source": [
    "Кстати, можно считать, что int в Python реалзиует этот паттерн"
   ]
  },
  {
   "cell_type": "code",
   "execution_count": 5,
   "metadata": {},
   "outputs": [
    {
     "name": "stdout",
     "output_type": "stream",
     "text": [
      "True\n",
      "False\n"
     ]
    }
   ],
   "source": [
    "a = 1\n",
    "b = 1\n",
    "c = 1000\n",
    "d = 1000\n",
    "print(a is b)\n",
    "print(c is d)"
   ]
  },
  {
   "cell_type": "markdown",
   "metadata": {},
   "source": [
    "### 3.7 Proxy\n",
    "\n",
    "Паттерн Proxy (Заместитель) — это структурный паттерн проектирования, который предоставляет объект, представляющий собой интерфейс другого объекта. Заместитель контролирует доступ к этому объекту, что может быть полезно для различных задач, таких как кэширование, контроль доступа, отложенная инициализация или логирование.\n"
   ]
  },
  {
   "cell_type": "code",
   "execution_count": 6,
   "metadata": {},
   "outputs": [
    {
     "name": "stdout",
     "output_type": "stream",
     "text": [
      "Loading photo1.jpg from disk...\n",
      "Displaying photo1.jpg\n",
      "Displaying photo1.jpg\n"
     ]
    }
   ],
   "source": [
    "from abc import ABC, abstractmethod\n",
    "\n",
    "# Интерфейс, который должны реализовать как реальный объект, так и его заместитель\n",
    "class Image(ABC):\n",
    "    @abstractmethod\n",
    "    def display(self):\n",
    "        pass\n",
    "\n",
    "# Реальный объект, который является ресурсоёмким\n",
    "class RealImage(Image):\n",
    "    def __init__(self, filename: str):\n",
    "        self.filename = filename\n",
    "        self.load_from_disk()\n",
    "\n",
    "    def load_from_disk(self):\n",
    "        print(f\"Loading {self.filename} from disk...\")\n",
    "\n",
    "    def display(self):\n",
    "        print(f\"Displaying {self.filename}\")\n",
    "\n",
    "# Заместитель, который контролирует доступ к RealImage\n",
    "class ProxyImage(Image):\n",
    "    def __init__(self, filename: str):\n",
    "        self.filename = filename\n",
    "        self.real_image = None\n",
    "\n",
    "    def display(self):\n",
    "        if not self.real_image:\n",
    "            self.real_image = RealImage(self.filename)  # загрузка только при необходимости\n",
    "        self.real_image.display()\n",
    "\n",
    "\n",
    "image1 = ProxyImage(\"photo1.jpg\")\n",
    "image2 = ProxyImage(\"photo2.jpg\")\n",
    "\n",
    "# Изображения загружаются с диска только при первом обращении\n",
    "image1.display()  # Загружается и отображается\n",
    "image1.display()  # Только отображается"
   ]
  },
  {
   "cell_type": "markdown",
   "metadata": {},
   "source": [
    "## 4. Поведенческие паттерны\n",
    "### 4.1. Iterator\n",
    "\n",
    "Паттерн Iterator (Итератор) — это поведенческий паттерн проектирования, который предоставляет способ последовательного доступа ко всем элементам коллекции без раскрытия ее внутренней структуры."
   ]
  },
  {
   "cell_type": "code",
   "execution_count": 48,
   "metadata": {},
   "outputs": [
    {
     "name": "stdout",
     "output_type": "stream",
     "text": [
      "The Catcher in the Rye\n",
      "To Kill a Mockingbird\n",
      "1984\n"
     ]
    }
   ],
   "source": [
    "from collections.abc import Iterable, Iterator\n",
    "from typing import List, Any\n",
    "\n",
    "# Класс коллекции книг\n",
    "class BookCollection(Iterable):\n",
    "    def __init__(self):\n",
    "        self._books: List[str] = []\n",
    "\n",
    "    def add_book(self, book: str):\n",
    "        self._books.append(book)\n",
    "\n",
    "    def __iter__(self) -> Iterator:\n",
    "        return BookIterator(self._books)\n",
    "\n",
    "# Итератор для коллекции книг\n",
    "class BookIterator(Iterator):\n",
    "    def __init__(self, books: List[str]):\n",
    "        self._books = books\n",
    "        self._index = 0\n",
    "\n",
    "    def __next__(self) -> Any:\n",
    "        if self._index < len(self._books):\n",
    "            book = self._books[self._index]\n",
    "            self._index += 1\n",
    "            return book\n",
    "        raise StopIteration\n",
    "\n",
    "\n",
    "collection = BookCollection()\n",
    "collection.add_book(\"The Catcher in the Rye\")\n",
    "collection.add_book(\"To Kill a Mockingbird\")\n",
    "collection.add_book(\"1984\")\n",
    "\n",
    "for book in collection:\n",
    "    print(book)"
   ]
  },
  {
   "cell_type": "markdown",
   "metadata": {},
   "source": [
    "### 4.2. Observer\n",
    "\n",
    "Паттерн Observer (Наблюдатель) — это поведенческий паттерн проектирования, который определяет зависимость «один-ко-многим» между объектами таким образом, что при изменении состояния одного объекта все зависимые от него объекты уведомляются и обновляются автоматически."
   ]
  },
  {
   "cell_type": "code",
   "execution_count": null,
   "metadata": {},
   "outputs": [
    {
     "name": "stdout",
     "output_type": "stream",
     "text": [
      "TemperatureSensor: New temperature measurement: 22\n",
      "Display: Current temperature is 22°C\n",
      "AirConditioningSystem: Temperature is comfortable. Turning off the air conditioner.\n",
      "TemperatureSensor: New temperature measurement: 28\n",
      "Display: Current temperature is 28°C\n",
      "AirConditioningSystem: It's hot! Turning on the air conditioner.\n"
     ]
    }
   ],
   "source": [
    "from abc import ABC, abstractmethod\n",
    "from typing import List\n",
    "\n",
    "# Интерфейс наблюдателя\n",
    "class Observer(ABC):\n",
    "    @abstractmethod\n",
    "    def update(self, temperature: float):\n",
    "        pass\n",
    "\n",
    "# Интерфейс субъекта\n",
    "class Subject(ABC):\n",
    "    @abstractmethod\n",
    "    def attach(self, observer: Observer):\n",
    "        pass\n",
    "\n",
    "    @abstractmethod\n",
    "    def detach(self, observer: Observer):\n",
    "        pass\n",
    "\n",
    "    @abstractmethod\n",
    "    def notify(self):\n",
    "        pass\n",
    "\n",
    "# Конкретный субъект\n",
    "class TemperatureSensor(Subject):\n",
    "    def __init__(self):\n",
    "        self._observers: List[Observer] = []\n",
    "        self._temperature: float = 0.0\n",
    "\n",
    "    def attach(self, observer: Observer):\n",
    "        self._observers.append(observer)\n",
    "\n",
    "    def detach(self, observer: Observer):\n",
    "        self._observers.remove(observer)\n",
    "\n",
    "    def notify(self):\n",
    "        for observer in self._observers:\n",
    "            observer.update(self._temperature)\n",
    "\n",
    "    def set_temperature(self, temperature: float):\n",
    "        print(f\"TemperatureSensor: New temperature measurement: {temperature}\")\n",
    "        self._temperature = temperature\n",
    "        self.notify()\n",
    "\n",
    "# Конкретный наблю датель — Дисплей\n",
    "class Display(Observer):\n",
    "    def update(self, temperature: float):\n",
    "        print(f\"Display: Current temperature is {temperature}°C\")\n",
    "\n",
    "# Конкретный наблюдатель — Система кондиционирования\n",
    "class AirConditioningSystem(Observer):\n",
    "    def update(self, temperature: float):\n",
    "        if temperature > 25:\n",
    "            print(\"AirConditioningSystem: It's hot! Turning on the air conditioner.\")\n",
    "        else:\n",
    "            print(\"AirConditioningSystem: Temperature is comfortable. Turning off the air conditioner.\")\n",
    "\n",
    "\n",
    "# Создаем датчик температуры и необходимые наблюдатели\n",
    "sensor = TemperatureSensor()\n",
    "display = Display()\n",
    "air_conditioning = AirConditioningSystem()\n",
    "\n",
    "# Прикрепляем наблюдателей (подписываем их на события)\n",
    "sensor.attach(display)\n",
    "sensor.attach(air_conditioning)\n",
    "\n",
    "# Изменяем температуру и видим, как наблюдатели реагируют на изменения\n",
    "sensor.set_temperature(22)\n",
    "sensor.set_temperature(28)"
   ]
  },
  {
   "cell_type": "markdown",
   "metadata": {},
   "source": [
    "### 4.3. Strategy\n",
    "\n",
    "Паттерн Strategy (Стратегия) — это поведенческий паттерн проектирования, который позволяет определить семейство алгоритмов, инкапсулировать каждый из них и делать их взаимозаменяемыми. Этот паттерн позволяет изменять алгоритм, независимо от клиентов, которые им пользуются.\n",
    "Основная идея заключается в том, чтобы вынести алгоритмы из класса и запихнуть их в отдельные классы, называемые стратегиями, которые можно подставить в отдельный класс-контекст для выполнения задачи."
   ]
  },
  {
   "cell_type": "code",
   "execution_count": 57,
   "metadata": {},
   "outputs": [
    {
     "name": "stdout",
     "output_type": "stream",
     "text": [
      "Ground shipping cost: $50.0\n",
      "Air shipping cost: $120.0\n"
     ]
    }
   ],
   "source": [
    "from abc import ABC, abstractmethod\n",
    "\n",
    "# Интерфейс стратегии\n",
    "class ShippingStrategy(ABC):\n",
    "    @abstractmethod\n",
    "    def calculate(self, package_weight: float) -> float:\n",
    "        pass\n",
    "\n",
    "# Конкретная стратегия для наземной доставки\n",
    "class GroundShippingStrategy(ShippingStrategy):\n",
    "    def calculate(self, package_weight: float) -> float:\n",
    "        # Простое вычисление для примера: $5 за кг\n",
    "        return package_weight * 5.0\n",
    "\n",
    "# Конкретная стратегия для воздушной доставки\n",
    "class AirShippingStrategy(ShippingStrategy):\n",
    "    def calculate(self, package_weight: float) -> float:\n",
    "        # Другой пример расчета: $10 за кг плюс фиксированная надбавка\n",
    "        return package_weight * 10.0 + 20.0\n",
    "\n",
    "# Контекст, использующий стратегию\n",
    "class ShippingCalculator:\n",
    "    def __init__(self, strategy: ShippingStrategy):\n",
    "        self._strategy = strategy\n",
    "\n",
    "    def set_strategy(self, strategy: ShippingStrategy):\n",
    "        self._strategy = strategy\n",
    "\n",
    "    def calculate_shipping(self, package_weight: float) -> float:\n",
    "        return self._strategy.calculate(package_weight)\n",
    "\n",
    "\n",
    "# Создаем калькулятор с исходной стратегией\n",
    "calculator = ShippingCalculator(GroundShippingStrategy())\n",
    "\n",
    "# Расчет наземной доставки\n",
    "cost = calculator.calculate_shipping(10) \n",
    "print(f\"Ground shipping cost: ${cost}\")  \n",
    "\n",
    "# Меняем стратегию на воздушную и выполняем новый расчет\n",
    "calculator.set_strategy(AirShippingStrategy())\n",
    "cost = calculator.calculate_shipping(10)  \n",
    "print(f\"Air shipping cost: ${cost}\")  "
   ]
  },
  {
   "cell_type": "markdown",
   "metadata": {},
   "source": [
    "### 4.4. Command\n",
    "Паттерн Command (Команда) — это поведенческий паттерн проектирования, который превращает запросы в объекты, позволяя обрабатывать различные запросы, а также поддерживает отмену операций и их журналирование."
   ]
  },
  {
   "cell_type": "code",
   "execution_count": 58,
   "metadata": {},
   "outputs": [
    {
     "name": "stdout",
     "output_type": "stream",
     "text": [
      "The light is on\n",
      "The light is off\n",
      "The light is on\n"
     ]
    }
   ],
   "source": [
    "from abc import ABC, abstractmethod\n",
    "\n",
    "# Интерфейс Команды\n",
    "class Command(ABC):\n",
    "    @abstractmethod\n",
    "    def execute(self):\n",
    "        pass\n",
    "    \n",
    "    @abstractmethod\n",
    "    def undo(self):\n",
    "        pass\n",
    "\n",
    "# Конкретная Команда для включения света\n",
    "class LightOnCommand(Command):\n",
    "    def __init__(self, light):\n",
    "        self.light = light\n",
    "    \n",
    "    def execute(self):\n",
    "        self.light.on()\n",
    "\n",
    "    def undo(self):\n",
    "        self.light.off()\n",
    "\n",
    "# Конкретная Команда для выключения света\n",
    "class LightOffCommand(Command):\n",
    "    def __init__(self, light):\n",
    "        self.light = light\n",
    "    \n",
    "    def execute(self):\n",
    "        self.light.off()\n",
    "\n",
    "    def undo(self):\n",
    "        self.light.on()\n",
    "\n",
    "# Получатель — Свет\n",
    "class Light:\n",
    "    def on(self):\n",
    "        print(\"The light is on\")\n",
    "\n",
    "    def off(self):\n",
    "        print(\"The light is off\")\n",
    "\n",
    "# Отправитель — Пульт дистанционного управления\n",
    "class RemoteControl:\n",
    "    def __init__(self):\n",
    "        self.command = None\n",
    "\n",
    "    def set_command(self, command: Command):\n",
    "        self.command = command\n",
    "\n",
    "    def press_button(self):\n",
    "        if self.command is not None:\n",
    "            self.command.execute()\n",
    "\n",
    "    def press_undo(self):\n",
    "        if self.command is not None:\n",
    "            self.command.undo()\n",
    "\n",
    "\n",
    "living_room_light = Light()\n",
    "\n",
    "light_on = LightOnCommand(living_room_light)\n",
    "light_off = LightOffCommand(living_room_light)\n",
    "\n",
    "remote = RemoteControl()\n",
    "\n",
    "# Включаем свет\n",
    "\n",
    "remote.set_command(light_on)\n",
    "remote.press_button()  # Output: The light is on\n",
    "\n",
    "# Выключаем свет\n",
    "remote.set_command(light_off)\n",
    "remote.press_button()  # Output: The light is off\n",
    "\n",
    "# Отменяем последнюю команду (включение света)\n",
    "remote.press_undo()  # Output: The light is on"
   ]
  },
  {
   "cell_type": "markdown",
   "metadata": {},
   "source": [
    "### 4.5. Chain of Responsibility\n",
    "\n",
    "Паттерн Chain of Responsibility (Цепочка обязанностей) — это поведенческий паттерн проектирования, который позволяет передавать запросы последовательно вдоль цепочки обработчиков. Каждый обработчик решает, может ли он обработать запрос или должен передать его следующему обработчику в цепочке."
   ]
  },
  {
   "cell_type": "code",
   "execution_count": 60,
   "metadata": {},
   "outputs": [
    {
     "name": "stdout",
     "output_type": "stream",
     "text": [
      "\n",
      "Handling request: basic\n",
      "BasicSupportHandler: Processing basic request...\n",
      "\n",
      "Handling request: intermediate\n",
      "IntermediateSupportHandler: Processing intermediate request...\n",
      "\n",
      "Handling request: advanced\n",
      "AdvancedSupportHandler: Processing advanced request...\n",
      "\n",
      "Handling request: unknown\n"
     ]
    }
   ],
   "source": [
    "from abc import ABC, abstractmethod\n",
    "\n",
    "# Абстрактный класс обработчика\n",
    "class SupportHandler(ABC):\n",
    "    def __init__(self, next_handler=None):\n",
    "        self._next_handler = next_handler\n",
    "\n",
    "    def set_next_handler(self, handler):\n",
    "        self._next_handler = handler\n",
    "\n",
    "    @abstractmethod\n",
    "    def handle_request(self, request: str):\n",
    "        pass\n",
    "\n",
    "# Конкретный обработчик начального уровня поддержки\n",
    "class BasicSupportHandler(SupportHandler):\n",
    "    def handle_request(self, request: str):\n",
    "        if request == \"basic\":\n",
    "            print(\"BasicSupportHandler: Processing basic request...\")\n",
    "        elif self._next_handler is not None:\n",
    "            self._next_handler.handle_request(request)\n",
    "\n",
    "# Конкретный обработчик среднего уровня поддержки\n",
    "class IntermediateSupportHandler(SupportHandler):\n",
    "    def handle_request(self, request: str):\n",
    "        if request == \"intermediate\":\n",
    "            print(\"IntermediateSupportHandler: Processing intermediate request...\")\n",
    "        elif self._next_handler is not None:\n",
    "            self._next_handler.handle_request(request)\n",
    "\n",
    "# Конкретный обработчик расширенного уровня поддержки\n",
    "class AdvancedSupportHandler(SupportHandler):\n",
    "    def handle_request(self, request: str):\n",
    "        if request == \"advanced\":\n",
    "            print(\"AdvancedSupportHandler: Processing advanced request...\")\n",
    "        elif self._next_handler is not None:\n",
    "            self._next_handler.handle_request(request)\n",
    "\n",
    "\n",
    "# Создаем обработчиков\n",
    "basic_handler = BasicSupportHandler()\n",
    "intermediate_handler = IntermediateSupportHandler()\n",
    "advanced_handler = AdvancedSupportHandler()\n",
    "\n",
    "# Строим цепочку\n",
    "basic_handler.set_next_handler(intermediate_handler)\n",
    "intermediate_handler.set_next_handler(advanced_handler)\n",
    "\n",
    "# Передаем запросы\n",
    "requests = [\"basic\", \"intermediate\", \"advanced\", \"unknown\"]\n",
    "\n",
    "for request in requests:\n",
    "    print(f\"\\nHandling request: {request}\")\n",
    "    basic_handler.handle_request(request)"
   ]
  },
  {
   "cell_type": "markdown",
   "metadata": {},
   "source": [
    "### 4.6. Mediator\n",
    "Паттерн Mediator (Посредник) – это поведенческий паттерн проектирования, который позволяет уменьшить количество прямых связей между компонентами системы, вводя посредника, который управляет взаимодействием. Вместо того чтобы компоненты напрямую взаимодействовали друг с другом, они общаются через посредника, который знает их всех и координирует их взаимодействие."
   ]
  },
  {
   "cell_type": "code",
   "execution_count": 63,
   "metadata": {},
   "outputs": [
    {
     "name": "stdout",
     "output_type": "stream",
     "text": [
      "User1 отправил сообщение: Привет, как дела?\n",
      "User2 получил сообщение: Привет, как дела?\n",
      "User3 получил сообщение: Привет, как дела?\n",
      "User2 отправил сообщение: Все отлично, спасибо! А у тебя?\n",
      "User1 получил сообщение: Все отлично, спасибо! А у тебя?\n",
      "User3 получил сообщение: Все отлично, спасибо! А у тебя?\n",
      "User3 отправил сообщение: Всем привет, я только присоединился.\n",
      "User1 получил сообщение: Всем привет, я только присоединился.\n",
      "User2 получил сообщение: Всем привет, я только присоединился.\n"
     ]
    }
   ],
   "source": [
    "from abc import ABC, abstractmethod\n",
    "\n",
    "# Интерфейс для посредника\n",
    "class ChatMediator(ABC):\n",
    "    @abstractmethod\n",
    "    def send_message(self, message: str, user):\n",
    "        pass\n",
    "\n",
    "# Конкретный посредник чата\n",
    "class ConcreteChatMediator(ChatMediator):\n",
    "    def __init__(self):\n",
    "        self.users = []\n",
    "\n",
    "    def add_user(self, user):\n",
    "        self.users.append(user)\n",
    "\n",
    "    def send_message(self, message: str, user):\n",
    "        for u in self.users:\n",
    "            if u != user:\n",
    "                u.receive(message)\n",
    "\n",
    "# Интерфейс участника\n",
    "class User(ABC):\n",
    "    def __init__(self, mediator: ChatMediator, name: str):\n",
    "        self.mediator = mediator\n",
    "        self.name = name\n",
    "\n",
    "    @abstractmethod\n",
    "    def send(self, message: str):\n",
    "        pass\n",
    "\n",
    "    @abstractmethod\n",
    "    def receive(self, message: str):\n",
    "        pass\n",
    "\n",
    "# Конкретный участник чата\n",
    "class ConcreteUser(User):\n",
    "    def send(self, message: str):\n",
    "        print(f\"{self.name} отправил сообщение: {message}\")\n",
    "        self.mediator.send_message(message, self)\n",
    "\n",
    "    def receive(self, message: str):\n",
    "        print(f\"{self.name} получил сообщение: {message}\")\n",
    "\n",
    "\n",
    "mediator = ConcreteChatMediator()\n",
    "\n",
    "user1 = ConcreteUser(mediator, \"User1\")\n",
    "user2 = ConcreteUser(mediator, \"User2\")\n",
    "user3 = ConcreteUser(mediator, \"User3\")\n",
    "\n",
    "# Добавляем пользователей в чат\n",
    "mediator.add_user(user1)\n",
    "mediator.add_user(user2)\n",
    "mediator.add_user(user3)\n",
    "\n",
    "# Пользователи отправляют сообщения\n",
    "user1.send(\"Привет, как дела?\")\n",
    "user2.send(\"Все отлично, спасибо! А у тебя?\")\n",
    "user3.send(\"Всем привет, я только присоединился.\")"
   ]
  },
  {
   "cell_type": "markdown",
   "metadata": {},
   "source": [
    "### 4.7 Memonto\n",
    "\n",
    "Паттерн Memento (Хранитель) — это поведенческий паттерн проектирования, который позволяет сохранять и восстанавливать предыдущее состояние объекта без раскрытия его внутренней структуры. Этот паттерн часто используется для реализации отмены операций или для функции \"истории изменений\"."
   ]
  },
  {
   "cell_type": "code",
   "execution_count": 65,
   "metadata": {},
   "outputs": [
    {
     "name": "stdout",
     "output_type": "stream",
     "text": [
      "Current text: Hello, world! This is a text editor with undo functionality.\n",
      "After undo: Hello, world!\n",
      "After another undo: Hello, \n"
     ]
    }
   ],
   "source": [
    "class EditorMemento:\n",
    "    def __init__(self, state: str):\n",
    "        self._state = state\n",
    "\n",
    "    def get_state(self) -> str:\n",
    "        return self._state\n",
    "\n",
    "class TextEditor:\n",
    "    def __init__(self, text: str = \"\"):\n",
    "        self._text = text\n",
    "\n",
    "    def type(self, new_text: str):\n",
    "        self._text += new_text\n",
    "\n",
    "    def get_text(self) -> str:\n",
    "        return self._text\n",
    "\n",
    "    def save(self) -> EditorMemento:\n",
    "        return EditorMemento(self._text)\n",
    "\n",
    "    def restore(self, memento: EditorMemento):\n",
    "        self._text = memento.get_state()\n",
    "\n",
    "class History:\n",
    "    def __init__(self):\n",
    "        self._mementos = []\n",
    "\n",
    "    def save(self, memento: EditorMemento):\n",
    "        self._mementos.append(memento)\n",
    "\n",
    "    def undo(self) -> EditorMemento:\n",
    "        if not self._mementos:\n",
    "            return None\n",
    "        return self._mementos.pop()\n",
    "\n",
    "\n",
    "editor = TextEditor()\n",
    "history = History()\n",
    "\n",
    "# Печатаем первый текст\n",
    "editor.type(\"Hello, \")\n",
    "history.save(editor.save())  # Сохраняем состояние: \"Hello, \"\n",
    "\n",
    "# Печатаем второй текст\n",
    "editor.type(\"world!\")\n",
    "history.save(editor.save())  # Сохраняем состояние: \"Hello, world!\"\n",
    "\n",
    "# Печатаем третий текст\n",
    "editor.type(\" This is a text editor with undo functionality.\")\n",
    "\n",
    "print(\"Current text:\", editor.get_text())  # Output: \"Hello, world! This is a text editor with undo functionality.\"\n",
    "\n",
    "# Отмена последнего изменения\n",
    "editor.restore(history.undo())\n",
    "print(\"After undo:\", editor.get_text())  # Output: \"Hello, world!\"\n",
    "\n",
    "# Еще одна отмена\n",
    "editor.restore(history.undo())\n",
    "print(\"After another undo:\", editor.get_text())  # Output: \"Hello, \""
   ]
  },
  {
   "cell_type": "markdown",
   "metadata": {},
   "source": [
    "### 5. Практическое применение\n",
    "\n",
    "#### 5.1 Преимущества применения паттернов\n",
    "\n",
    "- **Улучшение читаемости и поддержки кода**\n",
    "  - Паттерны проектирования структурируют код, делая его более понятным и легко сопровождаемым.\n",
    "  - Код, написанный с использованием паттернов, обычно проще для чтения другими разработчиками, особенно в команде, знакомой с этими концепциями.\n",
    "  \n",
    "- **Ускорение процесса разработки**\n",
    "  - Использование проверенных решений позволяет быстрее моделировать и реализовывать архитектуру проекта.\n",
    "  - Повышенная модульность и повторное использование шаблонов сокращают время на разработку и тестирование новых функций.\n"
   ]
  },
  {
   "cell_type": "markdown",
   "metadata": {},
   "source": [
    "### 5.2. Антипаттерны"
   ]
  },
  {
   "cell_type": "markdown",
   "metadata": {},
   "source": [
    "<img src=\"./imgs/auf.jpg\" alt=\"Description of Image\" width=\"300\"/>"
   ]
  },
  {
   "cell_type": "markdown",
   "metadata": {},
   "source": [
    "### 1. **Большой комок грязи (Big Ball of Mud)**\n",
    "- **Описание:** Кодовая база, в которой отсутствует четкая архитектурная структура. Исходный код плохо структурирован, сложен для понимания и модификации.\n",
    "- **Причины:** \n",
    "  - Быстрые исправления в ущерб архитектуре.\n",
    "  - Отсутствие рефакторинга и проектирования.\n",
    "- **Решение:** Регулярный рефакторинг, внедрение архитектурных паттернов для упрощения структуры.\n",
    "\n",
    "### 2. **Золотой молоток (Golden Hammer)**\n",
    "- **Описание:** Использование одного и того же решения или технологии для всех проблем, независимо от их специфики.\n",
    "- **Причины:** Лень или недостаток знаний.\n",
    "- **Решение:** Обучение новым технологиям и подходам, адаптация решения конкретной задачи.\n",
    "\n",
    "### 3. **Лодочный якорь (Boat Anchor)**\n",
    "- **Описание:** Оставленные в коде неиспользуемые артефакты (например, переменные, модули или классы), которые изначально предполагались к использованию, но так и не были задействованы.\n",
    "- **Причины:** Страх удалить ненужное, чтобы не нарушить работу системы.\n",
    "- **Решение:** Регулярный код-ревью и удаление неиспользуемых элементов.\n",
    "\n",
    "### 4. **Класс Бога (God Object)**\n",
    "- **Описание:** Объект или класс, который делает слишком много, принимает избыточные функции или принимает множество решений в системе.\n",
    "- **Причины:** Несколько добавленных наспех функций без должного проектирования.\n",
    "- **Решение:** Разделение функциональности на более специализированные классы и функции.\n",
    "\n",
    "### 5. **Зарезервированный интерфейс (Poltergeist)**\n",
    "- **Описание:** Использование дополнительных объектов или функций, которые просто передают вызовы другим объектам, не предоставляя значимой логики.\n",
    "- **Причины:** Непродуманный дизайн, добавление \"лишних\" слоев абстракции.\n",
    "- **Решение:** Удаление объектов-посредников и прямое использование необходимых компонентов.\n",
    "\n",
    "### 6. **Изобретение велосипедов (Reinventing the Wheel)**\n",
    "- **Описание:** Разработка собственных решений для задач, которые уже решены и доступны в открытом виде.\n",
    "- **Причины:** Нежелание использовать сторонние библиотеки или незнание их существования.\n",
    "- **Решение:** Проведение исследования существующих решений, использование библиотек и фреймворков.\n",
    "\n",
    "### 7. **Мне это не нужно, но вдруг пригодится (YAGNI - You Ain’t Gonna Need It)**\n",
    "- **Описание:** Разработка функции или добавление возможностей \"про запас\", которые вряд ли будут использованы.\n",
    "- **Причины:** Желание предвосхитить потребности, избегая итеративного подхода.\n",
    "- **Решение:** Следовать принципам Agile, разрабатывать только то, что необходимо сейчас.\n",
    "\n",
    "### Заключение по антипаттернам:\n",
    "Антипаттерны служат важным напоминанием о потенциальных ошибках в проектировании и разработке программного обеспечения. Понимание антипаттернов и их причин помогает разработчикам избегать типичных ошибок, что, в свою очередь, приводит к созданию более качественного, управляемого и эффективного программного обеспечения."
   ]
  },
  {
   "cell_type": "markdown",
   "metadata": {},
   "source": []
  }
 ],
 "metadata": {
  "celltoolbar": "Slideshow",
  "kernelspec": {
   "display_name": ".venv",
   "language": "python",
   "name": "python3"
  },
  "language_info": {
   "codemirror_mode": {
    "name": "ipython",
    "version": 3
   },
   "file_extension": ".py",
   "mimetype": "text/x-python",
   "name": "python",
   "nbconvert_exporter": "python",
   "pygments_lexer": "ipython3",
   "version": "3.12.7"
  },
  "rise": {
   "enable_chalkboard": true,
   "footer": "<p style=\"margin: 5px; color: #a0a0a0\">YSDA Python Course</p>",
   "scroll": true,
   "start_slideshow_at": "selected",
   "theme": "serif",
   "transition": "none"
  }
 },
 "nbformat": 4,
 "nbformat_minor": 4
}
