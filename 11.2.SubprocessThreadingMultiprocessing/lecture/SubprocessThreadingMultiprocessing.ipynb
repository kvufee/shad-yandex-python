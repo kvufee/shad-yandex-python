{
 "cells": [
  {
   "cell_type": "markdown",
   "metadata": {
    "pycharm": {
     "name": "#%% md\n"
    },
    "slideshow": {
     "slide_type": "slide"
    }
   },
   "source": [
    "<center>\n",
    "    <img src=\"https://upload.wikimedia.org/wikipedia/commons/a/a8/%D0%9B%D0%9E%D0%93%D0%9E_%D0%A8%D0%90%D0%94.png\" width=500px/>\n",
    "    <font>Python 2024</font><br/>\n",
    "    <br/>\n",
    "    <br/>\n",
    "    <b style=\"font-size: 2em\">Subprocess, threading, multiprocessing</b><br/>\n",
    "    <br/>\n",
    "    <font>Никита Бондарцев</font><br/>\n",
    "</center>"
   ]
  },
  {
   "cell_type": "markdown",
   "metadata": {},
   "source": [
    "## Summary table"
   ]
  },
  {
   "cell_type": "markdown",
   "metadata": {},
   "source": [
    "<table border=\"1\" style=\"border-collapse: collapse; width: 100%;\">\n",
    "    <thead>\n",
    "        <tr>\n",
    "            <th>Сущность</th>\n",
    "            <th>Доступ к памяти</th>\n",
    "            <th>Контекст выполнения</th>\n",
    "            <th>Сценарий использования</th>\n",
    "            <th>Уровень изоляции</th>\n",
    "        </tr>\n",
    "    </thead>\n",
    "    <tbody>\n",
    "        <tr>\n",
    "            <td>Процесс</td>\n",
    "            <td>Независимая память</td>\n",
    "            <td>Управляется ОС</td>\n",
    "            <td>Задачи с интенсивной загрузкой CPU, изолированные задачи</td>\n",
    "            <td>Высокий (раздельная память)</td>\n",
    "        </tr>\n",
    "        <tr>\n",
    "            <td>Поток</td>\n",
    "            <td>Общая память внутри процесса</td>\n",
    "            <td>Управляется ОС</td>\n",
    "            <td>Конкурентные задачи с общими ресурсами</td>\n",
    "            <td>Низкий (общая память)</td>\n",
    "        </tr>\n",
    "        <tr>\n",
    "            <td>Корутина (следующая лекция)</td>\n",
    "            <td>Общая память внутри потока</td>\n",
    "            <td>Управляется программой (пользователем)</td>\n",
    "            <td>Легковесная многозадачность (например, операции ввода-вывода)</td>\n",
    "            <td>Низкий (общая память)</td>\n",
    "        </tr>\n",
    "    </tbody>\n",
    "</table>\n"
   ]
  },
  {
   "cell_type": "markdown",
   "metadata": {},
   "source": [
    "<center>\n",
    "    <img src=\"images/multithreading_vs_multiprocessing.png\" style=\"width: 800px\"/>\n",
    "    <div>\n",
    "    <caption><a href=\"https://ycc.idv.tw/multithread-multiprocess-gil.html\">https://ycc.idv.tw/multithread-multiprocess-gil.html</a> (careful, chinese)\n",
    "    </caption></div>\n",
    "</center>"
   ]
  },
  {
   "cell_type": "markdown",
   "metadata": {
    "pycharm": {
     "name": "#%% md\n"
    },
    "slideshow": {
     "slide_type": "slide"
    }
   },
   "source": [
    "# threading"
   ]
  },
  {
   "cell_type": "markdown",
   "metadata": {
    "pycharm": {
     "name": "#%% md\n"
    },
    "slideshow": {
     "slide_type": "fragment"
    }
   },
   "source": [
    "**Поток** (тред; от англ. thread — нить) — поток выполнения команд внутри процесса"
   ]
  },
  {
   "cell_type": "markdown",
   "metadata": {
    "pycharm": {
     "name": "#%% md\n"
    },
    "slideshow": {
     "slide_type": "slide"
    }
   },
   "source": [
    "Потоки в рамках одного процесса делят **общую** память"
   ]
  },
  {
   "cell_type": "markdown",
   "metadata": {
    "pycharm": {
     "name": "#%% md\n"
    },
    "slideshow": {
     "slide_type": "slide"
    }
   },
   "source": [
    "<center>\n",
    "<img src=\"http://www.openrtos.net/implementation/TaskExecution.gif\" alt=\"concurrency\" width=\"800px\" />\n",
    "</center>"
   ]
  },
  {
   "cell_type": "markdown",
   "metadata": {
    "pycharm": {
     "name": "#%% md\n"
    },
    "slideshow": {
     "slide_type": "fragment"
    }
   },
   "source": [
    "В один момент времени **одно** ядро процессора исполняет **ровно один** поток"
   ]
  },
  {
   "cell_type": "markdown",
   "metadata": {
    "pycharm": {
     "name": "#%% md\n"
    },
    "slideshow": {
     "slide_type": "slide"
    }
   },
   "source": [
    "Несколько ядер могут выполнять несколько потоков буквально **одновременно**"
   ]
  },
  {
   "cell_type": "markdown",
   "metadata": {
    "pycharm": {
     "name": "#%% md\n"
    },
    "slideshow": {
     "slide_type": "fragment"
    }
   },
   "source": [
    "<center>\n",
    "<img src=\"https://www.backblaze.com/blog/wp-content/uploads/2017/08/diagram-thread-concurrency.png\" alt=\"parallelism\" width=800 />\n",
    "</center>"
   ]
  },
  {
   "cell_type": "markdown",
   "metadata": {
    "pycharm": {
     "name": "#%% md\n"
    },
    "slideshow": {
     "slide_type": "fragment"
    }
   },
   "source": [
    "Однако **не имеет смысла** создавать больше потоков, чем у вас есть ядер процессора (если целью является увеличение производительности)"
   ]
  },
  {
   "cell_type": "markdown",
   "metadata": {},
   "source": [
    "## Let's finally try threading!"
   ]
  },
  {
   "cell_type": "code",
   "execution_count": 1,
   "metadata": {
    "pycharm": {
     "name": "#%%\n"
    },
    "slideshow": {
     "slide_type": "slide"
    }
   },
   "outputs": [],
   "source": [
    "import threading"
   ]
  },
  {
   "cell_type": "code",
   "execution_count": 2,
   "metadata": {
    "pycharm": {
     "name": "#%%\n"
    },
    "slideshow": {
     "slide_type": "fragment"
    }
   },
   "outputs": [],
   "source": [
    "def greeter(num: int) -> None:\n",
    "    print(f'Hello {num}')"
   ]
  },
  {
   "cell_type": "code",
   "execution_count": 3,
   "metadata": {
    "pycharm": {
     "name": "#%%\n"
    },
    "slideshow": {
     "slide_type": "fragment"
    }
   },
   "outputs": [],
   "source": [
    "def run_threads(count: int) -> None:\n",
    "    threads = [\n",
    "        threading.Thread(target=greeter, args=(i,))\n",
    "        for i in range(count)\n",
    "    ]\n",
    "    for thread in threads:\n",
    "        thread.start()\n",
    "    for thread in threads:\n",
    "        thread.join()"
   ]
  },
  {
   "cell_type": "code",
   "execution_count": 4,
   "metadata": {
    "pycharm": {
     "name": "#%%\n"
    },
    "slideshow": {
     "slide_type": "fragment"
    }
   },
   "outputs": [
    {
     "name": "stdout",
     "output_type": "stream",
     "text": [
      "Hello 0\n",
      "Hello 1\n",
      "Hello 2\n",
      "Hello 3\n"
     ]
    }
   ],
   "source": [
    "run_threads(4)"
   ]
  },
  {
   "cell_type": "markdown",
   "metadata": {
    "pycharm": {
     "name": "#%% md\n"
    },
    "slideshow": {
     "slide_type": "skip"
    }
   },
   "source": [
    "Следующий пример взят из доклада Реймонда Хэттингера (Python core-developer):\n",
    "https://www.youtube.com/watch?v=Bv25Dwe84g0"
   ]
  },
  {
   "cell_type": "code",
   "execution_count": 5,
   "metadata": {
    "pycharm": {
     "name": "#%%\n"
    },
    "slideshow": {
     "slide_type": "slide"
    }
   },
   "outputs": [],
   "source": [
    "count = 0\n",
    "\n",
    "def counter() -> None:\n",
    "    global count\n",
    "    count += 1\n",
    "    print(f'{count} ', end='')"
   ]
  },
  {
   "cell_type": "code",
   "execution_count": 6,
   "metadata": {
    "pycharm": {
     "name": "#%%\n"
    },
    "slideshow": {
     "slide_type": "fragment"
    }
   },
   "outputs": [
    {
     "name": "stdout",
     "output_type": "stream",
     "text": [
      "1 2 3 4 5 6 7 8 9 10 "
     ]
    }
   ],
   "source": [
    "threads = [threading.Thread(target=counter) for _ in range(10)]\n",
    "for thread in threads:\n",
    "    thread.start()\n",
    "for thread in threads:\n",
    "    thread.join()"
   ]
  },
  {
   "cell_type": "markdown",
   "metadata": {
    "pycharm": {
     "name": "#%% md\n"
    },
    "slideshow": {
     "slide_type": "fragment"
    }
   },
   "source": [
    "В коде на слайде кроется ошибка, которая пока себя никак не проявляет"
   ]
  },
  {
   "cell_type": "markdown",
   "metadata": {
    "pycharm": {
     "name": "#%% md\n"
    },
    "slideshow": {
     "slide_type": "slide"
    }
   },
   "source": [
    "<center>\n",
    "<img src=\"https://s3.amazonaws.com/s3-blogs.mentor.com/colinwalls/files/2018/05/RTC-520x118.png\" alt=\"context-switching\" />\n",
    "</center>\n",
    "Напоминание: потоки постоянно переключаются ОС"
   ]
  },
  {
   "cell_type": "markdown",
   "metadata": {
    "pycharm": {
     "name": "#%% md\n"
    },
    "slideshow": {
     "slide_type": "fragment"
    }
   },
   "source": [
    "Давайте увеличим время жизни потока с помощью `time.sleep`"
   ]
  },
  {
   "cell_type": "code",
   "execution_count": 7,
   "metadata": {
    "pycharm": {
     "name": "#%%\n"
    },
    "slideshow": {
     "slide_type": "fragment"
    }
   },
   "outputs": [],
   "source": [
    "import time\n",
    "import random"
   ]
  },
  {
   "cell_type": "code",
   "execution_count": 8,
   "metadata": {
    "pycharm": {
     "name": "#%%\n"
    },
    "slideshow": {
     "slide_type": "fragment"
    }
   },
   "outputs": [],
   "source": [
    "count = 0\n",
    "\n",
    "def counter() -> None:\n",
    "    global count\n",
    "    old_count = count\n",
    "    time.sleep(random.randint(0, 1))\n",
    "    count = old_count + 1\n",
    "    print(f'{count} ', end='')"
   ]
  },
  {
   "cell_type": "code",
   "execution_count": 9,
   "metadata": {
    "pycharm": {
     "name": "#%%\n"
    },
    "slideshow": {
     "slide_type": "slide"
    }
   },
   "outputs": [
    {
     "name": "stdout",
     "output_type": "stream",
     "text": [
      "1 2 3 4 5 6 7 3 4 7 CPU times: user 4.97 ms, sys: 8.09 ms, total: 13.1 ms\n",
      "Wall time: 1.01 s\n"
     ]
    }
   ],
   "source": [
    "%%time\n",
    "count = 0\n",
    "threads = [threading.Thread(target=counter) for _ in range(10)]\n",
    "for thread in threads:\n",
    "    thread.start()\n",
    "for thread in threads:\n",
    "    thread.join()"
   ]
  },
  {
   "cell_type": "markdown",
   "metadata": {
    "pycharm": {
     "name": "#%% md\n"
    },
    "slideshow": {
     "slide_type": "fragment"
    }
   },
   "source": [
    "Это извечная проблема многопоточного кода — **гонка** (от англ. **race**/**race condition**)"
   ]
  },
  {
   "cell_type": "markdown",
   "metadata": {
    "pycharm": {
     "name": "#%% md\n"
    },
    "slideshow": {
     "slide_type": "slide"
    }
   },
   "source": [
    "### Решение"
   ]
  },
  {
   "cell_type": "code",
   "execution_count": 10,
   "metadata": {
    "pycharm": {
     "name": "#%%\n"
    },
    "slideshow": {
     "slide_type": "fragment"
    }
   },
   "outputs": [],
   "source": [
    "count = 0\n",
    "lock = threading.Lock()\n",
    "\n",
    "def counter() -> None:\n",
    "    global count\n",
    "    with lock:\n",
    "        old_count = count\n",
    "        time.sleep(random.randint(0, 1))\n",
    "        count = old_count + 1\n",
    "        print(f'{count} ', end='')"
   ]
  },
  {
   "cell_type": "code",
   "execution_count": 11,
   "metadata": {
    "pycharm": {
     "name": "#%%\n"
    },
    "slideshow": {
     "slide_type": "fragment"
    }
   },
   "outputs": [
    {
     "name": "stdout",
     "output_type": "stream",
     "text": [
      "1 2 3 4 5 6 7 8 9 10 CPU times: user 6.63 ms, sys: 8.8 ms, total: 15.4 ms\n",
      "Wall time: 2.01 s\n"
     ]
    }
   ],
   "source": [
    "%%time\n",
    "threads = [threading.Thread(target=counter) for _ in range(10)]\n",
    "for thread in threads:\n",
    "    thread.start()\n",
    "for thread in threads:\n",
    "    thread.join()"
   ]
  },
  {
   "cell_type": "markdown",
   "metadata": {
    "pycharm": {
     "name": "#%% md\n"
    },
    "slideshow": {
     "slide_type": "slide"
    }
   },
   "source": [
    "### Вариант с `queue.Queue`"
   ]
  },
  {
   "cell_type": "markdown",
   "metadata": {
    "pycharm": {
     "name": "#%% md\n"
    },
    "slideshow": {
     "slide_type": "fragment"
    }
   },
   "source": [
    "<center>\n",
    "<img src=\"https://pengphy.files.wordpress.com/2010/09/image5b95d.png?w=1400\" alt=\"queue\" width=500 />\n",
    "</center>"
   ]
  },
  {
   "cell_type": "markdown",
   "metadata": {
    "pycharm": {
     "name": "#%% md\n"
    },
    "slideshow": {
     "slide_type": "slide"
    }
   },
   "source": [
    "### Задача\n",
    "Посчитать сумму последовательности чисел в N потоков (<= кол-во ядер ЦПУ)"
   ]
  },
  {
   "cell_type": "code",
   "execution_count": 12,
   "metadata": {
    "pycharm": {
     "name": "#%%\n"
    },
    "slideshow": {
     "slide_type": "fragment"
    }
   },
   "outputs": [],
   "source": [
    "import queue\n",
    "from collections.abc import Iterable"
   ]
  },
  {
   "cell_type": "code",
   "execution_count": 13,
   "metadata": {
    "pycharm": {
     "name": "#%%\n"
    },
    "slideshow": {
     "slide_type": "fragment"
    }
   },
   "outputs": [],
   "source": [
    "def adder(array: Iterable[int], part_id: int, thread_count: int, queue_out: queue.Queue) -> None:\n",
    "    queue_out.put(sum(array[i] for i in range(part_id, len(array), thread_count)))"
   ]
  },
  {
   "cell_type": "code",
   "execution_count": 14,
   "metadata": {
    "pycharm": {
     "name": "#%%\n"
    },
    "slideshow": {
     "slide_type": "fragment"
    }
   },
   "outputs": [],
   "source": [
    "def sum_using_threads(array: Iterable[int], thread_count: int) -> list[int]:\n",
    "    queue_out = queue.Queue()\n",
    "    threads = [\n",
    "        threading.Thread(target=lambda i=i: adder(array, i, thread_count, queue_out))\n",
    "        for i in range(thread_count)\n",
    "    ]\n",
    "    for thread in threads:\n",
    "        thread.start()\n",
    "    results = []\n",
    "    for thread in threads:\n",
    "        results.append(queue_out.get())\n",
    "        thread.join()\n",
    "    return sum(results)"
   ]
  },
  {
   "cell_type": "code",
   "execution_count": 15,
   "metadata": {
    "pycharm": {
     "name": "#%%\n"
    },
    "slideshow": {
     "slide_type": "slide"
    }
   },
   "outputs": [],
   "source": [
    "array = [1 for _ in range(10_000_000)]"
   ]
  },
  {
   "cell_type": "code",
   "execution_count": 16,
   "metadata": {
    "pycharm": {
     "name": "#%%\n"
    },
    "slideshow": {
     "slide_type": "fragment"
    }
   },
   "outputs": [
    {
     "name": "stdout",
     "output_type": "stream",
     "text": [
      "229 ms ± 578 μs per loop (mean ± std. dev. of 7 runs, 1 loop each)\n"
     ]
    }
   ],
   "source": [
    "%%timeit\n",
    "sum(array[i] for i in range(len(array)))  # sum(array)"
   ]
  },
  {
   "cell_type": "code",
   "execution_count": 17,
   "metadata": {
    "pycharm": {
     "name": "#%%\n"
    },
    "slideshow": {
     "slide_type": "fragment"
    }
   },
   "outputs": [
    {
     "name": "stdout",
     "output_type": "stream",
     "text": [
      "218 ms ± 665 μs per loop (mean ± std. dev. of 7 runs, 1 loop each)\n"
     ]
    }
   ],
   "source": [
    "%%timeit\n",
    "sum_using_threads(array, 8)"
   ]
  },
  {
   "cell_type": "markdown",
   "metadata": {
    "pycharm": {
     "name": "#%% md\n"
    },
    "slideshow": {
     "slide_type": "fragment"
    }
   },
   "source": [
    "Причина отсутствия ускорения: **GIL (Global Interpreter Lock)**"
   ]
  },
  {
   "cell_type": "markdown",
   "metadata": {
    "pycharm": {
     "name": "#%% md\n"
    },
    "slideshow": {
     "slide_type": "fragment"
    }
   },
   "source": [
    "GIL делает питонячие потоки бесполезными для распараллеливания вычислений"
   ]
  },
  {
   "cell_type": "markdown",
   "metadata": {
    "pycharm": {
     "name": "#%%\n"
    },
    "slideshow": {
     "slide_type": "slide"
    }
   },
   "source": [
    "### А когда есть смысл в питонячьих потоках?"
   ]
  },
  {
   "cell_type": "code",
   "execution_count": 18,
   "metadata": {
    "pycharm": {
     "name": "#%%\n"
    },
    "slideshow": {
     "slide_type": "-"
    }
   },
   "outputs": [],
   "source": [
    "import requests\n",
    "urls = [\n",
    "    'https://ya.ru', 'https://www.google.com',\n",
    "    'https://www.python.org', 'https://isocpp.org',\n",
    "    'https://habr.com', 'https://news.ycombinator.com'\n",
    "]"
   ]
  },
  {
   "cell_type": "code",
   "execution_count": 19,
   "metadata": {
    "pycharm": {
     "name": "#%%\n"
    },
    "slideshow": {
     "slide_type": "fragment"
    }
   },
   "outputs": [],
   "source": [
    "def read_url(url: str) -> str:\n",
    "    return requests.get(url).text"
   ]
  },
  {
   "cell_type": "code",
   "execution_count": 20,
   "metadata": {
    "pycharm": {
     "name": "#%%\n"
    },
    "slideshow": {
     "slide_type": "fragment"
    }
   },
   "outputs": [
    {
     "name": "stdout",
     "output_type": "stream",
     "text": [
      "3.53 s ± 361 ms per loop (mean ± std. dev. of 7 runs, 1 loop each)\n"
     ]
    }
   ],
   "source": [
    "%%timeit\n",
    "for url in urls:\n",
    "    read_url(url)"
   ]
  },
  {
   "cell_type": "code",
   "execution_count": 21,
   "metadata": {
    "pycharm": {
     "name": "#%%\n"
    },
    "slideshow": {
     "slide_type": "slide"
    }
   },
   "outputs": [
    {
     "name": "stdout",
     "output_type": "stream",
     "text": [
      "893 ms ± 9.62 ms per loop (mean ± std. dev. of 7 runs, 1 loop each)\n"
     ]
    }
   ],
   "source": [
    "%%timeit\n",
    "readers = [\n",
    "    threading.Thread(target=lambda url=url: read_url(url))\n",
    "    for url in urls\n",
    "]\n",
    "for reader in readers:\n",
    "    reader.start()\n",
    "for reader in readers:\n",
    "    reader.join()"
   ]
  },
  {
   "cell_type": "markdown",
   "metadata": {
    "pycharm": {
     "name": "#%% md\n"
    },
    "slideshow": {
     "slide_type": "slide"
    }
   },
   "source": [
    "Для специальных типов задач: **IO-bound**, питон-треды оказываются эффективны"
   ]
  },
  {
   "cell_type": "markdown",
   "metadata": {
    "pycharm": {
     "name": "#%% md\n"
    },
    "slideshow": {
     "slide_type": "fragment"
    }
   },
   "source": [
    "<center>\n",
    "<img alt=\"IO-bound\" src=\"https://risingstack-blog.s3.amazonaws.com/2016/Jun/non_async_blocking_operations_example_in_node_hero_1459856858194-1466683867567.png\" width=700 />\n",
    "</center>"
   ]
  },
  {
   "cell_type": "markdown",
   "metadata": {
    "pycharm": {
     "name": "#%% md\n"
    },
    "slideshow": {
     "slide_type": "slide"
    }
   },
   "source": [
    "**NB**: Кроме того, иногда бывает полезным использовать треды для разделения потоков исполнения."
   ]
  },
  {
   "cell_type": "markdown",
   "metadata": {
    "pycharm": {
     "name": "#%% md\n"
    },
    "slideshow": {
     "slide_type": "fragment"
    }
   },
   "source": [
    "Хотя это и не даст выигрыша, организовывать сложный код таким образом может быть удобнее."
   ]
  },
  {
   "cell_type": "markdown",
   "metadata": {
    "pycharm": {
     "name": "#%% md\n"
    },
    "slideshow": {
     "slide_type": "fragment"
    }
   },
   "source": [
    "Например, отрисовка анимации, фоновые активности и прочие невысоконагруженные задачи."
   ]
  },
  {
   "cell_type": "markdown",
   "metadata": {},
   "source": [
    "### Random toy example to show logical separation of threads"
   ]
  },
  {
   "cell_type": "code",
   "execution_count": 22,
   "metadata": {},
   "outputs": [
    {
     "name": "stdout",
     "output_type": "stream",
     "text": [
      "Producer: Generated data 1731977553.5941792, sleeping for 0.820\n",
      "Consumer: Processed data 1731977553.5941792\n",
      "Producer: Generated data 1731977554.4161122, sleeping for 0.513\n",
      "Consumer: Processed data 1731977554.4161122\n",
      "Producer: Generated data 1731977554.933107, sleeping for 0.638\n",
      "Producer: Generated data 1731977555.5740821, sleeping for 0.612\n",
      "Consumer: Processed data 1731977554.933107\n",
      "Producer: Generated data 1731977556.1889532, sleeping for 0.868\n",
      "Producer: Generated data 1731977557.062468, sleeping for 0.838\n",
      "Consumer: Processed data 1731977555.5740821\n",
      "Producer: Generated data 1731977557.904414, sleeping for 0.946\n",
      "Sleep is larger than 0.9, exiting the producer\n",
      "Consumer: Processed data 1731977556.1889532\n",
      "Producer finished, message from the main thread\n",
      "Consumer: Processed data 1731977557.062468\n",
      "Consumer: Processed data 1731977557.904414\n",
      "Consumer: Received stop signal. Exiting.\n",
      "Consumer stopped. Program finished.\n"
     ]
    }
   ],
   "source": [
    "import threading\n",
    "import queue\n",
    "import time\n",
    "import random\n",
    "\n",
    "random.seed(42)\n",
    "# Shared queue for communication between threads\n",
    "data_queue = queue.Queue()\n",
    "# tricky question: can I use deque here instead? We do have the GIL after all?\n",
    "\n",
    "def producer() -> None:\n",
    "    \"\"\"Simulates an indefinite data producer (e.g., reading from a sensor)\"\"\"\n",
    "    for i in range(10):\n",
    "        data = time.time()  # Simulated random data (timestamp)\n",
    "        sleep = random.random() / 2 + 0.5\n",
    "        print(f\"Producer: Generated data {data}, sleeping for {sleep:5.3f}\")\n",
    "        data_queue.put(data)\n",
    "        if sleep > 0.9:\n",
    "            print(\"Sleep is larger than 0.9, exiting the producer\")\n",
    "            time.sleep(sleep)\n",
    "            data_queue.put(None)\n",
    "            break\n",
    "        time.sleep(sleep)  # Simulate data delay, it releases the GIL\n",
    "\n",
    "def consumer() -> None:\n",
    "    \"\"\"Simulates a data consumer (e.g., processing data)\"\"\"\n",
    "    while True:\n",
    "        data = data_queue.get()  # Get data from the queue, pauses if the queue is empty\n",
    "        if data is None:  # Check for completion signal\n",
    "            print(\"Consumer: Received stop signal. Exiting.\")\n",
    "            break\n",
    "        print(f\"Consumer: Processed data {data}\")\n",
    "        time.sleep(1.2)  # Simulate processing delay\n",
    "\n",
    "# Create threads for producer and consumer\n",
    "producer_thread = threading.Thread(target=producer)\n",
    "consumer_thread = threading.Thread(target=consumer)\n",
    "\n",
    "# Start threads\n",
    "producer_thread.start()\n",
    "consumer_thread.start()\n",
    "\n",
    "# Wait for the threads to stop\n",
    "producer_thread.join()  # we do not go further until the thread dies\n",
    "print(\"Producer finished, message from the main thread\")\n",
    "consumer_thread.join()\n",
    "\n",
    "print(\"Consumer stopped. Program finished.\")\n"
   ]
  },
  {
   "cell_type": "markdown",
   "metadata": {
    "pycharm": {
     "name": "#%% md\n"
    },
    "slideshow": {
     "slide_type": "slide"
    }
   },
   "source": [
    "# subprocess"
   ]
  },
  {
   "cell_type": "markdown",
   "metadata": {
    "pycharm": {
     "name": "#%% md\n"
    },
    "slideshow": {
     "slide_type": "slide"
    }
   },
   "source": [
    "Иногда появляется необходимость **запустить некоторую программу из вашего питон-кода**"
   ]
  },
  {
   "cell_type": "markdown",
   "metadata": {
    "pycharm": {
     "name": "#%% md\n"
    },
    "slideshow": {
     "slide_type": "fragment"
    }
   },
   "source": [
    "*Например*: наша тестирующая система запускает тесты для вашего кода. И нужно убедиться, что тесты отработали корректно"
   ]
  },
  {
   "cell_type": "markdown",
   "metadata": {
    "pycharm": {
     "name": "#%% md\n"
    },
    "slideshow": {
     "slide_type": "fragment"
    }
   },
   "source": [
    "<center>\n",
    "<img src=\"https://blag.felixhummel.de/_images/process_stdin_stdout_stderr_return-code.png\" alt=\"process\" width=800 />\n",
    "</center>"
   ]
  },
  {
   "cell_type": "code",
   "execution_count": 23,
   "metadata": {
    "pycharm": {
     "name": "#%%\n"
    },
    "slideshow": {
     "slide_type": "slide"
    }
   },
   "outputs": [],
   "source": [
    "import subprocess"
   ]
  },
  {
   "cell_type": "code",
   "execution_count": null,
   "metadata": {
    "pycharm": {
     "name": "#%%\n"
    },
    "slideshow": {
     "slide_type": "fragment"
    }
   },
   "outputs": [],
   "source": [
    "# Simplified code\n",
    "print('Running tests...')\n",
    "try:\n",
    "    subprocess.run(\n",
    "        ['pytest', '-p', 'no:cacheprovider', '--tb=no'],\n",
    "        cwd=str(build_dir),\n",
    "        timeout=60,\n",
    "        check=True,\n",
    "    )\n",
    "except subprocess.CalledProcessError as exc:\n",
    "    # Catch if any error occured\n",
    "except subprocess.TimeoutExpired as exc:\n",
    "    # or process timed out"
   ]
  },
  {
   "cell_type": "code",
   "execution_count": null,
   "metadata": {
    "pycharm": {
     "name": "#%%\n"
    },
    "slideshow": {
     "slide_type": "slide"
    }
   },
   "outputs": [],
   "source": [
    "# recommended to use whenever it's possible\n",
    "subprocess.run\n",
    "\n",
    "# for more complex cases\n",
    "subprocess.Popen"
   ]
  },
  {
   "cell_type": "markdown",
   "metadata": {},
   "source": [
    "### Low-level approach (asynchroneous if needed)"
   ]
  },
  {
   "cell_type": "code",
   "execution_count": null,
   "metadata": {
    "pycharm": {
     "name": "#%%\n"
    },
    "slideshow": {
     "slide_type": "fragment"
    }
   },
   "outputs": [],
   "source": [
    "class Popen:\n",
    "    def __init__(\n",
    "        self,\n",
    "        args,           # string or sequence to execute\n",
    "        stdin=None, stdout=None, stderr=None,\n",
    "        cwd=None,       # set current working directory\n",
    "        env=None,       # set environment variables\n",
    "        text=False,     # use default encoding\n",
    "        shell=False,    # handle args as shell command\n",
    "        ...             # and many other arguments\n",
    "    ): ..."
   ]
  },
  {
   "cell_type": "markdown",
   "metadata": {
    "pycharm": {
     "name": "#%% md\n"
    },
    "slideshow": {
     "slide_type": "fragment"
    }
   },
   "source": [
    "Документация: https://docs.python.org/3/library/subprocess.html"
   ]
  },
  {
   "cell_type": "code",
   "execution_count": 24,
   "metadata": {
    "pycharm": {
     "name": "#%%\n"
    },
    "slideshow": {
     "slide_type": "slide"
    }
   },
   "outputs": [
    {
     "name": "stdout",
     "output_type": "stream",
     "text": [
      "None\n",
      "total 136\n",
      "-rw-r--r--@ 1 nbond  staff  55082 Nov 19 04:52 SubprocessThreadingMultiprocessing.ipynb\n",
      "drwxr-xr-x@ 4 nbond  staff    128 Nov 19 04:18 \u001b[34m__pycache__\u001b[m\u001b[m\n",
      "drwxr-xr-x  4 nbond  staff    128 Nov 19 02:38 \u001b[34mimages\u001b[m\u001b[m\n",
      "-rw-r--r--@ 1 nbond  staff     49 Nov 19 04:18 multiply.py\n",
      "-rw-r--r--@ 1 nbond  staff    672 Nov 16 15:57 rise.css\n",
      "-rw-r--r--@ 1 nbond  staff     76 Nov 19 04:16 simple_append.py\n"
     ]
    }
   ],
   "source": [
    "process = subprocess.Popen(['ls', '-l'])  # in practice, use os.listdir\n",
    "print(process.poll())\n",
    "# process"
   ]
  },
  {
   "cell_type": "code",
   "execution_count": 25,
   "metadata": {
    "pycharm": {
     "name": "#%%\n"
    },
    "slideshow": {
     "slide_type": "fragment"
    }
   },
   "outputs": [
    {
     "data": {
      "text/plain": [
       "0"
      ]
     },
     "execution_count": 25,
     "metadata": {},
     "output_type": "execute_result"
    }
   ],
   "source": [
    "# wait and get exit code\n",
    "process.poll()"
   ]
  },
  {
   "cell_type": "code",
   "execution_count": 26,
   "metadata": {
    "pycharm": {
     "name": "#%%\n"
    }
   },
   "outputs": [
    {
     "data": {
      "text/plain": [
       "0"
      ]
     },
     "execution_count": 26,
     "metadata": {},
     "output_type": "execute_result"
    }
   ],
   "source": [
    "# wait with timeout\n",
    "process.wait(timeout=1)  # timeout in secs"
   ]
  },
  {
   "cell_type": "code",
   "execution_count": 27,
   "metadata": {
    "pycharm": {
     "name": "#%%\n"
    },
    "slideshow": {
     "slide_type": "fragment"
    }
   },
   "outputs": [],
   "source": [
    "stdout, stderr = process.communicate()\n",
    "stdout  # no stdout :("
   ]
  },
  {
   "cell_type": "markdown",
   "metadata": {},
   "source": [
    "### The PIPE to enable of communication"
   ]
  },
  {
   "attachments": {},
   "cell_type": "markdown",
   "metadata": {},
   "source": [
    "\n",
    "<center><img src=\"images/popen_pipe.webp\"/><div><a href=\"https://florcvet.ru/python-subprocess-popen/\">https://florcvet.ru/python-subprocess-popen/</a></div></center>"
   ]
  },
  {
   "cell_type": "code",
   "execution_count": 28,
   "metadata": {
    "pycharm": {
     "name": "#%%\n"
    },
    "slideshow": {
     "slide_type": "slide"
    }
   },
   "outputs": [],
   "source": [
    "process = subprocess.Popen(['ls', '-l'], stdout=subprocess.PIPE, text=True)\n",
    "stdout, _ = process.communicate()"
   ]
  },
  {
   "cell_type": "code",
   "execution_count": 29,
   "metadata": {
    "pycharm": {
     "name": "#%%\n"
    },
    "slideshow": {
     "slide_type": "fragment"
    }
   },
   "outputs": [
    {
     "name": "stdout",
     "output_type": "stream",
     "text": [
      "total 136\n",
      "-rw-r--r--@ 1 nbond  staff  55091 Nov 19 04:54 SubprocessThreadingMultiprocessing.ipynb\n",
      "drwxr-xr-x@ 4 nbond  staff    128 Nov 19 04:18 \u001b[34m__pycache__\u001b[m\u001b[m\n",
      "drwxr-xr-x  4 nbond  staff    128 Nov 19 02:38 \u001b[34mimages\u001b[m\u001b[m\n",
      "-rw-r--r--@ 1 nbond  staff     49 Nov 19 04:18 multiply.py\n",
      "-rw-r--r--@ 1 nbond  staff    672 Nov 16 15:57 rise.css\n",
      "-rw-r--r--@ 1 nbond  staff     76 Nov 19 04:16 simple_append.py\n",
      "\n"
     ]
    }
   ],
   "source": [
    "print(''.join(stdout))"
   ]
  },
  {
   "cell_type": "code",
   "execution_count": null,
   "metadata": {
    "pycharm": {
     "name": "#%%\n"
    },
    "slideshow": {
     "slide_type": "fragment"
    }
   },
   "outputs": [],
   "source": [
    "# communicate(input='...') with Popen(..., stdin=PIPE) to pass smth to stdin\n",
    "# communicate(timeout=1) for setting timeout in seconds"
   ]
  },
  {
   "cell_type": "code",
   "execution_count": null,
   "metadata": {
    "pycharm": {
     "name": "#%%\n"
    },
    "slideshow": {
     "slide_type": "slide"
    }
   },
   "outputs": [],
   "source": [
    "def run(\n",
    "    *popenargs,\n",
    "    check=False,           # check process exit code and raise on failure\n",
    "    capture_output=False,  # set stdout=PIPE and stderr=PIPE\n",
    "    timeout=None,          # passed to Popen.communicate(), raise on timeout\n",
    "    input=None,            # passed to Popen.communicate() as stdin\n",
    "    **popenkwargs\n",
    ") -> subprocess.CompletedProcess: ..."
   ]
  },
  {
   "cell_type": "code",
   "execution_count": 30,
   "metadata": {
    "pycharm": {
     "name": "#%%\n"
    },
    "slideshow": {
     "slide_type": "fragment"
    }
   },
   "outputs": [
    {
     "data": {
      "text/plain": [
       "CompletedProcess(args=['bc'], returncode=0, stdout=b'6\\n', stderr=b'')"
      ]
     },
     "execution_count": 30,
     "metadata": {},
     "output_type": "execute_result"
    }
   ],
   "source": [
    "subprocess.run(['bc'], input=b'2 * 3\\n', capture_output=True)"
   ]
  },
  {
   "cell_type": "markdown",
   "metadata": {
    "pycharm": {
     "name": "#%% md\n"
    },
    "slideshow": {
     "slide_type": "slide"
    }
   },
   "source": [
    "### subprocess - higher level, synchronous\n",
    "This module intends to replace several older modules and functions:\n",
    "```\n",
    "os.system\n",
    "os.spawn*\n",
    "``` \n",
    "(c) python.org\n",
    "\n",
    "see also: https://www.python.org/dev/peps/pep-0324/"
   ]
  },
  {
   "cell_type": "markdown",
   "metadata": {
    "pycharm": {
     "name": "#%% md\n"
    },
    "slideshow": {
     "slide_type": "fragment"
    }
   },
   "source": [
    "На текущий момент `subprocess` - наиболее правильный способ запускать другие процессы на питоне"
   ]
  },
  {
   "cell_type": "markdown",
   "metadata": {},
   "source": [
    "### Synchronous vs asynchronous"
   ]
  },
  {
   "cell_type": "code",
   "execution_count": 31,
   "metadata": {},
   "outputs": [
    {
     "name": "stdout",
     "output_type": "stream",
     "text": [
      "Using subprocess.run (synchronous):\n",
      "subprocess.run completed after 5.03 seconds\n",
      "\n",
      "Using subprocess.Popen (asynchronous):\n",
      "subprocess.Popen returned after 0.01 seconds\n",
      "subprocess.Popen process completed after 5.02 seconds\n"
     ]
    }
   ],
   "source": [
    "import subprocess\n",
    "import time\n",
    "\n",
    "# Define a shell command that takes time to complete\n",
    "command = [\"sleep\", \"5\"]  # Sleeps for 5 seconds\n",
    "\n",
    "print(\"Using subprocess.run (synchronous):\")\n",
    "start_time = time.time()\n",
    "\n",
    "# Run the command synchronously\n",
    "subprocess.run(command)  # Blocks until the sleep finishes\n",
    "print(f\"subprocess.run completed after {time.time() - start_time:.2f} seconds\\n\")\n",
    "\n",
    "print(\"Using subprocess.Popen (asynchronous):\")\n",
    "start_time = time.time()\n",
    "\n",
    "# Run the command asynchronously\n",
    "process = subprocess.Popen(command)  # Starts the sleep and immediately returns\n",
    "print(f\"subprocess.Popen returned after {time.time() - start_time:.2f} seconds\")\n",
    "\n",
    "# Wait for the process to complete (optional)\n",
    "process.wait()\n",
    "print(f\"subprocess.Popen process completed after {time.time() - start_time:.2f} seconds\")\n"
   ]
  },
  {
   "cell_type": "markdown",
   "metadata": {
    "pycharm": {
     "name": "#%% md\n"
    },
    "slideshow": {
     "slide_type": "slide"
    }
   },
   "source": [
    "# multiprocessing"
   ]
  },
  {
   "cell_type": "markdown",
   "metadata": {
    "pycharm": {
     "name": "#%% md\n"
    },
    "slideshow": {
     "slide_type": "slide"
    }
   },
   "source": [
    "GIL запрещает параллельное исполнение нескольких потоков"
   ]
  },
  {
   "cell_type": "markdown",
   "metadata": {
    "pycharm": {
     "name": "#%% md\n"
    },
    "slideshow": {
     "slide_type": "-"
    }
   },
   "source": [
    "<center>\n",
    "<img src=\"https://s3.amazonaws.com/media-p.slid.es/uploads/299675/images/1413349/Screen_Shot_2015-05-23_at_15.58.31.png\" alt=\"GIL\" width=600 />\n",
    "</center>"
   ]
  },
  {
   "cell_type": "markdown",
   "metadata": {
    "pycharm": {
     "name": "#%% md\n"
    },
    "slideshow": {
     "slide_type": "fragment"
    }
   },
   "source": [
    "Но GIL никак не может повлиять на разные процессы, поэтому в теории можно использовать разные процессы для распараллеливания вычислений!"
   ]
  },
  {
   "cell_type": "code",
   "execution_count": 32,
   "metadata": {
    "collapsed": true,
    "jupyter": {
     "outputs_hidden": true
    },
    "pycharm": {
     "name": "#%%\n"
    },
    "scrolled": true,
    "slideshow": {
     "slide_type": "fragment"
    }
   },
   "outputs": [
    {
     "name": "stderr",
     "output_type": "stream",
     "text": [
      "Traceback (most recent call last):\n",
      "  File \"<string>\", line 1, in <module>\n",
      "  File \"/Users/nbond/.pyenv/versions/3.12.5/lib/python3.12/multiprocessing/spawn.py\", line 122, in spawn_main\n",
      "Traceback (most recent call last):\n",
      "  File \"<string>\", line 1, in <module>\n",
      "  File \"/Users/nbond/.pyenv/versions/3.12.5/lib/python3.12/multiprocessing/spawn.py\", line 122, in spawn_main\n",
      "Traceback (most recent call last):\n",
      "  File \"<string>\", line 1, in <module>\n",
      "  File \"/Users/nbond/.pyenv/versions/3.12.5/lib/python3.12/multiprocessing/spawn.py\", line 122, in spawn_main\n",
      "Traceback (most recent call last):\n",
      "  File \"<string>\", line 1, in <module>\n",
      "  File \"/Users/nbond/.pyenv/versions/3.12.5/lib/python3.12/multiprocessing/spawn.py\", line 122, in spawn_main\n",
      "Traceback (most recent call last):\n",
      "  File \"<string>\", line 1, in <module>\n",
      "  File \"/Users/nbond/.pyenv/versions/3.12.5/lib/python3.12/multiprocessing/spawn.py\", line 122, in spawn_main\n",
      "    exitcode = _main(fd, parent_sentinel)\n",
      "    exitcode = _main(fd, parent_sentinel)\n",
      "    exitcode = _main(fd, parent_sentinel)\n",
      "    exitcode = _main(fd, parent_sentinel)\n",
      "    exitcode = _main(fd, parent_sentinel)\n",
      "               ^^^^^^^^^^^^^^^^^^^^^^^^^^\n",
      "               ^^^^^^^^^^^^^^^^^^^^^^^^^^\n",
      "               ^^^^^^^^^^^^^^^^^^^^^^^^^^\n",
      "               ^^^^^^^^^^^^^^^^^^^^^^^^^^\n",
      "               ^^^^^^^^^^^^^^^^^^^^^^^^^^\n",
      "  File \"/Users/nbond/.pyenv/versions/3.12.5/lib/python3.12/multiprocessing/spawn.py\", line 132, in _main\n",
      "  File \"/Users/nbond/.pyenv/versions/3.12.5/lib/python3.12/multiprocessing/spawn.py\", line 132, in _main\n",
      "  File \"/Users/nbond/.pyenv/versions/3.12.5/lib/python3.12/multiprocessing/spawn.py\", line 132, in _main\n",
      "  File \"/Users/nbond/.pyenv/versions/3.12.5/lib/python3.12/multiprocessing/spawn.py\", line 132, in _main\n",
      "  File \"/Users/nbond/.pyenv/versions/3.12.5/lib/python3.12/multiprocessing/spawn.py\", line 132, in _main\n",
      "    self = reduction.pickle.load(from_parent)\n",
      "    self = reduction.pickle.load(from_parent)\n",
      "    self = reduction.pickle.load(from_parent)\n",
      "    self = reduction.pickle.load(from_parent)\n",
      "           ^^^^^^^^^^^^^^^^^^^^^^^^^^^^^^^^^^\n",
      "           ^^^^^^^^^^^^^^^^^^^^^^^^^^^^^^^^^^\n",
      "AttributeError: Can't get attribute 'worker' on <module '__main__' (<class '_frozen_importlib.BuiltinImporter'>)>\n",
      "AttributeError: Can't get attribute 'worker' on <module '__main__' (<class '_frozen_importlib.BuiltinImporter'>)>\n",
      "           ^^^^^^^^^^^^^^^^^^^^^^^^^^^^^^^^^^\n",
      "           ^^^^^^^^^^^^^^^^^^^^^^^^^^^^^^^^^^\n",
      "AttributeError: Can't get attribute 'worker' on <module '__main__' (<class '_frozen_importlib.BuiltinImporter'>)>\n",
      "AttributeError: Can't get attribute 'worker' on <module '__main__' (<class '_frozen_importlib.BuiltinImporter'>)>\n",
      "    self = reduction.pickle.load(from_parent)\n",
      "           ^^^^^^^^^^^^^^^^^^^^^^^^^^^^^^^^^^\n",
      "AttributeError: Can't get attribute 'worker' on <module '__main__' (<class '_frozen_importlib.BuiltinImporter'>)>\n"
     ]
    },
    {
     "ename": "NameError",
     "evalue": "name 'accumulator' is not defined",
     "output_type": "error",
     "traceback": [
      "\u001b[0;31m---------------------------------------------------------------------------\u001b[0m",
      "\u001b[0;31mNameError\u001b[0m                                 Traceback (most recent call last)",
      "Cell \u001b[0;32mIn[32], line 15\u001b[0m\n\u001b[1;32m     12\u001b[0m \u001b[38;5;28;01mfor\u001b[39;00m p \u001b[38;5;129;01min\u001b[39;00m processes:\n\u001b[1;32m     13\u001b[0m     p\u001b[38;5;241m.\u001b[39mjoin()\n\u001b[0;32m---> 15\u001b[0m \u001b[43maccumulator\u001b[49m\n",
      "\u001b[0;31mNameError\u001b[0m: name 'accumulator' is not defined"
     ]
    }
   ],
   "source": [
    "# потому что не надо юзать макбук или винду ъуъ! На линуксе работает\n",
    "# https://stackoverflow.com/questions/41385708/multiprocessing-example-giving-attributeerror\n",
    "import multiprocessing\n",
    "acc = []\n",
    "\n",
    "def worker(accumulator) -> None:\n",
    "    accumulator.append('item')\n",
    "\n",
    "processes = [multiprocessing.Process(target=worker, args=(acc, )) for _ in range(5)]\n",
    "for p in processes:\n",
    "    p.start()\n",
    "for p in processes:\n",
    "    p.join()\n",
    "    \n",
    "accumulator"
   ]
  },
  {
   "cell_type": "code",
   "execution_count": 33,
   "metadata": {},
   "outputs": [
    {
     "name": "stdout",
     "output_type": "stream",
     "text": [
      "Overwriting simple_append.py\n"
     ]
    }
   ],
   "source": [
    "%%writefile simple_append.py\n",
    "\n",
    "def worker(accumulator: list[str]) -> None:\n",
    "    accumulator.append('item')\n"
   ]
  },
  {
   "cell_type": "code",
   "execution_count": 34,
   "metadata": {},
   "outputs": [
    {
     "data": {
      "text/plain": [
       "[]"
      ]
     },
     "execution_count": 34,
     "metadata": {},
     "output_type": "execute_result"
    }
   ],
   "source": [
    "import multiprocessing\n",
    "from simple_append import worker\n",
    "\n",
    "acc = []\n",
    "\n",
    "processes = [multiprocessing.Process(target=worker, args=(acc, )) for _ in range(5)]\n",
    "for p in processes:\n",
    "    p.start()\n",
    "for p in processes:\n",
    "    p.join()\n",
    "    \n",
    "acc"
   ]
  },
  {
   "cell_type": "markdown",
   "metadata": {
    "pycharm": {
     "name": "#%% md\n"
    },
    "slideshow": {
     "slide_type": "fragment"
    }
   },
   "source": [
    "Процессы не разделяют память, поэтому нужен механизм обмена данными между ними\n",
    "\n",
    "Также **будьте аккуратны**! При передаче в подпроцесс чего-либо, происходит **pickle-unpickle**. Мало того, что это **не всегда возможно**, так еще и это может привести к **большому расходу памяти** и даже полной потере смысла от распараллеливания из-за копирования входных данных"
   ]
  },
  {
   "cell_type": "markdown",
   "metadata": {
    "pycharm": {
     "name": "#%% md\n"
    },
    "slideshow": {
     "slide_type": "slide"
    }
   },
   "source": [
    "Таким готовым механизмом обладает `multiprocessing.Pool`"
   ]
  },
  {
   "cell_type": "code",
   "execution_count": 35,
   "metadata": {
    "pycharm": {
     "name": "#%%\n"
    },
    "slideshow": {
     "slide_type": "fragment"
    }
   },
   "outputs": [
    {
     "name": "stdout",
     "output_type": "stream",
     "text": [
      "Overwriting multiply.py\n"
     ]
    }
   ],
   "source": [
    "%%writefile multiply.py\n",
    "\n",
    "def multiplier(x: int) -> int:\n",
    "    return x * 2"
   ]
  },
  {
   "cell_type": "code",
   "execution_count": 36,
   "metadata": {
    "pycharm": {
     "name": "#%%\n"
    },
    "slideshow": {
     "slide_type": "fragment"
    }
   },
   "outputs": [
    {
     "data": {
      "text/plain": [
       "[0, 2, 4, 6, 8, 10, 12, 14, 16, 18]"
      ]
     },
     "execution_count": 36,
     "metadata": {},
     "output_type": "execute_result"
    }
   ],
   "source": [
    "from multiply import multiplier\n",
    "\n",
    "with multiprocessing.Pool() as pool:\n",
    "    result = pool.map(multiplier, range(10))\n",
    "result"
   ]
  },
  {
   "cell_type": "markdown",
   "metadata": {
    "pycharm": {
     "name": "#%% md\n"
    },
    "slideshow": {
     "slide_type": "slide"
    }
   },
   "source": [
    "Возвращаемся к задаче о суммировании"
   ]
  },
  {
   "cell_type": "code",
   "execution_count": 37,
   "metadata": {
    "pycharm": {
     "name": "#%%\n"
    },
    "slideshow": {
     "slide_type": "fragment"
    }
   },
   "outputs": [],
   "source": [
    "size = 10_000_000\n",
    "array = [1 for _ in range(size)]"
   ]
  },
  {
   "cell_type": "code",
   "execution_count": 38,
   "metadata": {
    "pycharm": {
     "name": "#%%\n"
    },
    "slideshow": {
     "slide_type": "fragment"
    }
   },
   "outputs": [
    {
     "name": "stdout",
     "output_type": "stream",
     "text": [
      "25.3 ms ± 287 μs per loop (mean ± std. dev. of 7 runs, 10 loops each)\n"
     ]
    }
   ],
   "source": [
    "%%timeit\n",
    "sum(array)"
   ]
  },
  {
   "cell_type": "code",
   "execution_count": 40,
   "metadata": {
    "pycharm": {
     "name": "#%%\n"
    },
    "slideshow": {
     "slide_type": "slide"
    }
   },
   "outputs": [
    {
     "name": "stdout",
     "output_type": "stream",
     "text": [
      "You are a proud owner of 11 CPUs\n"
     ]
    }
   ],
   "source": [
    "process_count = multiprocessing.cpu_count()\n",
    "print(f\"You are a proud owner of {process_count} CPUs\")\n",
    "part_size = size // process_count\n",
    "array_parts = [\n",
    "    array[i * part_size: (i + 1) * part_size]\n",
    "    for i in range(process_count)\n",
    "]"
   ]
  },
  {
   "cell_type": "code",
   "execution_count": 41,
   "metadata": {
    "pycharm": {
     "name": "#%%\n"
    },
    "scrolled": true,
    "slideshow": {
     "slide_type": "fragment"
    }
   },
   "outputs": [
    {
     "name": "stdout",
     "output_type": "stream",
     "text": [
      "92.1 ms ± 434 μs per loop (mean ± std. dev. of 7 runs, 10 loops each)\n"
     ]
    }
   ],
   "source": [
    "with multiprocessing.Pool(process_count) as pool:\n",
    "    %timeit pool.map(sum, array_parts)"
   ]
  },
  {
   "cell_type": "code",
   "execution_count": 42,
   "metadata": {
    "pycharm": {
     "name": "#%%\n"
    },
    "scrolled": true,
    "slideshow": {
     "slide_type": "fragment"
    }
   },
   "outputs": [
    {
     "name": "stdout",
     "output_type": "stream",
     "text": [
      "2.25 ms ± 3.94 μs per loop (mean ± std. dev. of 7 runs, 100 loops each)\n"
     ]
    }
   ],
   "source": [
    "one_part = array[0 * part_size: (0 + 1) * part_size]\n",
    "%timeit sum(one_part)"
   ]
  },
  {
   "cell_type": "markdown",
   "metadata": {
    "pycharm": {
     "name": "#%% md\n"
    },
    "slideshow": {
     "slide_type": "fragment"
    }
   },
   "source": [
    "Много времени тратится на коммуникацию между процессами :("
   ]
  },
  {
   "cell_type": "markdown",
   "metadata": {
    "pycharm": {
     "name": "#%% md\n"
    },
    "slideshow": {
     "slide_type": "slide"
    }
   },
   "source": [
    "Попробуем не пересылать много данных между процессами"
   ]
  },
  {
   "cell_type": "code",
   "execution_count": 45,
   "metadata": {
    "pycharm": {
     "name": "#%%\n"
    },
    "slideshow": {
     "slide_type": "fragment"
    }
   },
   "outputs": [
    {
     "name": "stdout",
     "output_type": "stream",
     "text": [
      "Overwriting sum_module.py\n"
     ]
    }
   ],
   "source": [
    "%%writefile sum_module.py\n",
    "\n",
    "def sum_n(n: int) -> int:\n",
    "    return sum(1 for _ in range(n))"
   ]
  },
  {
   "cell_type": "code",
   "execution_count": 48,
   "metadata": {},
   "outputs": [],
   "source": [
    "from sum_module import sum_n"
   ]
  },
  {
   "cell_type": "code",
   "execution_count": 49,
   "metadata": {
    "pycharm": {
     "name": "#%%\n"
    },
    "scrolled": true,
    "slideshow": {
     "slide_type": "fragment"
    }
   },
   "outputs": [
    {
     "name": "stdout",
     "output_type": "stream",
     "text": [
      "208 ms ± 2.08 ms per loop (mean ± std. dev. of 7 runs, 1 loop each)\n"
     ]
    }
   ],
   "source": [
    "%%timeit\n",
    "sum_n(size)"
   ]
  },
  {
   "cell_type": "code",
   "execution_count": 50,
   "metadata": {
    "pycharm": {
     "name": "#%%\n"
    },
    "slideshow": {
     "slide_type": "fragment"
    }
   },
   "outputs": [
    {
     "name": "stdout",
     "output_type": "stream",
     "text": [
      "39.1 ms ± 688 μs per loop (mean ± std. dev. of 7 runs, 10 loops each)\n"
     ]
    }
   ],
   "source": [
    "from sum_module import sum_n\n",
    "with multiprocessing.Pool(process_count) as pool:\n",
    "    %timeit pool.map(sum_n, (part_size for _ in range(process_count)))"
   ]
  },
  {
   "cell_type": "markdown",
   "metadata": {
    "pycharm": {
     "name": "#%% md\n"
    },
    "slideshow": {
     "slide_type": "fragment"
    }
   },
   "source": [
    "Есть заметный прирост в скорости, но множитель меньше, чем кол-во ядер ЦПУ :("
   ]
  },
  {
   "cell_type": "markdown",
   "metadata": {
    "pycharm": {
     "name": "#%% md\n"
    },
    "slideshow": {
     "slide_type": "slide"
    }
   },
   "source": [
    "### Резюме"
   ]
  },
  {
   "cell_type": "markdown",
   "metadata": {
    "pycharm": {
     "name": "#%% md\n"
    },
    "slideshow": {
     "slide_type": "fragment"
    }
   },
   "source": [
    "Создавать процессы — это дорого"
   ]
  },
  {
   "cell_type": "markdown",
   "metadata": {
    "pycharm": {
     "name": "#%% md\n"
    },
    "slideshow": {
     "slide_type": "fragment"
    }
   },
   "source": [
    "Передавать данные между процессами — тоже дорого"
   ]
  },
  {
   "cell_type": "markdown",
   "metadata": {
    "pycharm": {
     "name": "#%% md\n"
    },
    "slideshow": {
     "slide_type": "fragment"
    }
   },
   "source": [
    "Поэтому если данных для обмена много, и задача не слишком тяжелая, лучше обойтись без multiprocessing'а"
   ]
  },
  {
   "cell_type": "markdown",
   "metadata": {
    "pycharm": {
     "name": "#%% md\n"
    },
    "slideshow": {
     "slide_type": "fragment"
    }
   },
   "source": [
    "В противном случае используйте multiprocessing — это просто"
   ]
  },
  {
   "cell_type": "markdown",
   "metadata": {},
   "source": [
    "# И еще одна саммари табличка, тк легко запутаться"
   ]
  },
  {
   "cell_type": "markdown",
   "metadata": {},
   "source": [
    "<table>\n",
    "  <tr>\n",
    "    <th>Функция</th>\n",
    "    <th>threading.Thread</th>\n",
    "    <th>multiprocessing.Process</th>\n",
    "    <th>multiprocessing.Pool</th>\n",
    "    <th>subprocess.run</th>\n",
    "    <th>subprocess.Popen</th>\n",
    "  </tr>\n",
    "  <tr>\n",
    "    <td>Контекст выполнения</td>\n",
    "    <td>Общая память (в одном процессе)</td>\n",
    "    <td>Раздельная память</td>\n",
    "    <td>Раздельная память</td>\n",
    "    <td>Внешний процесс</td>\n",
    "    <td>Внешний процесс</td>\n",
    "  </tr>\n",
    "  <tr>\n",
    "    <td>Параллелизм</td>\n",
    "    <td>Квазипараллелизм (ограничен GIL)</td>\n",
    "    <td>Истинный параллелизм</td>\n",
    "    <td>Истинный параллелизм</td>\n",
    "    <td>Истинный параллелизм</td>\n",
    "    <td>Истинный параллелизм</td>\n",
    "  </tr>\n",
    "  <tr>\n",
    "    <td>Лучшее применение</td>\n",
    "    <td>I/O-задачи</td>\n",
    "    <td>Задачи с высокой нагрузкой на CPU</td>\n",
    "    <td>Высокоуровневый параллелизм задач</td>\n",
    "    <td>Синхронное выполнение команд</td>\n",
    "    <td>Асинхронное выполнение команд</td>\n",
    "  </tr>\n",
    "  <tr>\n",
    "    <td>API</td>\n",
    "    <td>.start(), .join()</td>\n",
    "    <td>.start(), .join()</td>\n",
    "    <td>.map(), .apply_async()</td>\n",
    "    <td>.run()</td>\n",
    "    <td>.Popen(), .communicate()</td>\n",
    "  </tr>\n",
    "  <tr>\n",
    "    <td>Общая память</td>\n",
    "    <td>Да</td>\n",
    "    <td>Нет (используйте Manager/Queue)</td>\n",
    "    <td>Нет (используйте Manager/Queue)</td>\n",
    "    <td>Нет</td>\n",
    "    <td>Нет</td>\n",
    "  </tr>\n",
    "  <tr>\n",
    "    <td>Коммуникация</td>\n",
    "    <td>Общие переменные</td>\n",
    "    <td>Queue, Pipe, Manager</td>\n",
    "    <td>Queue, Pipe, Manager</td>\n",
    "    <td>Стандартные потоки</td>\n",
    "    <td>Стандартные потоки</td>\n",
    "  </tr>\n",
    "  <tr>\n",
    "    <td>Блокирующее выполнение</td>\n",
    "    <td>Нет</td>\n",
    "    <td>Нет</td>\n",
    "    <td>Нет</td>\n",
    "    <td>Да</td>\n",
    "    <td>Нет</td>\n",
    "  </tr>\n",
    "  <tr>\n",
    "    <td>Обработка ошибок</td>\n",
    "    <td>Исключения Python</td>\n",
    "    <td>Исключения Python</td>\n",
    "    <td>Исключения Python</td>\n",
    "    <td>Коды выхода</td>\n",
    "    <td>Коды выхода, stderr</td>\n",
    "  </tr>\n",
    "  <tr>\n",
    "    <td>Возврат результата</td>\n",
    "    <td>Возвращает значения (вручную)</td>\n",
    "    <td>Возвращает значения (вручную)</td>\n",
    "    <td>Автоматически собирает результаты</td>\n",
    "    <td>stdout (PIPE)</td>\n",
    "    <td>stdout</td>\n",
    "  </tr>\n",
    "  <tr>\n",
    "    <td>Завершение</td>\n",
    "    <td>Нет terminate</td>\n",
    "    <td>.terminate()</td>\n",
    "    <td>Неприменимо</td>\n",
    "    <td>Требуется ручное завершение</td>\n",
    "    <td>.terminate()</td>\n",
    "  </tr>\n",
    "</table>\n"
   ]
  },
  {
   "cell_type": "markdown",
   "metadata": {
    "pycharm": {
     "name": "#%% md\n"
    },
    "slideshow": {
     "slide_type": "slide"
    }
   },
   "source": [
    "# Спасибо за внимание!"
   ]
  }
 ],
 "metadata": {
  "celltoolbar": "Slideshow",
  "kernelspec": {
   "display_name": "Python 3 (ipykernel)",
   "language": "python",
   "name": "python3"
  },
  "language_info": {
   "codemirror_mode": {
    "name": "ipython",
    "version": 3
   },
   "file_extension": ".py",
   "mimetype": "text/x-python",
   "name": "python",
   "nbconvert_exporter": "python",
   "pygments_lexer": "ipython3",
   "version": "3.12.5"
  },
  "rise": {
   "enable_chalkboard": true,
   "footer": "<p style=\"margin: 5px; color: #a0a0a0\">YSDA Python Course</p>",
   "scroll": true,
   "start_slideshow_at": "selected",
   "theme": "serif",
   "transition": "none"
  }
 },
 "nbformat": 4,
 "nbformat_minor": 4
}
