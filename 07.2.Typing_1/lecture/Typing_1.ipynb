{
 "cells": [
  {
   "cell_type": "code",
   "execution_count": 1,
   "metadata": {
    "slideshow": {
     "slide_type": "skip"
    },
    "tags": []
   },
   "outputs": [
    {
     "data": {
      "text/html": [
       "\n",
       "<style>\n",
       ".jp-Cell-outputWrapper .jp-Placeholder {\n",
       "    display: none;\n",
       "}\n",
       "</style>\n"
      ],
      "text/plain": [
       "<IPython.core.display.HTML object>"
      ]
     },
     "metadata": {},
     "output_type": "display_data"
    }
   ],
   "source": [
    "from IPython.display import display, HTML\n",
    "display(HTML('''\n",
    "<style>\n",
    ".jp-Cell-outputWrapper .jp-Placeholder {\n",
    "    display: none;\n",
    "}\n",
    "</style>\n",
    "'''))"
   ]
  },
  {
   "cell_type": "markdown",
   "metadata": {
    "pycharm": {
     "name": "#%% md\n"
    },
    "slideshow": {
     "slide_type": "slide"
    },
    "tags": []
   },
   "source": [
    "<center>\n",
    "    <img src=\"https://upload.wikimedia.org/wikipedia/commons/a/a8/%D0%9B%D0%9E%D0%93%D0%9E_%D0%A8%D0%90%D0%94.png\" width=500px/>\n",
    "    <font>Python 2024</font><br/>\n",
    "    <br/>\n",
    "    <br/>\n",
    "    <b style=\"font-size: 2em\">Типы - Введение</b><br/>\n",
    "    <br/>\n",
    "    <font>Никита Бондарцев</font><br/>\n",
    "</center>"
   ]
  },
  {
   "cell_type": "markdown",
   "metadata": {
    "pycharm": {
     "name": "#%% md\n"
    },
    "slideshow": {
     "slide_type": "slide"
    },
    "tags": []
   },
   "source": [
    "### static typing vs dynamic typing"
   ]
  },
  {
   "cell_type": "markdown",
   "metadata": {
    "slideshow": {
     "slide_type": "-"
    },
    "tags": []
   },
   "source": [
    "<center><img src=\"images/pills.jpg\" width=700px/></center>"
   ]
  },
  {
   "cell_type": "markdown",
   "metadata": {
    "cell_style": "center",
    "pycharm": {
     "name": "#%% md\n"
    },
    "slideshow": {
     "slide_type": "slide"
    },
    "tags": []
   },
   "source": [
    "### Dynamic typing\n",
    "\n",
    "Проверяется тип аргумента **в Runtime**. Тип ассоциирован с объектом\n"
   ]
  },
  {
   "cell_type": "code",
   "execution_count": 2,
   "metadata": {
    "cell_style": "split",
    "collapsed": true,
    "jupyter": {
     "outputs_hidden": true
    },
    "pycharm": {
     "name": "#%%\n"
    },
    "scrolled": true,
    "slideshow": {
     "slide_type": "-"
    },
    "tags": []
   },
   "outputs": [
    {
     "name": "stdout",
     "output_type": "stream",
     "text": [
      "Runtime\n"
     ]
    },
    {
     "ename": "AttributeError",
     "evalue": "'str' object has no attribute 'some_func'",
     "output_type": "error",
     "traceback": [
      "\u001b[0;31m---------------------------------------------------------------------------\u001b[0m",
      "\u001b[0;31mAttributeError\u001b[0m                            Traceback (most recent call last)",
      "Cell \u001b[0;32mIn[2], line 10\u001b[0m\n\u001b[1;32m      7\u001b[0m     \u001b[38;5;28mprint\u001b[39m(\u001b[38;5;124m\"\u001b[39m\u001b[38;5;124mRuntime\u001b[39m\u001b[38;5;124m\"\u001b[39m)\n\u001b[1;32m      8\u001b[0m     f(\u001b[38;5;124m\"\u001b[39m\u001b[38;5;124mhello\u001b[39m\u001b[38;5;124m\"\u001b[39m)\n\u001b[0;32m---> 10\u001b[0m \u001b[43mg\u001b[49m\u001b[43m(\u001b[49m\u001b[43m)\u001b[49m\n",
      "Cell \u001b[0;32mIn[2], line 8\u001b[0m, in \u001b[0;36mg\u001b[0;34m()\u001b[0m\n\u001b[1;32m      6\u001b[0m \u001b[38;5;28;01mdef\u001b[39;00m \u001b[38;5;21mg\u001b[39m() \u001b[38;5;241m-\u001b[39m\u001b[38;5;241m>\u001b[39m \u001b[38;5;28;01mNone\u001b[39;00m:\n\u001b[1;32m      7\u001b[0m     \u001b[38;5;28mprint\u001b[39m(\u001b[38;5;124m\"\u001b[39m\u001b[38;5;124mRuntime\u001b[39m\u001b[38;5;124m\"\u001b[39m)\n\u001b[0;32m----> 8\u001b[0m     \u001b[43mf\u001b[49m\u001b[43m(\u001b[49m\u001b[38;5;124;43m\"\u001b[39;49m\u001b[38;5;124;43mhello\u001b[39;49m\u001b[38;5;124;43m\"\u001b[39;49m\u001b[43m)\u001b[49m\n",
      "Cell \u001b[0;32mIn[2], line 4\u001b[0m, in \u001b[0;36mf\u001b[0;34m(a)\u001b[0m\n\u001b[1;32m      2\u001b[0m \u001b[38;5;28;01mdef\u001b[39;00m \u001b[38;5;21mf\u001b[39m(a: \u001b[38;5;28mint\u001b[39m) \u001b[38;5;241m-\u001b[39m\u001b[38;5;241m>\u001b[39m \u001b[38;5;28;01mNone\u001b[39;00m:\n\u001b[1;32m      3\u001b[0m     \u001b[38;5;66;03m# print(a + 10)  # Throws TypeError\u001b[39;00m\n\u001b[0;32m----> 4\u001b[0m     \u001b[43ma\u001b[49m\u001b[38;5;241;43m.\u001b[39;49m\u001b[43msome_func\u001b[49m()\n",
      "\u001b[0;31mAttributeError\u001b[0m: 'str' object has no attribute 'some_func'"
     ]
    }
   ],
   "source": [
    "### Dynamic typing\n",
    "def f(a: int) -> None:\n",
    "    # print(a + 10)  # Throws TypeError\n",
    "    a.some_func()  # Throws AttributeError\n",
    "\n",
    "def g() -> None:\n",
    "    print(\"Runtime\")\n",
    "    f(\"hello\")\n",
    "\n",
    "g()"
   ]
  },
  {
   "cell_type": "markdown",
   "metadata": {
    "cell_style": "split",
    "pycharm": {
     "name": "#%% md\n"
    },
    "slideshow": {
     "slide_type": "slide"
    },
    "tags": []
   },
   "source": [
    "### Static typing\n",
    "\n",
    "\n",
    "Проверяется тип аргумента **до Runtime**. Тип ассоциирован с переменной\n",
    "\n",
    "\n"
   ]
  },
  {
   "cell_type": "code",
   "execution_count": 3,
   "metadata": {
    "cell_style": "split",
    "collapsed": true,
    "jupyter": {
     "outputs_hidden": true
    },
    "pycharm": {
     "name": "#%%\n"
    },
    "scrolled": true,
    "slideshow": {
     "slide_type": "-"
    },
    "tags": []
   },
   "outputs": [
    {
     "name": "stdout",
     "output_type": "stream",
     "text": [
      "<string>:6: \u001b[1m\u001b[31merror:\u001b[m \u001b[m\u001b[1m\"int\"\u001b[m has no attribute \u001b[m\u001b[1m\"some_func\"\u001b[m  \u001b[m\u001b[33m[attr-defined]\u001b[m\n",
      "<string>:10: \u001b[1m\u001b[31merror:\u001b[m Argument 1 to \u001b[m\u001b[1m\"f\"\u001b[m has incompatible type \u001b[m\u001b[1m\"str\"\u001b[m; expected \u001b[m\u001b[1m\"int\"\u001b[m  \u001b[m\u001b[33m[arg-type]\u001b[m\n",
      "\u001b[1m\u001b[31mFound 2 errors in 1 file (checked 1 source file)\u001b[m\n",
      "\n"
     ]
    }
   ],
   "source": [
    "%%typecheck\n",
    "\n",
    "### Static typing\n",
    "def f(a: int) -> None:\n",
    "    print(a + 10)\n",
    "    a.some_func()   # Mypy error\n",
    "\n",
    "def g() -> None:\n",
    "    print(\"Runtime\")\n",
    "    f(\"hello\")      # Mypy error"
   ]
  },
  {
   "cell_type": "markdown",
   "metadata": {
    "pycharm": {
     "name": "#%% md\n"
    },
    "slideshow": {
     "slide_type": "slide"
    },
    "tags": []
   },
   "source": [
    "### Плюсы static/dynamic типизации"
   ]
  },
  {
   "cell_type": "markdown",
   "metadata": {
    "pycharm": {
     "name": "#%% md\n"
    },
    "slideshow": {
     "slide_type": "-"
    },
    "tags": []
   },
   "source": [
    "Static typing:\n",
    "* **Видим проблему в месте вызова**, а не где-то в недрах\n",
    "* Базово **документирует функцию** улучшая читабельность\n",
    "* Помогает **структурировать код** (понять что на входе страшный динозавр и стоит зарефакторить)\n",
    "* (не питон) Уменьшает нагрузку на runtime, так как **типы заранее проверяются** и можно эффективнее хранить значения\n",
    "\n",
    "Dynamic typing:\n",
    "* Можно не тратить **время на аннотацию типов**\n",
    "* Библиотеки могут **оперировать любым множеством входов** и принимать решение про тип в рантайме"
   ]
  },
  {
   "cell_type": "markdown",
   "metadata": {
    "pycharm": {
     "name": "#%% md\n"
    },
    "slideshow": {
     "slide_type": "slide"
    },
    "tags": []
   },
   "source": [
    "It should also be emphasized that **Python will remain a dynamically typed language, and the authors have no desire to ever make type hints mandatory, even by convention.**\n",
    "\n",
    "Guido van Rossum, [PEP 484](https://peps.python.org/pep-0484/#non-goals)"
   ]
  },
  {
   "cell_type": "markdown",
   "metadata": {
    "slideshow": {
     "slide_type": "fragment"
    },
    "tags": []
   },
   "source": [
    "<center><img src=\"images/static_code_analysis.jpg\" width=700px/></center>"
   ]
  },
  {
   "cell_type": "markdown",
   "metadata": {
    "pycharm": {
     "name": "#%% md\n"
    },
    "slideshow": {
     "slide_type": "slide"
    },
    "tags": []
   },
   "source": [
    "### Отлично, убедили, хочу тайпхинты. Но как?"
   ]
  },
  {
   "cell_type": "markdown",
   "metadata": {
    "slideshow": {
     "slide_type": "-"
    },
    "tags": []
   },
   "source": [
    "<center><img src=\"images/awakening.jpg\" width=700px/></center>"
   ]
  },
  {
   "cell_type": "markdown",
   "metadata": {
    "slideshow": {
     "slide_type": "slide"
    },
    "tags": []
   },
   "source": [
    "#### Типизации подлежат:"
   ]
  },
  {
   "cell_type": "markdown",
   "metadata": {
    "slideshow": {
     "slide_type": "-"
    },
    "tags": []
   },
   "source": [
    "- аргументы функции/метода\n",
    "- возвращаемые значения функции/метода\n",
    "- переменные/атрибуты*\n",
    "\n",
    "\\* но достаточно часто типы локальных переменных могут быть выведены из кода"
   ]
  },
  {
   "cell_type": "markdown",
   "metadata": {
    "slideshow": {
     "slide_type": "-"
    },
    "tags": []
   },
   "source": [
    "#### В качестве тайпхинтов можно использовать"
   ]
  },
  {
   "cell_type": "markdown",
   "metadata": {
    "pycharm": {
     "name": "#%% md\n"
    },
    "slideshow": {
     "slide_type": "-"
    },
    "tags": []
   },
   "source": [
    "* встроенные классы (list[str], dict[str,int], int, float, etc)\n",
    "* пользовательские классы (class A, class B)\n",
    "* абстрактные базовые классы (collections.abc.Mapping, collections.abc.Callable)\n",
    "* типы из types/typing (types.FunctionType, typing.IO)\n",
    "* None"
   ]
  },
  {
   "cell_type": "markdown",
   "metadata": {
    "slideshow": {
     "slide_type": "slide"
    },
    "tags": []
   },
   "source": [
    "### Как программно узнать типы функции?\n",
    "\n",
    "(непонятно зачем это может понадобиться, но вот)"
   ]
  },
  {
   "cell_type": "markdown",
   "metadata": {
    "slideshow": {
     "slide_type": "-"
    }
   },
   "source": [
    "#### Читерим"
   ]
  },
  {
   "cell_type": "code",
   "execution_count": 4,
   "metadata": {
    "collapsed": true,
    "jupyter": {
     "outputs_hidden": true
    },
    "pycharm": {
     "name": "#%%\n"
    },
    "slideshow": {
     "slide_type": "-"
    },
    "tags": []
   },
   "outputs": [
    {
     "data": {
      "text/plain": [
       "{'a': int, 'return': None}"
      ]
     },
     "execution_count": 4,
     "metadata": {},
     "output_type": "execute_result"
    }
   ],
   "source": [
    "def f(a: int) -> None:\n",
    "    pass\n",
    "\n",
    "f.__annotations__  # в какой-то из очередных релизов может сломаться"
   ]
  },
  {
   "cell_type": "markdown",
   "metadata": {
    "slideshow": {
     "slide_type": "-"
    },
    "tags": []
   },
   "source": [
    "#### Как на самом деле надо"
   ]
  },
  {
   "cell_type": "code",
   "execution_count": 5,
   "metadata": {
    "collapsed": true,
    "jupyter": {
     "outputs_hidden": true
    },
    "pycharm": {
     "name": "#%%\n"
    },
    "slideshow": {
     "slide_type": "-"
    },
    "tags": []
   },
   "outputs": [
    {
     "data": {
      "text/plain": [
       "{'a': int, 'return': NoneType}"
      ]
     },
     "execution_count": 5,
     "metadata": {},
     "output_type": "execute_result"
    }
   ],
   "source": [
    "import typing\n",
    "\n",
    "def f(a: int) -> None:\n",
    "    pass\n",
    "\n",
    "typing.get_type_hints(f)"
   ]
  },
  {
   "cell_type": "markdown",
   "metadata": {
    "slideshow": {
     "slide_type": "slide"
    },
    "tags": []
   },
   "source": [
    "### Хорошо, тайпинги функций я сам задавал, я их знаю, а что переменные?"
   ]
  },
  {
   "cell_type": "code",
   "execution_count": 6,
   "metadata": {
    "collapsed": true,
    "jupyter": {
     "outputs_hidden": true
    },
    "scrolled": true,
    "slideshow": {
     "slide_type": "-"
    },
    "tags": []
   },
   "outputs": [
    {
     "ename": "AttributeError",
     "evalue": "'list' object has no attribute '__annotations__'",
     "output_type": "error",
     "traceback": [
      "\u001b[0;31m---------------------------------------------------------------------------\u001b[0m",
      "\u001b[0;31mAttributeError\u001b[0m                            Traceback (most recent call last)",
      "Cell \u001b[0;32mIn[6], line 2\u001b[0m\n\u001b[1;32m      1\u001b[0m lst: \u001b[38;5;28mlist\u001b[39m[\u001b[38;5;28mint\u001b[39m] \u001b[38;5;241m=\u001b[39m [\u001b[38;5;241m1\u001b[39m, \u001b[38;5;241m2\u001b[39m, \u001b[38;5;241m3\u001b[39m]\n\u001b[0;32m----> 2\u001b[0m \u001b[43mlst\u001b[49m\u001b[38;5;241;43m.\u001b[39;49m\u001b[38;5;18;43m__annotations__\u001b[39;49m\n",
      "\u001b[0;31mAttributeError\u001b[0m: 'list' object has no attribute '__annotations__'"
     ]
    }
   ],
   "source": [
    "lst: list[int] = [1, 2, 3]\n",
    "lst.__annotations__"
   ]
  },
  {
   "cell_type": "code",
   "execution_count": 7,
   "metadata": {
    "collapsed": true,
    "jupyter": {
     "outputs_hidden": true
    },
    "slideshow": {
     "slide_type": "-"
    },
    "tags": []
   },
   "outputs": [
    {
     "ename": "TypeError",
     "evalue": "[1, 2, 3] is not a module, class, method, or function.",
     "output_type": "error",
     "traceback": [
      "\u001b[0;31m---------------------------------------------------------------------------\u001b[0m",
      "\u001b[0;31mTypeError\u001b[0m                                 Traceback (most recent call last)",
      "Cell \u001b[0;32mIn[7], line 2\u001b[0m\n\u001b[1;32m      1\u001b[0m \u001b[38;5;28;01mimport\u001b[39;00m \u001b[38;5;21;01mtyping\u001b[39;00m\n\u001b[0;32m----> 2\u001b[0m \u001b[43mtyping\u001b[49m\u001b[38;5;241;43m.\u001b[39;49m\u001b[43mget_type_hints\u001b[49m\u001b[43m(\u001b[49m\u001b[43mlst\u001b[49m\u001b[43m)\u001b[49m\n",
      "File \u001b[0;32m~/.pyenv/versions/3.12.5/lib/python3.12/typing.py:2295\u001b[0m, in \u001b[0;36mget_type_hints\u001b[0;34m(obj, globalns, localns, include_extras)\u001b[0m\n\u001b[1;32m   2293\u001b[0m         \u001b[38;5;28;01mreturn\u001b[39;00m {}\n\u001b[1;32m   2294\u001b[0m     \u001b[38;5;28;01melse\u001b[39;00m:\n\u001b[0;32m-> 2295\u001b[0m         \u001b[38;5;28;01mraise\u001b[39;00m \u001b[38;5;167;01mTypeError\u001b[39;00m(\u001b[38;5;124m'\u001b[39m\u001b[38;5;132;01m{!r}\u001b[39;00m\u001b[38;5;124m is not a module, class, method, \u001b[39m\u001b[38;5;124m'\u001b[39m\n\u001b[1;32m   2296\u001b[0m                         \u001b[38;5;124m'\u001b[39m\u001b[38;5;124mor function.\u001b[39m\u001b[38;5;124m'\u001b[39m\u001b[38;5;241m.\u001b[39mformat(obj))\n\u001b[1;32m   2297\u001b[0m hints \u001b[38;5;241m=\u001b[39m \u001b[38;5;28mdict\u001b[39m(hints)\n\u001b[1;32m   2298\u001b[0m type_params \u001b[38;5;241m=\u001b[39m \u001b[38;5;28mgetattr\u001b[39m(obj, \u001b[38;5;124m\"\u001b[39m\u001b[38;5;124m__type_params__\u001b[39m\u001b[38;5;124m\"\u001b[39m, ())\n",
      "\u001b[0;31mTypeError\u001b[0m: [1, 2, 3] is not a module, class, method, or function."
     ]
    }
   ],
   "source": [
    "import typing\n",
    "typing.get_type_hints(lst)"
   ]
  },
  {
   "cell_type": "code",
   "execution_count": 8,
   "metadata": {
    "collapsed": true,
    "jupyter": {
     "outputs_hidden": true
    },
    "scrolled": true,
    "slideshow": {
     "slide_type": "-"
    },
    "tags": []
   },
   "outputs": [
    {
     "name": "stdout",
     "output_type": "stream",
     "text": [
      "<string>:3: \u001b[34mnote:\u001b[m Revealed type is \u001b[m\u001b[1m\"builtins.list[builtins.int]\"\u001b[m\u001b[m\n",
      "\u001b[1m\u001b[32mSuccess: no issues found in 1 source file\u001b[m\n",
      "\n"
     ]
    }
   ],
   "source": [
    "%%typecheck\n",
    "lst: list[int] = [1, 2, 3]\n",
    "reveal_type(lst)"
   ]
  },
  {
   "cell_type": "code",
   "execution_count": 9,
   "metadata": {
    "collapsed": true,
    "jupyter": {
     "outputs_hidden": true
    },
    "scrolled": true,
    "slideshow": {
     "slide_type": "-"
    },
    "tags": []
   },
   "outputs": [
    {
     "ename": "NameError",
     "evalue": "name 'reveal_type' is not defined",
     "output_type": "error",
     "traceback": [
      "\u001b[0;31m---------------------------------------------------------------------------\u001b[0m",
      "\u001b[0;31mNameError\u001b[0m                                 Traceback (most recent call last)",
      "Cell \u001b[0;32mIn[9], line 3\u001b[0m\n\u001b[1;32m      1\u001b[0m \u001b[38;5;66;03m# но в рантайме так не сработает\u001b[39;00m\n\u001b[1;32m      2\u001b[0m lst: \u001b[38;5;28mlist\u001b[39m[\u001b[38;5;28mint\u001b[39m] \u001b[38;5;241m=\u001b[39m [\u001b[38;5;241m1\u001b[39m, \u001b[38;5;241m2\u001b[39m, \u001b[38;5;241m3\u001b[39m]\n\u001b[0;32m----> 3\u001b[0m \u001b[43mreveal_type\u001b[49m(lst)\n",
      "\u001b[0;31mNameError\u001b[0m: name 'reveal_type' is not defined"
     ]
    }
   ],
   "source": [
    "# но в рантайме так не сработает\n",
    "lst: list[int] = [1, 2, 3]\n",
    "reveal_type(lst)"
   ]
  },
  {
   "cell_type": "code",
   "execution_count": 10,
   "metadata": {
    "collapsed": true,
    "jupyter": {
     "outputs_hidden": true
    },
    "slideshow": {
     "slide_type": ""
    },
    "tags": []
   },
   "outputs": [
    {
     "name": "stderr",
     "output_type": "stream",
     "text": [
      "Runtime type is 'list'\n"
     ]
    },
    {
     "data": {
      "text/plain": [
       "[1, 2, 3]"
      ]
     },
     "execution_count": 10,
     "metadata": {},
     "output_type": "execute_result"
    }
   ],
   "source": [
    "import typing\n",
    "\n",
    "lst: list[int] = [1, 2, 3]\n",
    "typing.reveal_type(lst)  # с питона 3.11"
   ]
  },
  {
   "cell_type": "code",
   "execution_count": 11,
   "metadata": {
    "collapsed": true,
    "jupyter": {
     "outputs_hidden": true
    }
   },
   "outputs": [
    {
     "data": {
      "text/plain": [
       "list"
      ]
     },
     "execution_count": 11,
     "metadata": {},
     "output_type": "execute_result"
    }
   ],
   "source": [
    "type(lst)"
   ]
  },
  {
   "cell_type": "code",
   "execution_count": 12,
   "metadata": {
    "collapsed": true,
    "jupyter": {
     "outputs_hidden": true
    }
   },
   "outputs": [
    {
     "name": "stdout",
     "output_type": "stream",
     "text": [
      "<string>:5: \u001b[34mnote:\u001b[m Revealed type is \u001b[m\u001b[1m\"builtins.list[builtins.int]\"\u001b[m\u001b[m\n",
      "\u001b[1m\u001b[32mSuccess: no issues found in 1 source file\u001b[m\n",
      "\n"
     ]
    }
   ],
   "source": [
    "%%typecheck\n",
    "import typing\n",
    "\n",
    "lst: list[int] = [1, 2, 3]\n",
    "typing.reveal_type(lst)  # с питона 3.11\n"
   ]
  },
  {
   "cell_type": "markdown",
   "metadata": {},
   "source": [
    "### Типы в рантайме и тайпхинты - разные вещи, и это нормально!"
   ]
  },
  {
   "cell_type": "markdown",
   "metadata": {},
   "source": [
    "<center><img src=\"images/fred_mask.jpg\" width=500px/></center>"
   ]
  },
  {
   "cell_type": "markdown",
   "metadata": {
    "pycharm": {
     "name": "#%% md\n"
    },
    "slideshow": {
     "slide_type": "slide"
    },
    "tags": []
   },
   "source": [
    "### Как работает проверка типов?"
   ]
  },
  {
   "cell_type": "markdown",
   "metadata": {
    "pycharm": {
     "name": "#%% md\n"
    },
    "slideshow": {
     "slide_type": "-"
    },
    "tags": []
   },
   "source": [
    "- типы проверяются не по реальному рантайм типу объекта, а <b>по значению тайпхинта</b>\n",
    "- когда происходит присвоение переменной/биндинг аргумента функции, mypy проверяет, что передан подтип типа переменной/параметра\n",
    "- если тип переменной не указан, тип переменной выводится по самому узкому возможному типу\n",
    "- когда объявляется класс-наследник, mypy проверяет что наследник, действительно, является подтипом родителя\n"
   ]
  },
  {
   "cell_type": "markdown",
   "metadata": {
    "pycharm": {
     "name": "#%% md\n"
    },
    "slideshow": {
     "slide_type": "-"
    },
    "tags": []
   },
   "source": [
    "Определение подтипа:\n",
    "* ∀ A: A -> A\n",
    "* A -> B  =>  A.values ⊇ B.values\n",
    "* A -> B  =>  A.functions ⊆ B.functions\n",
    "\n",
    "\\* логика такова, что в переменную a типа А можно положить объект любого его подтипа, и код, предполагающий что `a` имеет тип `A`, не сломается\n"
   ]
  },
  {
   "cell_type": "markdown",
   "metadata": {
    "pycharm": {
     "name": "#%% md\n"
    },
    "slideshow": {
     "slide_type": "slide"
    },
    "tags": []
   },
   "source": [
    "### А можно не все-все типизировать? Gradual typing"
   ]
  },
  {
   "cell_type": "markdown",
   "metadata": {
    "pycharm": {
     "name": "#%% md\n"
    },
    "slideshow": {
     "slide_type": "-"
    },
    "tags": []
   },
   "source": [
    "Концепция, которая позволяет части программы быть динамически типизирована, а части - статически. Но есть нюанс"
   ]
  },
  {
   "cell_type": "markdown",
   "metadata": {
    "slideshow": {
     "slide_type": "-"
    },
    "tags": []
   },
   "source": [
    "<center><img src=\"images/merged_pill.jpg\" width=700px/></center>"
   ]
  },
  {
   "cell_type": "markdown",
   "metadata": {
    "pycharm": {
     "name": "#%% md\n"
    },
    "slideshow": {
     "slide_type": "-"
    },
    "tags": []
   },
   "source": [
    "Если тип чего-либо не указан, то этому объекту автоматически присваивается специальный тип Any. Any имеет свойства, которые можно интерпретировать как то, что Any является подтипом любого типа\n",
    "\n",
    "* A -> B => A ~> B\n",
    "* ∀ A: Any ~> A\n",
    "* ∀ A: A ~> Any  \n"
   ]
  },
  {
   "cell_type": "markdown",
   "metadata": {
    "pycharm": {
     "name": "#%% md\n"
    },
    "slideshow": {
     "slide_type": "slide"
    },
    "tags": []
   },
   "source": [
    "### Насколько плохо не указывать часть типов, ч1"
   ]
  },
  {
   "cell_type": "code",
   "execution_count": 13,
   "metadata": {
    "cell_style": "split",
    "collapsed": true,
    "jupyter": {
     "outputs_hidden": true
    },
    "pycharm": {
     "name": "#%%\n"
    },
    "slideshow": {
     "slide_type": "-"
    },
    "tags": []
   },
   "outputs": [
    {
     "name": "stdout",
     "output_type": "stream",
     "text": [
      "<string>:4: \u001b[34mnote:\u001b[m Revealed type is \u001b[m\u001b[1m\"builtins.int\"\u001b[m\u001b[m\n",
      "<string>:9: \u001b[34mnote:\u001b[m Revealed type is \u001b[m\u001b[1m\"builtins.float\"\u001b[m\u001b[m\n",
      "<string>:10: \u001b[1m\u001b[31merror:\u001b[m Argument 1 to \u001b[m\u001b[1m\"f\"\u001b[m has incompatible type \u001b[m\u001b[1m\"float\"\u001b[m; expected \u001b[m\u001b[1m\"int\"\u001b[m  \u001b[m\u001b[33m[arg-type]\u001b[m\n",
      "\u001b[1m\u001b[31mFound 1 error in 1 file (checked 1 source file)\u001b[m\n",
      "\n"
     ]
    }
   ],
   "source": [
    "%%typecheck\n",
    "# Задаем все типы\n",
    "def f(a: int) -> None:\n",
    "    reveal_type(a)\n",
    "    print(a << 10)\n",
    "\n",
    "def g() -> None:\n",
    "    b = 1.0             \n",
    "    reveal_type(b)\n",
    "    f(b)"
   ]
  },
  {
   "cell_type": "code",
   "execution_count": 14,
   "metadata": {
    "cell_style": "split",
    "collapsed": true,
    "jupyter": {
     "outputs_hidden": true
    },
    "pycharm": {
     "name": "#%%\n"
    },
    "scrolled": true,
    "slideshow": {
     "slide_type": "-"
    },
    "tags": []
   },
   "outputs": [
    {
     "name": "stdout",
     "output_type": "stream",
     "text": [
      "<string>:3: \u001b[1m\u001b[31merror:\u001b[m Function is missing a type annotation  \u001b[m\u001b[33m[no-untyped-def]\u001b[m\n",
      "<string>:4: \u001b[34mnote:\u001b[m By default the bodies of untyped functions are not checked, consider using --check-untyped-defs  [annotation-unchecked]\u001b[m\n",
      "<string>:5: \u001b[34mnote:\u001b[m Revealed type is \u001b[m\u001b[1m\"Any\"\u001b[m\u001b[m\n",
      "<string>:5: \u001b[34mnote:\u001b[m 'reveal_type' always outputs 'Any' in unchecked functions\u001b[m\n",
      "<string>:6: \u001b[34mnote:\u001b[m Revealed type is \u001b[m\u001b[1m\"Any\"\u001b[m\u001b[m\n",
      "<string>:6: \u001b[34mnote:\u001b[m 'reveal_type' always outputs 'Any' in unchecked functions\u001b[m\n",
      "<string>:11: \u001b[34mnote:\u001b[m Revealed type is \u001b[m\u001b[1m\"builtins.float\"\u001b[m\u001b[m\n",
      "\u001b[1m\u001b[31mFound 1 error in 1 file (checked 1 source file)\u001b[m\n",
      "\n"
     ]
    }
   ],
   "source": [
    "%%typecheck\n",
    "# Не задаем типы в f\n",
    "def f(a):\n",
    "    c: int = a\n",
    "    reveal_type(a)\n",
    "    reveal_type(c)\n",
    "    print(a << 10)\n",
    "\n",
    "def g() -> None:\n",
    "    b = 1.0\n",
    "    reveal_type(b)\n",
    "    f(b)"
   ]
  },
  {
   "cell_type": "markdown",
   "metadata": {
    "pycharm": {
     "name": "#%% md\n"
    },
    "slideshow": {
     "slide_type": "slide"
    },
    "tags": []
   },
   "source": [
    "### Насколько плохо не указывать часть типов, ч2"
   ]
  },
  {
   "cell_type": "code",
   "execution_count": 15,
   "metadata": {
    "cell_style": "split",
    "collapsed": true,
    "jupyter": {
     "outputs_hidden": true
    },
    "pycharm": {
     "name": "#%%\n"
    },
    "slideshow": {
     "slide_type": "-"
    },
    "tags": []
   },
   "outputs": [
    {
     "name": "stdout",
     "output_type": "stream",
     "text": [
      "<string>:4: \u001b[34mnote:\u001b[m Revealed type is \u001b[m\u001b[1m\"builtins.int\"\u001b[m\u001b[m\n",
      "<string>:7: \u001b[1m\u001b[31merror:\u001b[m Function is missing a return type annotation  \u001b[m\u001b[33m[no-untyped-def]\u001b[m\n",
      "<string>:7: \u001b[34mnote:\u001b[m Use \u001b[m\u001b[1m\"-> None\"\u001b[m if function does not return a value\u001b[m\n",
      "<string>:9: \u001b[34mnote:\u001b[m Revealed type is \u001b[m\u001b[1m\"Any\"\u001b[m\u001b[m\n",
      "<string>:9: \u001b[34mnote:\u001b[m 'reveal_type' always outputs 'Any' in unchecked functions\u001b[m\n",
      "\u001b[1m\u001b[31mFound 1 error in 1 file (checked 1 source file)\u001b[m\n",
      "\n"
     ]
    }
   ],
   "source": [
    "%%typecheck\n",
    "# Не задаем типы в g\n",
    "def f(a: int) -> None:\n",
    "    reveal_type(a)\n",
    "    print(a << 10)\n",
    "\n",
    "def g():\n",
    "    b = 1.0\n",
    "    reveal_type(b)\n",
    "    f(b)"
   ]
  },
  {
   "cell_type": "code",
   "execution_count": 16,
   "metadata": {
    "cell_style": "split",
    "collapsed": true,
    "jupyter": {
     "outputs_hidden": true
    },
    "pycharm": {
     "name": "#%%\n"
    },
    "scrolled": true,
    "slideshow": {
     "slide_type": "-"
    },
    "tags": []
   },
   "outputs": [
    {
     "name": "stdout",
     "output_type": "stream",
     "text": [
      "<string>:3: \u001b[1m\u001b[31merror:\u001b[m Function is missing a type annotation for one or more arguments  \u001b[m\u001b[33m[no-untyped-def]\u001b[m\n",
      "<string>:4: \u001b[34mnote:\u001b[m Revealed type is \u001b[m\u001b[1m\"Any\"\u001b[m\u001b[m\n",
      "<string>:9: \u001b[34mnote:\u001b[m Revealed type is \u001b[m\u001b[1m\"builtins.float\"\u001b[m\u001b[m\n",
      "\u001b[1m\u001b[31mFound 1 error in 1 file (checked 1 source file)\u001b[m\n",
      "\n"
     ]
    }
   ],
   "source": [
    "%%typecheck\n",
    "# Задаем типы для f частично (без a)\n",
    "def f(a) -> None:\n",
    "    reveal_type(a)\n",
    "    print(a << 10)\n",
    "\n",
    "def g() -> None:\n",
    "    b = 1.0\n",
    "    reveal_type(b)\n",
    "    f(b) "
   ]
  },
  {
   "cell_type": "markdown",
   "metadata": {
    "pycharm": {
     "name": "#%% md\n"
    },
    "slideshow": {
     "slide_type": "slide"
    },
    "tags": []
   },
   "source": [
    "### Вывод типов при присваивании, ч1"
   ]
  },
  {
   "cell_type": "code",
   "execution_count": 17,
   "metadata": {
    "cell_style": "split",
    "collapsed": true,
    "jupyter": {
     "outputs_hidden": true
    },
    "pycharm": {
     "name": "#%%\n"
    },
    "slideshow": {
     "slide_type": "-"
    },
    "tags": []
   },
   "outputs": [
    {
     "name": "stdout",
     "output_type": "stream",
     "text": [
      "<string>:12: \u001b[34mnote:\u001b[m Revealed type is \u001b[m\u001b[1m\"__main__.B\"\u001b[m\u001b[m\n",
      "\u001b[1m\u001b[32mSuccess: no issues found in 1 source file\u001b[m\n",
      "\n"
     ]
    }
   ],
   "source": [
    "%%typecheck\n",
    "# Просто присваивание\n",
    "class A:\n",
    "    def am(self) -> None:\n",
    "        pass\n",
    "\n",
    "class B(A):\n",
    "    def bm(self) -> None:\n",
    "        pass\n",
    "\n",
    "b = B()\n",
    "reveal_type(b)\n",
    "\n",
    "b.bm()"
   ]
  },
  {
   "cell_type": "markdown",
   "metadata": {
    "slideshow": {
     "slide_type": "slide"
    },
    "tags": []
   },
   "source": [
    "### Вывод типов при присваивании, ч2"
   ]
  },
  {
   "cell_type": "code",
   "execution_count": 18,
   "metadata": {
    "cell_style": "split",
    "collapsed": true,
    "jupyter": {
     "outputs_hidden": true
    },
    "pycharm": {
     "name": "#%%\n"
    },
    "scrolled": true,
    "slideshow": {
     "slide_type": "-"
    },
    "tags": []
   },
   "outputs": [
    {
     "name": "stdout",
     "output_type": "stream",
     "text": [
      "<string>:12: \u001b[34mnote:\u001b[m Revealed type is \u001b[m\u001b[1m\"__main__.B\"\u001b[m\u001b[m\n",
      "<string>:13: \u001b[1m\u001b[31merror:\u001b[m Incompatible types in assignment (expression has type \u001b[m\u001b[1m\"A\"\u001b[m, variable has type \u001b[m\u001b[1m\"B\"\u001b[m)  \u001b[m\u001b[33m[assignment]\u001b[m\n",
      "<string>:14: \u001b[34mnote:\u001b[m Revealed type is \u001b[m\u001b[1m\"__main__.B\"\u001b[m\u001b[m\n",
      "\u001b[1m\u001b[31mFound 1 error in 1 file (checked 1 source file)\u001b[m\n",
      "\n"
     ]
    }
   ],
   "source": [
    "%%typecheck\n",
    "# Повышение типа при переприсваивании\n",
    "class A:\n",
    "    def am(self) -> None:\n",
    "        pass\n",
    "\n",
    "class B(A):\n",
    "    def bm(self) -> None:\n",
    "        pass\n",
    "\n",
    "b = B()\n",
    "reveal_type(b)\n",
    "b = A()\n",
    "reveal_type(b)\n",
    "b.bm()"
   ]
  },
  {
   "cell_type": "markdown",
   "metadata": {
    "pycharm": {
     "name": "#%% md\n"
    },
    "slideshow": {
     "slide_type": "slide"
    },
    "tags": []
   },
   "source": [
    "### Вывод типов при присваивании, ч3"
   ]
  },
  {
   "cell_type": "code",
   "execution_count": 19,
   "metadata": {
    "cell_style": "split",
    "collapsed": true,
    "jupyter": {
     "outputs_hidden": true
    },
    "pycharm": {
     "name": "#%%\n"
    },
    "slideshow": {
     "slide_type": "-"
    },
    "tags": []
   },
   "outputs": [
    {
     "name": "stdout",
     "output_type": "stream",
     "text": [
      "<string>:13: \u001b[34mnote:\u001b[m Revealed type is \u001b[m\u001b[1m\"__main__.A\"\u001b[m\u001b[m\n",
      "<string>:15: \u001b[34mnote:\u001b[m Revealed type is \u001b[m\u001b[1m\"__main__.B\"\u001b[m\u001b[m\n",
      "\u001b[1m\u001b[32mSuccess: no issues found in 1 source file\u001b[m\n",
      "\n"
     ]
    }
   ],
   "source": [
    "%%typecheck\n",
    "# Понижение типа при переприсваивании\n",
    "\n",
    "class A:\n",
    "    def am(self) -> None:\n",
    "        pass\n",
    "\n",
    "class B(A):\n",
    "    def bm(self) -> None:\n",
    "        pass\n",
    "\n",
    "a = A()\n",
    "reveal_type(a)\n",
    "a = B()\n",
    "reveal_type(a)\n",
    "#a.am()\n",
    "a.bm()\n"
   ]
  },
  {
   "cell_type": "markdown",
   "metadata": {
    "slideshow": {
     "slide_type": "slide"
    },
    "tags": []
   },
   "source": [
    "### Вывод типов при присваивании, ч4"
   ]
  },
  {
   "cell_type": "code",
   "execution_count": 20,
   "metadata": {
    "collapsed": true,
    "jupyter": {
     "outputs_hidden": true
    },
    "scrolled": true,
    "slideshow": {
     "slide_type": ""
    },
    "tags": []
   },
   "outputs": [
    {
     "name": "stdout",
     "output_type": "stream",
     "text": [
      "<string>:13: \u001b[34mnote:\u001b[m Revealed type is \u001b[m\u001b[1m\"__main__.A\"\u001b[m\u001b[m\n",
      "<string>:15: \u001b[34mnote:\u001b[m Revealed type is \u001b[m\u001b[1m\"__main__.B\"\u001b[m\u001b[m\n",
      "<string>:17: \u001b[34mnote:\u001b[m Revealed type is \u001b[m\u001b[1m\"__main__.A\"\u001b[m\u001b[m\n",
      "<string>:19: \u001b[1m\u001b[31merror:\u001b[m \u001b[m\u001b[1m\"A\"\u001b[m has no attribute \u001b[m\u001b[1m\"bm\"\u001b[m  \u001b[m\u001b[33m[attr-defined]\u001b[m\n",
      "\u001b[1m\u001b[31mFound 1 error in 1 file (checked 1 source file)\u001b[m\n",
      "\n"
     ]
    }
   ],
   "source": [
    "%%typecheck\n",
    "# Понижение типа при переприсваивании и потом повышение\n",
    "\n",
    "class A:\n",
    "    def am(self) -> None:\n",
    "        pass\n",
    "\n",
    "class B(A):\n",
    "    def bm(self) -> None:\n",
    "        pass\n",
    "\n",
    "a = A()\n",
    "reveal_type(a)\n",
    "a = B()\n",
    "reveal_type(a)\n",
    "a = A()\n",
    "reveal_type(a)\n",
    "#a.am()\n",
    "a.bm()\n"
   ]
  },
  {
   "cell_type": "markdown",
   "metadata": {
    "slideshow": {
     "slide_type": "slide"
    },
    "tags": []
   },
   "source": [
    "### Вывод типов при присваивании, ч5"
   ]
  },
  {
   "cell_type": "code",
   "execution_count": 21,
   "metadata": {
    "cell_style": "split",
    "collapsed": true,
    "jupyter": {
     "outputs_hidden": true
    },
    "pycharm": {
     "name": "#%%\n"
    },
    "slideshow": {
     "slide_type": "-"
    },
    "tags": []
   },
   "outputs": [
    {
     "name": "stdout",
     "output_type": "stream",
     "text": [
      "<string>:13: \u001b[34mnote:\u001b[m Revealed type is \u001b[m\u001b[1m\"__main__.A\"\u001b[m\u001b[m\n",
      "<string>:15: \u001b[1m\u001b[31merror:\u001b[m \u001b[m\u001b[1m\"A\"\u001b[m has no attribute \u001b[m\u001b[1m\"bm\"\u001b[m  \u001b[m\u001b[33m[attr-defined]\u001b[m\n",
      "<string>:18: \u001b[34mnote:\u001b[m Revealed type is \u001b[m\u001b[1m\"__main__.A\"\u001b[m\u001b[m\n",
      "\u001b[1m\u001b[31mFound 1 error in 1 file (checked 1 source file)\u001b[m\n",
      "\n"
     ]
    }
   ],
   "source": [
    "%%typecheck\n",
    "# Задание сразу более общего типа\n",
    "\n",
    "class A:\n",
    "    def am(self) -> None:\n",
    "        pass\n",
    "\n",
    "class B(A):\n",
    "    def bm(self) -> None:\n",
    "        pass\n",
    "\n",
    "a: A = B()\n",
    "reveal_type(a)\n",
    "\n",
    "a.bm()\n",
    "\n",
    "a = A()\n",
    "reveal_type(a)\n"
   ]
  },
  {
   "cell_type": "markdown",
   "metadata": {
    "pycharm": {
     "name": "#%% md\n"
    },
    "slideshow": {
     "slide_type": "slide"
    },
    "tags": []
   },
   "source": [
    "### То же самое для стандартных типов"
   ]
  },
  {
   "cell_type": "code",
   "execution_count": 22,
   "metadata": {
    "cell_style": "split",
    "collapsed": true,
    "jupyter": {
     "outputs_hidden": true
    },
    "pycharm": {
     "name": "#%%\n"
    },
    "slideshow": {
     "slide_type": "-"
    },
    "tags": []
   },
   "outputs": [
    {
     "name": "stdout",
     "output_type": "stream",
     "text": [
      "<string>:4: \u001b[34mnote:\u001b[m Revealed type is \u001b[m\u001b[1m\"builtins.float\"\u001b[m\u001b[m\n",
      "<string>:6: \u001b[34mnote:\u001b[m Revealed type is \u001b[m\u001b[1m\"builtins.int\"\u001b[m\u001b[m\n",
      "\u001b[1m\u001b[32mSuccess: no issues found in 1 source file\u001b[m\n",
      "\n"
     ]
    }
   ],
   "source": [
    "%%typecheck\n",
    "# Понижение типа при переприсваивании\n",
    "a = 42.4\n",
    "reveal_type(a)\n",
    "a = 1\n",
    "reveal_type(a)\n",
    "\n",
    "a >> 10\n"
   ]
  },
  {
   "cell_type": "code",
   "execution_count": 23,
   "metadata": {
    "cell_style": "split",
    "collapsed": true,
    "jupyter": {
     "outputs_hidden": true
    },
    "pycharm": {
     "name": "#%%\n"
    },
    "scrolled": true,
    "slideshow": {
     "slide_type": "-"
    },
    "tags": []
   },
   "outputs": [
    {
     "name": "stdout",
     "output_type": "stream",
     "text": [
      "<string>:4: \u001b[34mnote:\u001b[m Revealed type is \u001b[m\u001b[1m\"builtins.int\"\u001b[m\u001b[m\n",
      "<string>:5: \u001b[1m\u001b[31merror:\u001b[m Incompatible types in assignment (expression has type \u001b[m\u001b[1m\"float\"\u001b[m, variable has type \u001b[m\u001b[1m\"int\"\u001b[m)  \u001b[m\u001b[33m[assignment]\u001b[m\n",
      "<string>:6: \u001b[34mnote:\u001b[m Revealed type is \u001b[m\u001b[1m\"builtins.int\"\u001b[m\u001b[m\n",
      "\u001b[1m\u001b[31mFound 1 error in 1 file (checked 1 source file)\u001b[m\n",
      "\n"
     ]
    }
   ],
   "source": [
    "%%typecheck\n",
    "# Повышение типа при переприсваивании\n",
    "b = 1\n",
    "reveal_type(b)\n",
    "b = 42.4\n",
    "reveal_type(b)\n",
    "\n",
    "b >> 10"
   ]
  },
  {
   "cell_type": "markdown",
   "metadata": {
    "pycharm": {
     "name": "#%% md\n"
    },
    "slideshow": {
     "slide_type": "slide"
    },
    "tags": []
   },
   "source": [
    "### Вызов функций, ч1"
   ]
  },
  {
   "cell_type": "code",
   "execution_count": 24,
   "metadata": {
    "cell_style": "split",
    "collapsed": true,
    "jupyter": {
     "outputs_hidden": true
    },
    "pycharm": {
     "name": "#%%\n"
    },
    "scrolled": true,
    "slideshow": {
     "slide_type": "-"
    },
    "tags": []
   },
   "outputs": [
    {
     "name": "stdout",
     "output_type": "stream",
     "text": [
      "<string>:18: \u001b[1m\u001b[31merror:\u001b[m Argument 1 to \u001b[m\u001b[1m\"f\"\u001b[m has incompatible type \u001b[m\u001b[1m\"A\"\u001b[m; expected \u001b[m\u001b[1m\"B\"\u001b[m  \u001b[m\u001b[33m[arg-type]\u001b[m\n",
      "\u001b[1m\u001b[31mFound 1 error in 1 file (checked 1 source file)\u001b[m\n",
      "\n"
     ]
    }
   ],
   "source": [
    "%%typecheck\n",
    "# Конкретный тип как параметр функции\n",
    "# Вызов метода конкретного типа\n",
    "\n",
    "class A:\n",
    "    def am(self) -> None:\n",
    "        pass\n",
    "\n",
    "class B(A):\n",
    "    def bm(self) -> None:\n",
    "        pass\n",
    "\n",
    "\n",
    "def f(value: B) -> None:\n",
    "    value.bm()\n",
    "\n",
    "f(B())\n",
    "f(A())"
   ]
  },
  {
   "cell_type": "markdown",
   "metadata": {
    "slideshow": {
     "slide_type": "slide"
    },
    "tags": []
   },
   "source": [
    "### Вызов функций, ч2"
   ]
  },
  {
   "cell_type": "code",
   "execution_count": 25,
   "metadata": {
    "cell_style": "split",
    "collapsed": true,
    "jupyter": {
     "outputs_hidden": true
    },
    "pycharm": {
     "name": "#%%\n"
    },
    "scrolled": true,
    "slideshow": {
     "slide_type": "-"
    },
    "tags": []
   },
   "outputs": [
    {
     "name": "stdout",
     "output_type": "stream",
     "text": [
      "<string>:18: \u001b[1m\u001b[31merror:\u001b[m Argument 1 to \u001b[m\u001b[1m\"f\"\u001b[m has incompatible type \u001b[m\u001b[1m\"A\"\u001b[m; expected \u001b[m\u001b[1m\"B\"\u001b[m  \u001b[m\u001b[33m[arg-type]\u001b[m\n",
      "\u001b[1m\u001b[31mFound 1 error in 1 file (checked 1 source file)\u001b[m\n",
      "\n"
     ]
    }
   ],
   "source": [
    "%%typecheck\n",
    "# Конкретный тип как параметр функции\n",
    "# Вызов метода общего типа\n",
    "\n",
    "class A:\n",
    "    def am(self) -> None:\n",
    "        pass\n",
    "\n",
    "class B(A):\n",
    "    def bm(self) -> None:\n",
    "        pass\n",
    "\n",
    "\n",
    "def f(value: B) -> None:\n",
    "    value.am()\n",
    "\n",
    "f(B())\n",
    "f(A())"
   ]
  },
  {
   "cell_type": "markdown",
   "metadata": {
    "pycharm": {
     "name": "#%% md\n"
    },
    "slideshow": {
     "slide_type": "slide"
    },
    "tags": []
   },
   "source": [
    "### Вызов функций, ч3"
   ]
  },
  {
   "cell_type": "code",
   "execution_count": 26,
   "metadata": {
    "cell_style": "split",
    "collapsed": true,
    "jupyter": {
     "outputs_hidden": true
    },
    "pycharm": {
     "name": "#%%\n"
    },
    "scrolled": true,
    "slideshow": {
     "slide_type": "-"
    },
    "tags": []
   },
   "outputs": [
    {
     "name": "stdout",
     "output_type": "stream",
     "text": [
      "<string>:15: \u001b[1m\u001b[31merror:\u001b[m \u001b[m\u001b[1m\"A\"\u001b[m has no attribute \u001b[m\u001b[1m\"bm\"\u001b[m  \u001b[m\u001b[33m[attr-defined]\u001b[m\n",
      "\u001b[1m\u001b[31mFound 1 error in 1 file (checked 1 source file)\u001b[m\n",
      "\n"
     ]
    }
   ],
   "source": [
    "%%typecheck\n",
    "# Общий тип как параметр функции\n",
    "# Вызов метода конкретного типа\n",
    "\n",
    "class A:\n",
    "    def am(self) -> None:\n",
    "        pass\n",
    "\n",
    "class B(A):\n",
    "    def bm(self) -> None:\n",
    "        pass\n",
    "\n",
    "\n",
    "def f(value: A) -> None:\n",
    "    value.bm()\n",
    "\n",
    "f(B())\n",
    "f(A())"
   ]
  },
  {
   "cell_type": "markdown",
   "metadata": {
    "slideshow": {
     "slide_type": "slide"
    },
    "tags": []
   },
   "source": [
    "### Вызов функций, ч4"
   ]
  },
  {
   "cell_type": "code",
   "execution_count": 27,
   "metadata": {
    "cell_style": "split",
    "collapsed": true,
    "jupyter": {
     "outputs_hidden": true
    },
    "pycharm": {
     "name": "#%%\n"
    },
    "scrolled": true,
    "slideshow": {
     "slide_type": "-"
    },
    "tags": []
   },
   "outputs": [
    {
     "name": "stdout",
     "output_type": "stream",
     "text": [
      "<string>:15: \u001b[34mnote:\u001b[m Revealed type is \u001b[m\u001b[1m\"__main__.A\"\u001b[m\u001b[m\n",
      "\u001b[1m\u001b[32mSuccess: no issues found in 1 source file\u001b[m\n",
      "\n"
     ]
    }
   ],
   "source": [
    "%%typecheck\n",
    "# Общий тип как параметр функции\n",
    "# Вызов метода общего типа\n",
    "\n",
    "class A:\n",
    "    def am(self) -> None:\n",
    "        pass\n",
    "\n",
    "class B(A):\n",
    "    def bm(self) -> None:\n",
    "        pass\n",
    "\n",
    "\n",
    "def f(value: A) -> None:\n",
    "    reveal_type(value)\n",
    "    value.am()\n",
    "\n",
    "f(B())\n",
    "f(A())"
   ]
  },
  {
   "cell_type": "markdown",
   "metadata": {
    "pycharm": {
     "name": "#%% md\n"
    },
    "slideshow": {
     "slide_type": "slide"
    },
    "tags": []
   },
   "source": [
    "### Наследование, атрибуты класса, ч1"
   ]
  },
  {
   "cell_type": "code",
   "execution_count": 28,
   "metadata": {
    "cell_style": "split",
    "collapsed": true,
    "jupyter": {
     "outputs_hidden": true
    },
    "pycharm": {
     "name": "#%%\n"
    },
    "scrolled": true,
    "slideshow": {
     "slide_type": "-"
    },
    "tags": []
   },
   "outputs": [
    {
     "name": "stdout",
     "output_type": "stream",
     "text": [
      "<string>:8: \u001b[1m\u001b[31merror:\u001b[m Incompatible types in assignment (expression has type \u001b[m\u001b[1m\"float\"\u001b[m, base class \u001b[m\u001b[1m\"A\"\u001b[m defined the type as \u001b[m\u001b[1m\"int\"\u001b[m)  \u001b[m\u001b[33m[assignment]\u001b[m\n",
      "\u001b[1m\u001b[31mFound 1 error in 1 file (checked 1 source file)\u001b[m\n",
      "\n"
     ]
    }
   ],
   "source": [
    "%%typecheck\n",
    "# Override c повышением типа\n",
    "\n",
    "class A:\n",
    "    VALUE = 4\n",
    "\n",
    "class B(A):\n",
    "    VALUE = 4.5\n",
    "    \n",
    "\n",
    "def f(p: A) -> None:\n",
    "    print(p.VALUE >> 1)\n",
    "    \n",
    "f(A())\n",
    "f(B())"
   ]
  },
  {
   "cell_type": "markdown",
   "metadata": {
    "slideshow": {
     "slide_type": "slide"
    },
    "tags": []
   },
   "source": [
    "### Наследование, атрибуты класса, ч2"
   ]
  },
  {
   "cell_type": "code",
   "execution_count": 29,
   "metadata": {
    "cell_style": "split",
    "collapsed": true,
    "jupyter": {
     "outputs_hidden": true
    },
    "pycharm": {
     "name": "#%%\n"
    },
    "scrolled": true,
    "slideshow": {
     "slide_type": "-"
    },
    "tags": []
   },
   "outputs": [
    {
     "name": "stdout",
     "output_type": "stream",
     "text": [
      "\u001b[1m\u001b[32mSuccess: no issues found in 1 source file\u001b[m\n",
      "\n"
     ]
    }
   ],
   "source": [
    "%%typecheck\n",
    "# Override c понижением типа\n",
    "\n",
    "class A:\n",
    "    VALUE = 4.5\n",
    "\n",
    "class B(A):\n",
    "    VALUE = 4\n",
    "    \n",
    "\n",
    "def f(p: A) -> None:\n",
    "    print(p.VALUE + 1)\n",
    "    \n",
    "f(A())\n",
    "f(B())"
   ]
  },
  {
   "cell_type": "markdown",
   "metadata": {
    "pycharm": {
     "name": "#%% md\n"
    },
    "slideshow": {
     "slide_type": "slide"
    },
    "tags": []
   },
   "source": [
    "### Наследование, атрибуты объекта"
   ]
  },
  {
   "cell_type": "code",
   "execution_count": 30,
   "metadata": {
    "cell_style": "split",
    "collapsed": true,
    "jupyter": {
     "outputs_hidden": true
    },
    "pycharm": {
     "name": "#%%\n"
    },
    "scrolled": true,
    "slideshow": {
     "slide_type": "-"
    },
    "tags": []
   },
   "outputs": [
    {
     "name": "stdout",
     "output_type": "stream",
     "text": [
      "<string>:10: \u001b[1m\u001b[31merror:\u001b[m Incompatible types in assignment (expression has type \u001b[m\u001b[1m\"float\"\u001b[m, variable has type \u001b[m\u001b[1m\"int\"\u001b[m)  \u001b[m\u001b[33m[assignment]\u001b[m\n",
      "\u001b[1m\u001b[31mFound 1 error in 1 file (checked 1 source file)\u001b[m\n",
      "\n"
     ]
    }
   ],
   "source": [
    "%%typecheck\n",
    "# Override c повышением типа\n",
    "\n",
    "class A:\n",
    "    def __init__(self) -> None:\n",
    "        self.a = 1\n",
    "\n",
    "class B(A):\n",
    "    def __init__(self) -> None:\n",
    "        self.a = 4.5\n",
    "\n",
    "        \n",
    "def f(p: A) -> None:\n",
    "    print(p.a >> 5)\n",
    "    \n",
    "f(A())\n",
    "f(B())"
   ]
  },
  {
   "cell_type": "code",
   "execution_count": 31,
   "metadata": {
    "cell_style": "split",
    "collapsed": true,
    "jupyter": {
     "outputs_hidden": true
    },
    "pycharm": {
     "name": "#%%\n"
    },
    "slideshow": {
     "slide_type": "-"
    },
    "tags": []
   },
   "outputs": [
    {
     "name": "stdout",
     "output_type": "stream",
     "text": [
      "\u001b[1m\u001b[32mSuccess: no issues found in 1 source file\u001b[m\n",
      "\n"
     ]
    }
   ],
   "source": [
    "%%typecheck\n",
    "# Override c понижением типа\n",
    "\n",
    "class A:\n",
    "    def __init__(self) -> None:\n",
    "        self.a = 4.5\n",
    "\n",
    "class B(A):\n",
    "    def __init__(self) -> None:\n",
    "        self.a = 1\n",
    "\n",
    "        \n",
    "def f(p: A) -> None:\n",
    "    print(p.a + 1)\n",
    "    \n",
    "f(A())\n",
    "f(B())"
   ]
  },
  {
   "cell_type": "markdown",
   "metadata": {
    "pycharm": {
     "name": "#%% md\n"
    },
    "slideshow": {
     "slide_type": "slide"
    },
    "tags": []
   },
   "source": [
    "### Наследование, переопределение методов, ч1"
   ]
  },
  {
   "cell_type": "code",
   "execution_count": 32,
   "metadata": {
    "cell_style": "split",
    "collapsed": true,
    "jupyter": {
     "outputs_hidden": true
    },
    "pycharm": {
     "name": "#%%\n"
    },
    "slideshow": {
     "slide_type": "-"
    },
    "tags": []
   },
   "outputs": [
    {
     "name": "stdout",
     "output_type": "stream",
     "text": [
      "<string>:9: \u001b[1m\u001b[31merror:\u001b[m Argument 1 of \u001b[m\u001b[1m\"am\"\u001b[m is incompatible with supertype \u001b[m\u001b[1m\"A\"\u001b[m; supertype defines the argument type as \u001b[m\u001b[1m\"float\"\u001b[m  \u001b[m\u001b[33m[override]\u001b[m\n",
      "<string>:9: \u001b[34mnote:\u001b[m This violates the Liskov substitution principle\u001b[m\n",
      "<string>:9: \u001b[34mnote:\u001b[m See \u001b[4mhttps://mypy.readthedocs.io/en/stable/common_issues.html#incompatible-overrides\u001b[m\u001b[m\n",
      "\u001b[1m\u001b[31mFound 1 error in 1 file (checked 1 source file)\u001b[m\n",
      "\n"
     ]
    }
   ],
   "source": [
    "%%typecheck\n",
    "# Override c понижением типа параметра\n",
    "\n",
    "class A:\n",
    "    def am(self, a: float) -> int:\n",
    "        return int(a)\n",
    "\n",
    "class B(A):\n",
    "    def am(self, a: int) -> int:\n",
    "        return a >> 1\n",
    "\n",
    "def f(p: A) -> None:\n",
    "    p.am(1.1)\n",
    "\n",
    "f(A())\n",
    "f(B())"
   ]
  },
  {
   "cell_type": "markdown",
   "metadata": {
    "slideshow": {
     "slide_type": "slide"
    },
    "tags": []
   },
   "source": [
    "### Наследование, переопределение методов, ч2"
   ]
  },
  {
   "cell_type": "code",
   "execution_count": 33,
   "metadata": {
    "cell_style": "split",
    "collapsed": true,
    "jupyter": {
     "outputs_hidden": true
    },
    "pycharm": {
     "name": "#%%\n"
    },
    "slideshow": {
     "slide_type": "-"
    },
    "tags": []
   },
   "outputs": [
    {
     "name": "stdout",
     "output_type": "stream",
     "text": [
      "\u001b[1m\u001b[32mSuccess: no issues found in 1 source file\u001b[m\n",
      "\n"
     ]
    }
   ],
   "source": [
    "%%typecheck\n",
    "# Override c повышением типа параметра\n",
    "\n",
    "class A:\n",
    "    def am(self, a: int) -> int:\n",
    "        return int(a)\n",
    "\n",
    "class B(A):\n",
    "    def am(self, a: float) -> int:\n",
    "        return int(a)\n",
    "\n",
    "\n",
    "def f(p: A) -> None:\n",
    "    p.am(1)\n",
    "\n",
    "f(A())\n",
    "f(B())"
   ]
  },
  {
   "cell_type": "markdown",
   "metadata": {
    "pycharm": {
     "name": "#%% md\n"
    },
    "slideshow": {
     "slide_type": "slide"
    },
    "tags": []
   },
   "source": [
    "### Наследование, переопределение методов, возвращаемое значение, ч1"
   ]
  },
  {
   "cell_type": "code",
   "execution_count": 34,
   "metadata": {
    "cell_style": "split",
    "collapsed": true,
    "jupyter": {
     "outputs_hidden": true
    },
    "pycharm": {
     "name": "#%%\n"
    },
    "scrolled": true,
    "slideshow": {
     "slide_type": "-"
    },
    "tags": []
   },
   "outputs": [
    {
     "name": "stdout",
     "output_type": "stream",
     "text": [
      "\u001b[1m\u001b[32mSuccess: no issues found in 1 source file\u001b[m\n",
      "\n"
     ]
    }
   ],
   "source": [
    "%%typecheck\n",
    "# Override c понижением типа возвращаемого значения\n",
    "\n",
    "class A:\n",
    "    def am(self, a: int) -> float:\n",
    "        return float(a)\n",
    "\n",
    "class B(A):\n",
    "    def am(self, a: int) -> int:\n",
    "        return a\n",
    "\n",
    "def f(p: A) -> None:\n",
    "    print(p.am(1))\n",
    "\n",
    "f(A())\n",
    "f(B())"
   ]
  },
  {
   "cell_type": "markdown",
   "metadata": {
    "slideshow": {
     "slide_type": "slide"
    },
    "tags": []
   },
   "source": [
    "### Наследование, переопределение методов, возвращаемое значение, ч2"
   ]
  },
  {
   "cell_type": "code",
   "execution_count": 35,
   "metadata": {
    "cell_style": "split",
    "collapsed": true,
    "jupyter": {
     "outputs_hidden": true
    },
    "pycharm": {
     "name": "#%%\n"
    },
    "slideshow": {
     "slide_type": "-"
    },
    "tags": []
   },
   "outputs": [
    {
     "name": "stdout",
     "output_type": "stream",
     "text": [
      "<string>:9: \u001b[1m\u001b[31merror:\u001b[m Return type \u001b[m\u001b[1m\"float\"\u001b[m of \u001b[m\u001b[1m\"am\"\u001b[m incompatible with return type \u001b[m\u001b[1m\"int\"\u001b[m in supertype \u001b[m\u001b[1m\"A\"\u001b[m  \u001b[m\u001b[33m[override]\u001b[m\n",
      "\u001b[1m\u001b[31mFound 1 error in 1 file (checked 1 source file)\u001b[m\n",
      "\n"
     ]
    }
   ],
   "source": [
    "%%typecheck\n",
    "# Override c понижением типа возвращаемого значения\n",
    "\n",
    "class A:\n",
    "    def am(self, a: int) -> int:\n",
    "        return a\n",
    "\n",
    "class B(A):\n",
    "    def am(self, a: int) -> float:\n",
    "        return float(a)\n",
    "\n",
    "def f(p: A) -> None:\n",
    "    b = p.am(1)\n",
    "    b >> 1\n",
    "\n",
    "f(A())\n",
    "f(B())"
   ]
  },
  {
   "cell_type": "markdown",
   "metadata": {},
   "source": [
    "### Наследование, изменение числа аргументов, ч1"
   ]
  },
  {
   "cell_type": "code",
   "execution_count": 36,
   "metadata": {
    "collapsed": true,
    "jupyter": {
     "outputs_hidden": true
    },
    "scrolled": true
   },
   "outputs": [
    {
     "name": "stdout",
     "output_type": "stream",
     "text": [
      "<string>:9: \u001b[1m\u001b[31merror:\u001b[m Signature of \u001b[m\u001b[1m\"am\"\u001b[m incompatible with supertype \u001b[m\u001b[1m\"A\"\u001b[m  \u001b[m\u001b[33m[override]\u001b[m\n",
      "<string>:9: \u001b[34mnote:\u001b[m      Superclass:\u001b[m\n",
      "<string>:9: \u001b[34mnote:\u001b[m          def am(self, a: int) -> int\u001b[m\n",
      "<string>:9: \u001b[34mnote:\u001b[m      Subclass:\u001b[m\n",
      "<string>:9: \u001b[34mnote:\u001b[m          def am(self, a: int, b: int) -> int\u001b[m\n",
      "\u001b[1m\u001b[31mFound 1 error in 1 file (checked 1 source file)\u001b[m\n",
      "\n"
     ]
    }
   ],
   "source": [
    "%%typecheck\n",
    "# Override c добавлением обязательного аргумента\n",
    "\n",
    "class A:\n",
    "    def am(self, a: int) -> int:\n",
    "        return a\n",
    "\n",
    "class B(A):\n",
    "    def am(self, a: int, b: int) -> int:\n",
    "        return a\n",
    "\n",
    "def f(p: A) -> None:\n",
    "    b = p.am(1)\n",
    "    b >> 1\n",
    "\n",
    "f(A())\n",
    "f(B())"
   ]
  },
  {
   "cell_type": "markdown",
   "metadata": {},
   "source": [
    "### Наследование, изменение числа аргументов, ч2"
   ]
  },
  {
   "cell_type": "code",
   "execution_count": 37,
   "metadata": {
    "collapsed": true,
    "jupyter": {
     "outputs_hidden": true
    },
    "scrolled": true
   },
   "outputs": [
    {
     "name": "stdout",
     "output_type": "stream",
     "text": [
      "\u001b[1m\u001b[32mSuccess: no issues found in 1 source file\u001b[m\n",
      "\n"
     ]
    }
   ],
   "source": [
    "%%typecheck\n",
    "# Override c добавлением необязательного аргумента\n",
    "\n",
    "class A:\n",
    "    def am(self, a: int) -> int:\n",
    "        return a\n",
    "\n",
    "class B(A):\n",
    "    def am(self, a: int, b: int = 0) -> int:\n",
    "        return a\n",
    "\n",
    "def f(p: A) -> None:\n",
    "    b = p.am(1)\n",
    "    b >> 1\n",
    "\n",
    "f(A())\n",
    "f(B())"
   ]
  },
  {
   "cell_type": "markdown",
   "metadata": {},
   "source": [
    "### Наследование, изменение числа аргументов, ч3"
   ]
  },
  {
   "cell_type": "code",
   "execution_count": 38,
   "metadata": {
    "collapsed": true,
    "jupyter": {
     "outputs_hidden": true
    },
    "scrolled": true
   },
   "outputs": [
    {
     "name": "stdout",
     "output_type": "stream",
     "text": [
      "<string>:9: \u001b[1m\u001b[31merror:\u001b[m Signature of \u001b[m\u001b[1m\"am\"\u001b[m incompatible with supertype \u001b[m\u001b[1m\"A\"\u001b[m  \u001b[m\u001b[33m[override]\u001b[m\n",
      "<string>:9: \u001b[34mnote:\u001b[m      Superclass:\u001b[m\n",
      "<string>:9: \u001b[34mnote:\u001b[m          def am(self, a: int, b: int) -> int\u001b[m\n",
      "<string>:9: \u001b[34mnote:\u001b[m      Subclass:\u001b[m\n",
      "<string>:9: \u001b[34mnote:\u001b[m          def am(self, a: int) -> int\u001b[m\n",
      "<string>:13: \u001b[1m\u001b[31merror:\u001b[m Missing positional argument \u001b[m\u001b[1m\"b\"\u001b[m in call to \u001b[m\u001b[1m\"am\"\u001b[m of \u001b[m\u001b[1m\"A\"\u001b[m  \u001b[m\u001b[33m[call-arg]\u001b[m\n",
      "\u001b[1m\u001b[31mFound 2 errors in 1 file (checked 1 source file)\u001b[m\n",
      "\n"
     ]
    }
   ],
   "source": [
    "%%typecheck\n",
    "# Override c удалением обязательного аргумента\n",
    "\n",
    "class A:\n",
    "    def am(self, a: int, b: int) -> int:\n",
    "        return a + b\n",
    "\n",
    "class B(A):\n",
    "    def am(self, a: int) -> int:\n",
    "        return a\n",
    "\n",
    "def f(p: A) -> None:\n",
    "    b = p.am(1)\n",
    "    b >> 1\n",
    "\n",
    "f(A())\n",
    "f(B())"
   ]
  },
  {
   "cell_type": "markdown",
   "metadata": {},
   "source": [
    "### Наследование, изменение числа аргументов, ч4"
   ]
  },
  {
   "cell_type": "code",
   "execution_count": 39,
   "metadata": {
    "collapsed": true,
    "jupyter": {
     "outputs_hidden": true
    }
   },
   "outputs": [
    {
     "name": "stdout",
     "output_type": "stream",
     "text": [
      "<string>:9: \u001b[1m\u001b[31merror:\u001b[m Signature of \u001b[m\u001b[1m\"am\"\u001b[m incompatible with supertype \u001b[m\u001b[1m\"A\"\u001b[m  \u001b[m\u001b[33m[override]\u001b[m\n",
      "<string>:9: \u001b[34mnote:\u001b[m      Superclass:\u001b[m\n",
      "<string>:9: \u001b[34mnote:\u001b[m          def am(self, a: int, b: int = ...) -> int\u001b[m\n",
      "<string>:9: \u001b[34mnote:\u001b[m      Subclass:\u001b[m\n",
      "<string>:9: \u001b[34mnote:\u001b[m          def am(self, a: int) -> int\u001b[m\n",
      "\u001b[1m\u001b[31mFound 1 error in 1 file (checked 1 source file)\u001b[m\n",
      "\n"
     ]
    }
   ],
   "source": [
    "%%typecheck\n",
    "# Override c удалением необязательного аргумента\n",
    "\n",
    "class A:\n",
    "    def am(self, a: int, b: int = 0) -> int:\n",
    "        return a + b\n",
    "\n",
    "class B(A):\n",
    "    def am(self, a: int) -> int:\n",
    "        return a\n",
    "\n",
    "def f(p: A) -> None:\n",
    "    b = p.am(1)\n",
    "    b >> 1\n",
    "\n",
    "f(A())\n",
    "f(B())"
   ]
  },
  {
   "cell_type": "markdown",
   "metadata": {},
   "source": [
    "### Наследование, изменение числа аргументов, ч5"
   ]
  },
  {
   "cell_type": "code",
   "execution_count": 40,
   "metadata": {
    "collapsed": true,
    "jupyter": {
     "outputs_hidden": true
    },
    "scrolled": true
   },
   "outputs": [
    {
     "name": "stdout",
     "output_type": "stream",
     "text": [
      "\u001b[1m\u001b[32mSuccess: no issues found in 1 source file\u001b[m\n",
      "\n"
     ]
    }
   ],
   "source": [
    "%%typecheck\n",
    "# Override c заданием значения по умолчанию для аргумента\n",
    "\n",
    "class A:\n",
    "    def am(self, a: int, b: int) -> int:\n",
    "        return a + b\n",
    "\n",
    "class B(A):\n",
    "    def am(self, a: int, b: int = 0) -> int:\n",
    "        return a + b\n",
    "\n",
    "def f(p: A) -> None:\n",
    "    b = p.am(1, 2)\n",
    "    b >> 1\n",
    "\n",
    "f(A())\n",
    "f(B())"
   ]
  },
  {
   "cell_type": "markdown",
   "metadata": {},
   "source": [
    "## Полезные типы\n",
    "\n",
    "- [TypedDict](https://docs.python.org/3.12/library/typing.html#typing.TypedDict) from 3.8\n",
    "- [Unpack](https://docs.python.org/3.12/library/typing.html#typing.Unpack) from 3.11\n",
    "- [Literal](https://docs.python.org/3.12/library/typing.html#typing.Literal) from 3.8\n",
    "- [Self](https://docs.python.org/3.12/library/typing.html#typing.Self) from 3.11"
   ]
  },
  {
   "cell_type": "markdown",
   "metadata": {},
   "source": [
    "### TypedDict - general"
   ]
  },
  {
   "cell_type": "code",
   "execution_count": 42,
   "metadata": {},
   "outputs": [],
   "source": [
    "from typing import TypedDict\n",
    "\n",
    "class Point2D(TypedDict):\n",
    "    x: int\n",
    "    y: int\n",
    "    label: str\n",
    "\n",
    "a: Point2D = {'x': 1, 'y': 2, 'label': 'good'}  # OK\n",
    "b: Point2D = {'z': 3, 'label': 'bad'}           # Fails type check\n",
    "\n",
    "assert Point2D(x=1, y=2, label='first') == dict(x=1, y=2, label='first')"
   ]
  },
  {
   "cell_type": "code",
   "execution_count": 43,
   "metadata": {
    "collapsed": true,
    "jupyter": {
     "outputs_hidden": true
    }
   },
   "outputs": [
    {
     "name": "stdout",
     "output_type": "stream",
     "text": [
      "<string>:10: \u001b[1m\u001b[31merror:\u001b[m Missing keys (\u001b[m\u001b[1m\"x\"\u001b[m, \u001b[m\u001b[1m\"y\"\u001b[m) for TypedDict \u001b[m\u001b[1m\"Point2D\"\u001b[m  \u001b[m\u001b[33m[typeddict-item]\u001b[m\n",
      "<string>:10: \u001b[1m\u001b[31merror:\u001b[m Extra key \u001b[m\u001b[1m\"z\"\u001b[m for TypedDict \u001b[m\u001b[1m\"Point2D\"\u001b[m  \u001b[m\u001b[33m[typeddict-unknown-key]\u001b[m\n",
      "\u001b[1m\u001b[31mFound 2 errors in 1 file (checked 1 source file)\u001b[m\n",
      "\n"
     ]
    }
   ],
   "source": [
    "%%typecheck\n",
    "from typing import TypedDict\n",
    "\n",
    "class Point2D(TypedDict):\n",
    "    x: int\n",
    "    y: int\n",
    "    label: str\n",
    "\n",
    "a: Point2D = {'x': 1, 'y': 2, 'label': 'good'}\n",
    "b: Point2D = {'z': 3, 'label': 'bad'}\n",
    "\n",
    "assert Point2D(x=1, y=2, label='first') == dict(x=1, y=2, label='first')"
   ]
  },
  {
   "cell_type": "markdown",
   "metadata": {},
   "source": [
    "### TypedDict - Required, NotRequired, total"
   ]
  },
  {
   "cell_type": "code",
   "execution_count": 45,
   "metadata": {
    "collapsed": true,
    "jupyter": {
     "outputs_hidden": true
    }
   },
   "outputs": [
    {
     "name": "stdout",
     "output_type": "stream",
     "text": [
      "<string>:10: \u001b[1m\u001b[31merror:\u001b[m Missing key \u001b[m\u001b[1m\"x\"\u001b[m for TypedDict \u001b[m\u001b[1m\"Point2D\"\u001b[m  \u001b[m\u001b[33m[typeddict-item]\u001b[m\n",
      "\u001b[1m\u001b[31mFound 1 error in 1 file (checked 1 source file)\u001b[m\n",
      "\n"
     ]
    }
   ],
   "source": [
    "%%typecheck\n",
    "from typing import TypedDict, NotRequired\n",
    "\n",
    "class Point2D(TypedDict):\n",
    "    x: int\n",
    "    y: NotRequired[int]\n",
    "    label: str\n",
    "\n",
    "a: Point2D = {'x': 1, 'label': 'good'}\n",
    "b: Point2D = {'y': 3, 'label': 'bad'}\n"
   ]
  },
  {
   "cell_type": "code",
   "execution_count": 48,
   "metadata": {
    "collapsed": true,
    "jupyter": {
     "outputs_hidden": true
    }
   },
   "outputs": [
    {
     "name": "stdout",
     "output_type": "stream",
     "text": [
      "<string>:11: \u001b[1m\u001b[31merror:\u001b[m Extra key \u001b[m\u001b[1m\"z\"\u001b[m for TypedDict \u001b[m\u001b[1m\"Point2D\"\u001b[m  \u001b[m\u001b[33m[typeddict-unknown-key]\u001b[m\n",
      "\u001b[1m\u001b[31mFound 1 error in 1 file (checked 1 source file)\u001b[m\n",
      "\n"
     ]
    }
   ],
   "source": [
    "%%typecheck\n",
    "from typing import TypedDict, Required\n",
    "\n",
    "class Point2D(TypedDict, total=False):\n",
    "    x: int\n",
    "    y: int\n",
    "    label: str\n",
    "\n",
    "a: Point2D = {'x': 1, 'label': 'good'}\n",
    "b: Point2D = {'y': 3, 'label': 'bad'}\n",
    "c: Point2D = {'z': 3, 'label': 'bad'}\n"
   ]
  },
  {
   "cell_type": "code",
   "execution_count": 49,
   "metadata": {
    "collapsed": true,
    "jupyter": {
     "outputs_hidden": true
    }
   },
   "outputs": [
    {
     "name": "stdout",
     "output_type": "stream",
     "text": [
      "<string>:10: \u001b[1m\u001b[31merror:\u001b[m Missing key \u001b[m\u001b[1m\"x\"\u001b[m for TypedDict \u001b[m\u001b[1m\"Point2D\"\u001b[m  \u001b[m\u001b[33m[typeddict-item]\u001b[m\n",
      "<string>:11: \u001b[1m\u001b[31merror:\u001b[m Missing key \u001b[m\u001b[1m\"x\"\u001b[m for TypedDict \u001b[m\u001b[1m\"Point2D\"\u001b[m  \u001b[m\u001b[33m[typeddict-item]\u001b[m\n",
      "<string>:11: \u001b[1m\u001b[31merror:\u001b[m Extra key \u001b[m\u001b[1m\"z\"\u001b[m for TypedDict \u001b[m\u001b[1m\"Point2D\"\u001b[m  \u001b[m\u001b[33m[typeddict-unknown-key]\u001b[m\n",
      "\u001b[1m\u001b[31mFound 3 errors in 1 file (checked 1 source file)\u001b[m\n",
      "\n"
     ]
    }
   ],
   "source": [
    "%%typecheck\n",
    "from typing import TypedDict, Required\n",
    "\n",
    "class Point2D(TypedDict, total=False):\n",
    "    x: Required[int]\n",
    "    y: int\n",
    "    label: str\n",
    "\n",
    "a: Point2D = {'x': 1, 'label': 'good'}\n",
    "b: Point2D = {'y': 3, 'label': 'bad'}\n",
    "c: Point2D = {'z': 3, 'label': 'bad'}\n"
   ]
  },
  {
   "cell_type": "markdown",
   "metadata": {},
   "source": [
    "### Unpack with TypedDict"
   ]
  },
  {
   "cell_type": "code",
   "execution_count": 67,
   "metadata": {
    "collapsed": true,
    "jupyter": {
     "outputs_hidden": true
    }
   },
   "outputs": [
    {
     "name": "stdout",
     "output_type": "stream",
     "text": [
      "<string>:10: \u001b[34mnote:\u001b[m \u001b[m\u001b[1m\"foo\"\u001b[m defined here\u001b[m\n",
      "<string>:19: \u001b[1m\u001b[31merror:\u001b[m Unexpected keyword argument \u001b[m\u001b[1m\"actor\"\u001b[m for \u001b[m\u001b[1m\"foo\"\u001b[m  \u001b[m\u001b[33m[call-arg]\u001b[m\n",
      "\u001b[1m\u001b[31mFound 1 error in 1 file (checked 1 source file)\u001b[m\n",
      "\n"
     ]
    }
   ],
   "source": [
    "%%typecheck\n",
    "from typing import TypedDict, Unpack, NotRequired\n",
    "\n",
    "class Movie(TypedDict):\n",
    "    name: str\n",
    "    year: int\n",
    "    producer: NotRequired[str]\n",
    "\n",
    "\n",
    "def foo(**kwargs: Unpack[Movie]) -> None:\n",
    "    print(f\"The movie called {kwargs['name']} was filmed in {kwargs['year']}\", end=\"\")\n",
    "    if \"producer\" in kwargs:\n",
    "        print(f\" by {kwargs['producer']}\")\n",
    "    else:\n",
    "        print()\n",
    "\n",
    "foo(name=\"Matrix\", year=1999)\n",
    "foo(name=\"Matrix\", year=1999, producer=\"Joel Silver\")\n",
    "foo(name=\"Matrix\", year=1999, actor=\"Kiano Rives\")"
   ]
  },
  {
   "cell_type": "markdown",
   "metadata": {},
   "source": [
    "### Literal\n",
    "\n",
    "Когда хотите проверить, что передан правильный флажок"
   ]
  },
  {
   "cell_type": "code",
   "execution_count": 68,
   "metadata": {
    "collapsed": true,
    "jupyter": {
     "outputs_hidden": true
    }
   },
   "outputs": [
    {
     "name": "stdout",
     "output_type": "stream",
     "text": [
      "<string>:9: \u001b[1m\u001b[31merror:\u001b[m Argument 1 to \u001b[m\u001b[1m\"f\"\u001b[m has incompatible type \u001b[m\u001b[1m\"Literal['w']\"\u001b[m; expected \u001b[m\u001b[1m\"Literal['r', 'r+']\"\u001b[m  \u001b[m\u001b[33m[arg-type]\u001b[m\n",
      "<string>:11: \u001b[1m\u001b[31merror:\u001b[m Argument 1 to \u001b[m\u001b[1m\"f\"\u001b[m has incompatible type \u001b[m\u001b[1m\"str\"\u001b[m; expected \u001b[m\u001b[1m\"Literal['r', 'r+']\"\u001b[m  \u001b[m\u001b[33m[arg-type]\u001b[m\n",
      "<string>:12: \u001b[1m\u001b[31merror:\u001b[m Incompatible types in assignment (expression has type \u001b[m\u001b[1m\"str\"\u001b[m, variable has type \u001b[m\u001b[1m\"Literal['r']\"\u001b[m)  \u001b[m\u001b[33m[assignment]\u001b[m\n",
      "\u001b[1m\u001b[31mFound 3 errors in 1 file (checked 1 source file)\u001b[m\n",
      "\n"
     ]
    }
   ],
   "source": [
    "%%typecheck\n",
    "from typing import Literal\n",
    "\n",
    "\n",
    "def f(mode: Literal[\"r\", \"r+\"]) -> None:\n",
    "    pass\n",
    "\n",
    "f(\"r\")\n",
    "f(\"w\")\n",
    "a = \"r\"\n",
    "f(a)\n",
    "b: Literal[\"r\"] = a\n",
    "f(b)"
   ]
  },
  {
   "cell_type": "code",
   "execution_count": 54,
   "metadata": {
    "collapsed": true,
    "jupyter": {
     "outputs_hidden": true
    }
   },
   "outputs": [
    {
     "name": "stdout",
     "output_type": "stream",
     "text": [
      "<string>:9: \u001b[1m\u001b[31merror:\u001b[m Argument 1 to \u001b[m\u001b[1m\"f\"\u001b[m has incompatible type \u001b[m\u001b[1m\"str\"\u001b[m; expected \u001b[m\u001b[1m\"Literal['r', 'r+']\"\u001b[m  \u001b[m\u001b[33m[arg-type]\u001b[m\n",
      "\u001b[1m\u001b[31mFound 1 error in 1 file (checked 1 source file)\u001b[m\n",
      "\n"
     ]
    }
   ],
   "source": [
    "%%typecheck\n",
    "from typing import Literal\n",
    "\n",
    "\n",
    "def f(mode: Literal[\"r\", \"r+\"]) -> None:\n",
    "    pass\n",
    "\n",
    "def g(mode: str) -> None:\n",
    "    f(mode)\n",
    "\n",
    "def h(mode: Literal[\"r\"]) -> None:\n",
    "    f(mode)\n",
    "    g(mode)\n",
    "\n",
    "g(\"r\")\n",
    "h(\"r\")\n"
   ]
  },
  {
   "cell_type": "markdown",
   "metadata": {},
   "source": [
    "### Self"
   ]
  },
  {
   "cell_type": "code",
   "execution_count": 74,
   "metadata": {
    "collapsed": true,
    "jupyter": {
     "outputs_hidden": true
    }
   },
   "outputs": [
    {
     "name": "stdout",
     "output_type": "stream",
     "text": [
      "<string>:16: \u001b[34mnote:\u001b[m Revealed type is \u001b[m\u001b[1m\"__main__.Config\"\u001b[m\u001b[m\n",
      "<string>:17: \u001b[34mnote:\u001b[m Revealed type is \u001b[m\u001b[1m\"__main__.DevConfig\"\u001b[m\u001b[m\n",
      "\u001b[1m\u001b[32mSuccess: no issues found in 1 source file\u001b[m\n",
      "\n"
     ]
    }
   ],
   "source": [
    "%%typecheck\n",
    "from dataclasses import dataclass\n",
    "from typing import Self\n",
    "\n",
    "@dataclass\n",
    "class Config:\n",
    "    url: str\n",
    "    port: int\n",
    "\n",
    "    @classmethod\n",
    "    def create_default(cls) -> Self:\n",
    "        return cls(url=\"https://example.com\", port=443)\n",
    "\n",
    "class DevConfig(Config): pass\n",
    "\n",
    "reveal_type(Config.create_default())\n",
    "reveal_type(DevConfig.create_default())"
   ]
  },
  {
   "cell_type": "markdown",
   "metadata": {
    "slideshow": {
     "slide_type": "slide"
    },
    "tags": []
   },
   "source": [
    "# спасибо за внимание!"
   ]
  },
  {
   "cell_type": "markdown",
   "metadata": {
    "slideshow": {
     "slide_type": "-"
    },
    "tags": []
   },
   "source": [
    "<center><img src=\"images/zeon.jpg\" width=700px/></center>"
   ]
  },
  {
   "cell_type": "code",
   "execution_count": null,
   "metadata": {
    "slideshow": {
     "slide_type": ""
    },
    "tags": []
   },
   "outputs": [],
   "source": []
  }
 ],
 "metadata": {
  "celltoolbar": "Slideshow",
  "kernelspec": {
   "display_name": "Python 3 (ipykernel)",
   "language": "python",
   "name": "python3"
  },
  "language_info": {
   "codemirror_mode": {
    "name": "ipython",
    "version": 3
   },
   "file_extension": ".py",
   "mimetype": "text/x-python",
   "name": "python",
   "nbconvert_exporter": "python",
   "pygments_lexer": "ipython3",
   "version": "3.12.5"
  },
  "rise": {
   "enable_chalkboard": true,
   "footer": "<p style=\"margin: 5px; color: #a0a0a0\">YSDA Python Course</p>",
   "scroll": true,
   "start_slideshow_at": "selected",
   "theme": "serif",
   "transition": "none"
  }
 },
 "nbformat": 4,
 "nbformat_minor": 4
}
